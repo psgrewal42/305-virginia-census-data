{
 "cells": [
  {
   "cell_type": "markdown",
   "metadata": {
    "colab_type": "text",
    "id": "JjDSAUUojpbv"
   },
   "source": [
    "## Virginia Counties\n",
    "#### Exploratory Data Analysis"
   ]
  },
  {
   "cell_type": "markdown",
   "metadata": {
    "colab_type": "text",
    "id": "1xDv_qb3jpbx"
   },
   "source": [
    "https://www.kaggle.com/muonneutrino/us-census-demographic-data/download"
   ]
  },
  {
   "cell_type": "code",
   "execution_count": 1,
   "metadata": {
    "colab": {},
    "colab_type": "code",
    "id": "OuF8FIldjpby"
   },
   "outputs": [],
   "source": [
    "import pandas as pd\n",
    "import numpy as np\n",
    "import os\n",
    "import shapely\n",
    "import shapefile\n",
    "import geopandas\n",
    "import plotly\n",
    "from plotly.figure_factory._county_choropleth import create_choropleth\n",
    "import xlrd"
   ]
  },
  {
   "cell_type": "code",
   "execution_count": 2,
   "metadata": {
    "colab": {
     "base_uri": "https://localhost:8080/",
     "height": 17
    },
    "colab_type": "code",
    "id": "IV3889bhjpb0",
    "outputId": "d1053766-8d85-400d-bdaf-af0149b381bb"
   },
   "outputs": [
    {
     "data": {
      "text/html": [
       "        <script type=\"text/javascript\">\n",
       "        window.PlotlyConfig = {MathJaxConfig: 'local'};\n",
       "        if (window.MathJax) {MathJax.Hub.Config({SVG: {font: \"STIX-Web\"}});}\n",
       "        if (typeof require !== 'undefined') {\n",
       "        require.undef(\"plotly\");\n",
       "        requirejs.config({\n",
       "            paths: {\n",
       "                'plotly': ['https://cdn.plot.ly/plotly-2.9.0.min']\n",
       "            }\n",
       "        });\n",
       "        require(['plotly'], function(Plotly) {\n",
       "            window._Plotly = Plotly;\n",
       "        });\n",
       "        }\n",
       "        </script>\n",
       "        "
      ]
     },
     "metadata": {},
     "output_type": "display_data"
    }
   ],
   "source": [
    "import plotly as py\n",
    "import plotly.graph_objs as go\n",
    "# from plotly.graph_objs import *\n",
    "from plotly.offline import download_plotlyjs, init_notebook_mode, plot, iplot\n",
    "init_notebook_mode(connected=True)"
   ]
  },
  {
   "cell_type": "code",
   "execution_count": 3,
   "metadata": {
    "colab": {
     "base_uri": "https://localhost:8080/",
     "height": 34
    },
    "colab_type": "code",
    "id": "YNuB03sbtN_Y",
    "outputId": "78a65007-d7ed-4fa2-c07d-f855ff3ddfa8"
   },
   "outputs": [
    {
     "name": "stdout",
     "output_type": "stream",
     "text": [
      "New York is for Python lovers!\n"
     ]
    }
   ],
   "source": [
    "print('New York is for Python lovers!')"
   ]
  },
  {
   "cell_type": "code",
   "execution_count": 4,
   "metadata": {
    "colab": {
     "base_uri": "https://localhost:8080/",
     "height": 213
    },
    "colab_type": "code",
    "id": "uF7o_lKUjpb3",
    "outputId": "3f4d74a0-2e90-47a9-fada-34c744a3d149"
   },
   "outputs": [
    {
     "data": {
      "text/html": [
       "<div>\n",
       "<style scoped>\n",
       "    .dataframe tbody tr th:only-of-type {\n",
       "        vertical-align: middle;\n",
       "    }\n",
       "\n",
       "    .dataframe tbody tr th {\n",
       "        vertical-align: top;\n",
       "    }\n",
       "\n",
       "    .dataframe thead th {\n",
       "        text-align: right;\n",
       "    }\n",
       "</style>\n",
       "<table border=\"1\" class=\"dataframe\">\n",
       "  <thead>\n",
       "    <tr style=\"text-align: right;\">\n",
       "      <th></th>\n",
       "      <th>CountyId</th>\n",
       "      <th>State</th>\n",
       "      <th>County</th>\n",
       "      <th>TotalPop</th>\n",
       "      <th>Men</th>\n",
       "      <th>Women</th>\n",
       "      <th>Hispanic</th>\n",
       "      <th>White</th>\n",
       "      <th>Black</th>\n",
       "      <th>Native</th>\n",
       "      <th>...</th>\n",
       "      <th>Walk</th>\n",
       "      <th>OtherTransp</th>\n",
       "      <th>WorkAtHome</th>\n",
       "      <th>MeanCommute</th>\n",
       "      <th>Employed</th>\n",
       "      <th>PrivateWork</th>\n",
       "      <th>PublicWork</th>\n",
       "      <th>SelfEmployed</th>\n",
       "      <th>FamilyWork</th>\n",
       "      <th>Unemployment</th>\n",
       "    </tr>\n",
       "  </thead>\n",
       "  <tbody>\n",
       "    <tr>\n",
       "      <th>1319</th>\n",
       "      <td>27011</td>\n",
       "      <td>Minnesota</td>\n",
       "      <td>Big Stone County</td>\n",
       "      <td>5039</td>\n",
       "      <td>2489</td>\n",
       "      <td>2550</td>\n",
       "      <td>1.4</td>\n",
       "      <td>98.0</td>\n",
       "      <td>0.3</td>\n",
       "      <td>0.0</td>\n",
       "      <td>...</td>\n",
       "      <td>4.3</td>\n",
       "      <td>0.6</td>\n",
       "      <td>7.5</td>\n",
       "      <td>17.5</td>\n",
       "      <td>2388</td>\n",
       "      <td>70.7</td>\n",
       "      <td>17.0</td>\n",
       "      <td>11.9</td>\n",
       "      <td>0.3</td>\n",
       "      <td>2.8</td>\n",
       "    </tr>\n",
       "    <tr>\n",
       "      <th>1408</th>\n",
       "      <td>28015</td>\n",
       "      <td>Mississippi</td>\n",
       "      <td>Carroll County</td>\n",
       "      <td>10221</td>\n",
       "      <td>5157</td>\n",
       "      <td>5064</td>\n",
       "      <td>0.5</td>\n",
       "      <td>64.3</td>\n",
       "      <td>33.5</td>\n",
       "      <td>0.1</td>\n",
       "      <td>...</td>\n",
       "      <td>1.3</td>\n",
       "      <td>0.0</td>\n",
       "      <td>1.6</td>\n",
       "      <td>28.8</td>\n",
       "      <td>3737</td>\n",
       "      <td>71.9</td>\n",
       "      <td>18.3</td>\n",
       "      <td>9.3</td>\n",
       "      <td>0.5</td>\n",
       "      <td>7.0</td>\n",
       "    </tr>\n",
       "    <tr>\n",
       "      <th>1043</th>\n",
       "      <td>21101</td>\n",
       "      <td>Kentucky</td>\n",
       "      <td>Henderson County</td>\n",
       "      <td>46252</td>\n",
       "      <td>22409</td>\n",
       "      <td>23843</td>\n",
       "      <td>2.4</td>\n",
       "      <td>87.0</td>\n",
       "      <td>7.1</td>\n",
       "      <td>0.1</td>\n",
       "      <td>...</td>\n",
       "      <td>1.6</td>\n",
       "      <td>0.8</td>\n",
       "      <td>2.4</td>\n",
       "      <td>20.8</td>\n",
       "      <td>20942</td>\n",
       "      <td>82.3</td>\n",
       "      <td>13.1</td>\n",
       "      <td>4.4</td>\n",
       "      <td>0.1</td>\n",
       "      <td>4.8</td>\n",
       "    </tr>\n",
       "  </tbody>\n",
       "</table>\n",
       "<p>3 rows × 37 columns</p>\n",
       "</div>"
      ],
      "text/plain": [
       "      CountyId        State            County  TotalPop    Men  Women  \\\n",
       "1319     27011    Minnesota  Big Stone County      5039   2489   2550   \n",
       "1408     28015  Mississippi    Carroll County     10221   5157   5064   \n",
       "1043     21101     Kentucky  Henderson County     46252  22409  23843   \n",
       "\n",
       "      Hispanic  White  Black  Native  ...  Walk  OtherTransp  WorkAtHome  \\\n",
       "1319       1.4   98.0    0.3     0.0  ...   4.3          0.6         7.5   \n",
       "1408       0.5   64.3   33.5     0.1  ...   1.3          0.0         1.6   \n",
       "1043       2.4   87.0    7.1     0.1  ...   1.6          0.8         2.4   \n",
       "\n",
       "      MeanCommute  Employed  PrivateWork  PublicWork  SelfEmployed  \\\n",
       "1319         17.5      2388         70.7        17.0          11.9   \n",
       "1408         28.8      3737         71.9        18.3           9.3   \n",
       "1043         20.8     20942         82.3        13.1           4.4   \n",
       "\n",
       "      FamilyWork  Unemployment  \n",
       "1319         0.3           2.8  \n",
       "1408         0.5           7.0  \n",
       "1043         0.1           4.8  \n",
       "\n",
       "[3 rows x 37 columns]"
      ]
     },
     "execution_count": 4,
     "metadata": {},
     "output_type": "execute_result"
    }
   ],
   "source": [
    "# read in the dataset\n",
    "counties = pd.read_csv('https://raw.githubusercontent.com/austinlasseter/dash-virginia-counties/master/resources/acs2017_county_data.csv')\n",
    "counties.sample(3)"
   ]
  },
  {
   "cell_type": "code",
   "execution_count": 5,
   "metadata": {
    "colab": {
     "base_uri": "https://localhost:8080/",
     "height": 51
    },
    "colab_type": "code",
    "id": "FEqQcgOojpb5",
    "outputId": "452ffa51-90e2-48d3-88dd-26717a4d74b8"
   },
   "outputs": [
    {
     "name": "stdout",
     "output_type": "stream",
     "text": [
      "(3220, 37)\n",
      "(62, 37)\n"
     ]
    }
   ],
   "source": [
    "# restrict to Virginia\n",
    "ny = counties.loc[counties['State']=='New York']\n",
    "print(counties.shape)\n",
    "print(ny.shape)"
   ]
  },
  {
   "cell_type": "code",
   "execution_count": 6,
   "metadata": {},
   "outputs": [
    {
     "data": {
      "text/plain": [
       "array(['Alabama', 'Alaska', 'Arizona', 'Arkansas', 'California',\n",
       "       'Colorado', 'Connecticut', 'Delaware', 'District of Columbia',\n",
       "       'Florida', 'Georgia', 'Hawaii', 'Idaho', 'Illinois', 'Indiana',\n",
       "       'Iowa', 'Kansas', 'Kentucky', 'Louisiana', 'Maine', 'Maryland',\n",
       "       'Massachusetts', 'Michigan', 'Minnesota', 'Mississippi',\n",
       "       'Missouri', 'Montana', 'Nebraska', 'Nevada', 'New Hampshire',\n",
       "       'New Jersey', 'New Mexico', 'New York', 'North Carolina',\n",
       "       'North Dakota', 'Ohio', 'Oklahoma', 'Oregon', 'Pennsylvania',\n",
       "       'Rhode Island', 'South Carolina', 'South Dakota', 'Tennessee',\n",
       "       'Texas', 'Utah', 'Vermont', 'Virginia', 'Washington',\n",
       "       'West Virginia', 'Wisconsin', 'Wyoming', 'Puerto Rico'],\n",
       "      dtype=object)"
      ]
     },
     "execution_count": 6,
     "metadata": {},
     "output_type": "execute_result"
    }
   ],
   "source": [
    "counties['State'].unique()"
   ]
  },
  {
   "cell_type": "code",
   "execution_count": 7,
   "metadata": {
    "colab": {
     "base_uri": "https://localhost:8080/",
     "height": 731
    },
    "colab_type": "code",
    "id": "oMWyqlXqjpb7",
    "outputId": "9fa001a0-22d2-4351-8f90-972c7df52331"
   },
   "outputs": [
    {
     "name": "stdout",
     "output_type": "stream",
     "text": [
      "<class 'pandas.core.frame.DataFrame'>\n",
      "RangeIndex: 3220 entries, 0 to 3219\n",
      "Data columns (total 37 columns):\n",
      " #   Column            Non-Null Count  Dtype  \n",
      "---  ------            --------------  -----  \n",
      " 0   CountyId          3220 non-null   int64  \n",
      " 1   State             3220 non-null   object \n",
      " 2   County            3220 non-null   object \n",
      " 3   TotalPop          3220 non-null   int64  \n",
      " 4   Men               3220 non-null   int64  \n",
      " 5   Women             3220 non-null   int64  \n",
      " 6   Hispanic          3220 non-null   float64\n",
      " 7   White             3220 non-null   float64\n",
      " 8   Black             3220 non-null   float64\n",
      " 9   Native            3220 non-null   float64\n",
      " 10  Asian             3220 non-null   float64\n",
      " 11  Pacific           3220 non-null   float64\n",
      " 12  VotingAgeCitizen  3220 non-null   int64  \n",
      " 13  Income            3220 non-null   int64  \n",
      " 14  IncomeErr         3220 non-null   int64  \n",
      " 15  IncomePerCap      3220 non-null   int64  \n",
      " 16  IncomePerCapErr   3220 non-null   int64  \n",
      " 17  Poverty           3220 non-null   float64\n",
      " 18  ChildPoverty      3219 non-null   float64\n",
      " 19  Professional      3220 non-null   float64\n",
      " 20  Service           3220 non-null   float64\n",
      " 21  Office            3220 non-null   float64\n",
      " 22  Construction      3220 non-null   float64\n",
      " 23  Production        3220 non-null   float64\n",
      " 24  Drive             3220 non-null   float64\n",
      " 25  Carpool           3220 non-null   float64\n",
      " 26  Transit           3220 non-null   float64\n",
      " 27  Walk              3220 non-null   float64\n",
      " 28  OtherTransp       3220 non-null   float64\n",
      " 29  WorkAtHome        3220 non-null   float64\n",
      " 30  MeanCommute       3220 non-null   float64\n",
      " 31  Employed          3220 non-null   int64  \n",
      " 32  PrivateWork       3220 non-null   float64\n",
      " 33  PublicWork        3220 non-null   float64\n",
      " 34  SelfEmployed      3220 non-null   float64\n",
      " 35  FamilyWork        3220 non-null   float64\n",
      " 36  Unemployment      3220 non-null   float64\n",
      "dtypes: float64(25), int64(10), object(2)\n",
      "memory usage: 930.9+ KB\n"
     ]
    }
   ],
   "source": [
    "# show a list of variables\n",
    "counties.info()"
   ]
  },
  {
   "cell_type": "markdown",
   "metadata": {
    "colab_type": "text",
    "id": "cnZ2DAmsjpb-"
   },
   "source": [
    "#### Data Dictionary\n",
    "| Varname | Data | \n",
    "|:---:|:---|\n",
    "| CensusTract | Census tract ID |\n",
    "| State | State, DC, or Puerto Rico |\n",
    "|County | County or county equivalent | \n",
    "| Total | PopTotal population | \n",
    "| Men | Number of men |\n",
    "|Women|Number of women |\n",
    "|Hispanic|% of population that is Hispanic/Latino|\n",
    "|White|% of population that is white|\n",
    "|Black|% of population that is black|\n",
    "|Native|% of population that is Native American or Native Alaskan|\n",
    "|Asian|% of population that is Asian|\n",
    "|Pacific|% of population that is Native Hawaiian or Pacific Islander|\n",
    "|Citizen|Number of citizens|\n",
    "|Income|Median household income |\n",
    "|IncomeErr|Median household income error|\n",
    "|IncomePerCap|Income per capita |\n",
    "|IncomePerCapErr|Income per capita error |\n",
    "|Poverty|% under poverty level|\n",
    "|ChildPoverty|% of children under poverty level|\n",
    "|Professional|% employed in management, business, science, and arts|\n",
    "|Service|% employed in service jobs|\n",
    "|Office|% employed in sales and office jobs|\n",
    "|Construction|% employed in natural resources, construction, and maintenance|\n",
    "|Production|% employed in production, transportation, and material movement|\n",
    "|Drive|% commuting alone in a car, van, or truck|\n",
    "|Carpool|% carpooling in a car, van, or truck|\n",
    "|Transit|% commuting on public transportation|\n",
    "|Walk|% walking to work|\n",
    "|OtherTransp|% commuting via other means|\n",
    "|WorkAtHome|% working at home|\n",
    "|MeanCommute|Mean commute time (minutes)|\n",
    "|Employed|Number of employed (16+)|\n",
    "|PrivateWork|% employed in private industry|\n",
    "|PublicWork|% employed in public jobs|\n",
    "|SelfEmployed|% self-employed|\n",
    "|FamilyWork|% in unpaid family work|\n",
    "|Unemployment|Unemployment rate (%)|"
   ]
  },
  {
   "cell_type": "code",
   "execution_count": 8,
   "metadata": {
    "colab": {
     "base_uri": "https://localhost:8080/",
     "height": 153
    },
    "colab_type": "code",
    "id": "vdGOBqK8jpb-",
    "outputId": "31645db9-664c-4efe-9673-ccab51d76f75"
   },
   "outputs": [
    {
     "data": {
      "text/plain": [
       "Index(['CountyId', 'State', 'County', 'TotalPop', 'Men', 'Women', 'Hispanic',\n",
       "       'White', 'Black', 'Native', 'Asian', 'Pacific', 'VotingAgeCitizen',\n",
       "       'Income', 'IncomeErr', 'IncomePerCap', 'IncomePerCapErr', 'Poverty',\n",
       "       'ChildPoverty', 'Professional', 'Service', 'Office', 'Construction',\n",
       "       'Production', 'Drive', 'Carpool', 'Transit', 'Walk', 'OtherTransp',\n",
       "       'WorkAtHome', 'MeanCommute', 'Employed', 'PrivateWork', 'PublicWork',\n",
       "       'SelfEmployed', 'FamilyWork', 'Unemployment'],\n",
       "      dtype='object')"
      ]
     },
     "execution_count": 8,
     "metadata": {},
     "output_type": "execute_result"
    }
   ],
   "source": [
    "counties.columns"
   ]
  },
  {
   "cell_type": "markdown",
   "metadata": {
    "colab_type": "text",
    "id": "aZO3L1SvjpcA"
   },
   "source": [
    "### Rural or Urban?\n",
    "https://www.ers.usda.gov/data-products/rural-urban-continuum-codes/"
   ]
  },
  {
   "cell_type": "code",
   "execution_count": 9,
   "metadata": {
    "colab": {
     "base_uri": "https://localhost:8080/",
     "height": 142
    },
    "colab_type": "code",
    "id": "i_To1i4QjpcB",
    "outputId": "91b087b6-d92c-43a6-ece4-adf38f4ed00c"
   },
   "outputs": [
    {
     "data": {
      "text/html": [
       "<div>\n",
       "<style scoped>\n",
       "    .dataframe tbody tr th:only-of-type {\n",
       "        vertical-align: middle;\n",
       "    }\n",
       "\n",
       "    .dataframe tbody tr th {\n",
       "        vertical-align: top;\n",
       "    }\n",
       "\n",
       "    .dataframe thead th {\n",
       "        text-align: right;\n",
       "    }\n",
       "</style>\n",
       "<table border=\"1\" class=\"dataframe\">\n",
       "  <thead>\n",
       "    <tr style=\"text-align: right;\">\n",
       "      <th></th>\n",
       "      <th>FIPS</th>\n",
       "      <th>State</th>\n",
       "      <th>County_Name</th>\n",
       "      <th>Population_2010</th>\n",
       "      <th>RUCC_2013</th>\n",
       "      <th>Description</th>\n",
       "    </tr>\n",
       "  </thead>\n",
       "  <tbody>\n",
       "    <tr>\n",
       "      <th>1154</th>\n",
       "      <td>22083</td>\n",
       "      <td>LA</td>\n",
       "      <td>Richland Parish</td>\n",
       "      <td>20725</td>\n",
       "      <td>6</td>\n",
       "      <td>Nonmetro - Urban population of 2,500 to 19,999...</td>\n",
       "    </tr>\n",
       "    <tr>\n",
       "      <th>294</th>\n",
       "      <td>8099</td>\n",
       "      <td>CO</td>\n",
       "      <td>Prowers County</td>\n",
       "      <td>12551</td>\n",
       "      <td>7</td>\n",
       "      <td>Nonmetro - Urban population of 2,500 to 19,999...</td>\n",
       "    </tr>\n",
       "    <tr>\n",
       "      <th>864</th>\n",
       "      <td>19151</td>\n",
       "      <td>IA</td>\n",
       "      <td>Pocahontas County</td>\n",
       "      <td>7310</td>\n",
       "      <td>9</td>\n",
       "      <td>Nonmetro - Completely rural or less than 2,500...</td>\n",
       "    </tr>\n",
       "  </tbody>\n",
       "</table>\n",
       "</div>"
      ],
      "text/plain": [
       "       FIPS State        County_Name  Population_2010  RUCC_2013  \\\n",
       "1154  22083    LA    Richland Parish            20725          6   \n",
       "294    8099    CO     Prowers County            12551          7   \n",
       "864   19151    IA  Pocahontas County             7310          9   \n",
       "\n",
       "                                            Description  \n",
       "1154  Nonmetro - Urban population of 2,500 to 19,999...  \n",
       "294   Nonmetro - Urban population of 2,500 to 19,999...  \n",
       "864   Nonmetro - Completely rural or less than 2,500...  "
      ]
     },
     "execution_count": 9,
     "metadata": {},
     "output_type": "execute_result"
    }
   ],
   "source": [
    "# get the USDA county rural-urban codes\n",
    "usda=pd.read_excel('https://github.com/austinlasseter/dash-virginia-counties/raw/master/resources/ruralurbancodes2013.xls')\n",
    "usda.sample(3)"
   ]
  },
  {
   "cell_type": "code",
   "execution_count": 10,
   "metadata": {
    "colab": {
     "base_uri": "https://localhost:8080/",
     "height": 359
    },
    "colab_type": "code",
    "id": "JEg9foJjjpcD",
    "outputId": "c32ac033-9774-43a9-f307-5eef680cb097"
   },
   "outputs": [
    {
     "data": {
      "text/html": [
       "<div>\n",
       "<style scoped>\n",
       "    .dataframe tbody tr th:only-of-type {\n",
       "        vertical-align: middle;\n",
       "    }\n",
       "\n",
       "    .dataframe tbody tr th {\n",
       "        vertical-align: top;\n",
       "    }\n",
       "\n",
       "    .dataframe thead th {\n",
       "        text-align: right;\n",
       "    }\n",
       "</style>\n",
       "<table border=\"1\" class=\"dataframe\">\n",
       "  <thead>\n",
       "    <tr style=\"text-align: right;\">\n",
       "      <th></th>\n",
       "      <th>RUCC_2013</th>\n",
       "      <th>Description</th>\n",
       "    </tr>\n",
       "    <tr>\n",
       "      <th>RUCC_2013</th>\n",
       "      <th></th>\n",
       "      <th></th>\n",
       "    </tr>\n",
       "  </thead>\n",
       "  <tbody>\n",
       "    <tr>\n",
       "      <th>1</th>\n",
       "      <td>1</td>\n",
       "      <td>Metro - Counties in metro areas of 1 million p...</td>\n",
       "    </tr>\n",
       "    <tr>\n",
       "      <th>2</th>\n",
       "      <td>2</td>\n",
       "      <td>Metro - Counties in metro areas of 250,000 to ...</td>\n",
       "    </tr>\n",
       "    <tr>\n",
       "      <th>3</th>\n",
       "      <td>3</td>\n",
       "      <td>Metro - Counties in metro areas of fewer than ...</td>\n",
       "    </tr>\n",
       "    <tr>\n",
       "      <th>4</th>\n",
       "      <td>4</td>\n",
       "      <td>Nonmetro - Urban population of 20,000 or more,...</td>\n",
       "    </tr>\n",
       "    <tr>\n",
       "      <th>5</th>\n",
       "      <td>5</td>\n",
       "      <td>Nonmetro - Urban population of 20,000 or more,...</td>\n",
       "    </tr>\n",
       "    <tr>\n",
       "      <th>6</th>\n",
       "      <td>6</td>\n",
       "      <td>Nonmetro - Urban population of 2,500 to 19,999...</td>\n",
       "    </tr>\n",
       "    <tr>\n",
       "      <th>7</th>\n",
       "      <td>7</td>\n",
       "      <td>Nonmetro - Urban population of 2,500 to 19,999...</td>\n",
       "    </tr>\n",
       "    <tr>\n",
       "      <th>8</th>\n",
       "      <td>8</td>\n",
       "      <td>Nonmetro - Completely rural or less than 2,500...</td>\n",
       "    </tr>\n",
       "    <tr>\n",
       "      <th>9</th>\n",
       "      <td>9</td>\n",
       "      <td>Nonmetro - Completely rural or less than 2,500...</td>\n",
       "    </tr>\n",
       "  </tbody>\n",
       "</table>\n",
       "</div>"
      ],
      "text/plain": [
       "           RUCC_2013                                        Description\n",
       "RUCC_2013                                                              \n",
       "1                  1  Metro - Counties in metro areas of 1 million p...\n",
       "2                  2  Metro - Counties in metro areas of 250,000 to ...\n",
       "3                  3  Metro - Counties in metro areas of fewer than ...\n",
       "4                  4  Nonmetro - Urban population of 20,000 or more,...\n",
       "5                  5  Nonmetro - Urban population of 20,000 or more,...\n",
       "6                  6  Nonmetro - Urban population of 2,500 to 19,999...\n",
       "7                  7  Nonmetro - Urban population of 2,500 to 19,999...\n",
       "8                  8  Nonmetro - Completely rural or less than 2,500...\n",
       "9                  9  Nonmetro - Completely rural or less than 2,500..."
      ]
     },
     "execution_count": 10,
     "metadata": {},
     "output_type": "execute_result"
    }
   ],
   "source": [
    "# what are the codes?\n",
    "usda.groupby('RUCC_2013')[['RUCC_2013','Description']].max()"
   ]
  },
  {
   "cell_type": "code",
   "execution_count": 11,
   "metadata": {
    "colab": {
     "base_uri": "https://localhost:8080/",
     "height": 51
    },
    "colab_type": "code",
    "id": "q9rb-xiljpcF",
    "outputId": "41fb9d9f-9d8f-4c6c-90c9-c41d9d026e54"
   },
   "outputs": [
    {
     "name": "stdout",
     "output_type": "stream",
     "text": [
      "(62, 37)\n",
      "(62, 43)\n"
     ]
    }
   ],
   "source": [
    "# merge with VA data\n",
    "ny2=pd.merge(ny, usda, left_on='CountyId', right_on='FIPS', how='left')\n",
    "print(ny.shape)\n",
    "print(ny2.shape)"
   ]
  },
  {
   "cell_type": "code",
   "execution_count": 12,
   "metadata": {
    "colab": {
     "base_uri": "https://localhost:8080/",
     "height": 187
    },
    "colab_type": "code",
    "id": "aTro3BHjjpcH",
    "outputId": "7b9af5eb-5a39-4273-9f8d-23db73e3dd05"
   },
   "outputs": [
    {
     "data": {
      "text/plain": [
       "1    20\n",
       "2    12\n",
       "4    10\n",
       "6     9\n",
       "3     6\n",
       "7     3\n",
       "5     1\n",
       "8     1\n",
       "Name: RUCC_2013, dtype: int64"
      ]
     },
     "execution_count": 12,
     "metadata": {},
     "output_type": "execute_result"
    }
   ],
   "source": [
    "# what are the counts?\n",
    "ny2['RUCC_2013'].value_counts()\n",
    "#counties2['RUCC_2013'] = counties2['RUCC_2013'].astype(int)\n",
    "#counties2['RUCC_2013'].value_counts()"
   ]
  },
  {
   "cell_type": "code",
   "execution_count": 13,
   "metadata": {
    "colab": {
     "base_uri": "https://localhost:8080/",
     "height": 102
    },
    "colab_type": "code",
    "id": "keecDjL_jpcI",
    "outputId": "c3848e25-6c32-4289-add8-fb668701dfe4"
   },
   "outputs": [
    {
     "data": {
      "text/plain": [
       "urban       20\n",
       "town        20\n",
       "suburban    18\n",
       "rural        4\n",
       "Name: metro, dtype: int64"
      ]
     },
     "execution_count": 13,
     "metadata": {},
     "output_type": "execute_result"
    }
   ],
   "source": [
    "# simplify the rural-urban indicator\n",
    "ny2['metro']=ny2['RUCC_2013'].map({1:'urban', \n",
    "                                   2:'suburban',\n",
    "                                   3:'suburban',\n",
    "                                   4:'town',\n",
    "                                   5:'town',\n",
    "                                   6:'town',\n",
    "                                   7:'rural',\n",
    "                                   8:'rural',\n",
    "                                   9:'rural'})\n",
    "# sort as categories\n",
    "ny2['metro'] = pd.Categorical(ny2['metro'], ['urban', 'suburban', 'town', 'rural'])\n",
    "ny2['metro'].value_counts()"
   ]
  },
  {
   "cell_type": "code",
   "execution_count": 14,
   "metadata": {
    "colab": {
     "base_uri": "https://localhost:8080/",
     "height": 204
    },
    "colab_type": "code",
    "id": "V0dc_-tmjpcK",
    "outputId": "40bc68ac-8811-4c86-d157-74310cf2c730"
   },
   "outputs": [
    {
     "data": {
      "text/html": [
       "<div>\n",
       "<style scoped>\n",
       "    .dataframe tbody tr th:only-of-type {\n",
       "        vertical-align: middle;\n",
       "    }\n",
       "\n",
       "    .dataframe tbody tr th {\n",
       "        vertical-align: top;\n",
       "    }\n",
       "\n",
       "    .dataframe thead th {\n",
       "        text-align: right;\n",
       "    }\n",
       "</style>\n",
       "<table border=\"1\" class=\"dataframe\">\n",
       "  <thead>\n",
       "    <tr style=\"text-align: right;\">\n",
       "      <th></th>\n",
       "      <th>MeanCommute</th>\n",
       "      <th>Drive</th>\n",
       "      <th>Carpool</th>\n",
       "      <th>Transit</th>\n",
       "    </tr>\n",
       "    <tr>\n",
       "      <th>metro</th>\n",
       "      <th></th>\n",
       "      <th></th>\n",
       "      <th></th>\n",
       "      <th></th>\n",
       "    </tr>\n",
       "  </thead>\n",
       "  <tbody>\n",
       "    <tr>\n",
       "      <th>urban</th>\n",
       "      <td>31.360000</td>\n",
       "      <td>64.155000</td>\n",
       "      <td>7.565000</td>\n",
       "      <td>17.355000</td>\n",
       "    </tr>\n",
       "    <tr>\n",
       "      <th>suburban</th>\n",
       "      <td>22.727778</td>\n",
       "      <td>79.533333</td>\n",
       "      <td>8.405556</td>\n",
       "      <td>2.133333</td>\n",
       "    </tr>\n",
       "    <tr>\n",
       "      <th>town</th>\n",
       "      <td>23.410000</td>\n",
       "      <td>80.005000</td>\n",
       "      <td>9.255000</td>\n",
       "      <td>0.855000</td>\n",
       "    </tr>\n",
       "    <tr>\n",
       "      <th>rural</th>\n",
       "      <td>22.500000</td>\n",
       "      <td>76.125000</td>\n",
       "      <td>8.925000</td>\n",
       "      <td>0.975000</td>\n",
       "    </tr>\n",
       "  </tbody>\n",
       "</table>\n",
       "</div>"
      ],
      "text/plain": [
       "          MeanCommute      Drive   Carpool    Transit\n",
       "metro                                                \n",
       "urban       31.360000  64.155000  7.565000  17.355000\n",
       "suburban    22.727778  79.533333  8.405556   2.133333\n",
       "town        23.410000  80.005000  9.255000   0.855000\n",
       "rural       22.500000  76.125000  8.925000   0.975000"
      ]
     },
     "execution_count": 14,
     "metadata": {},
     "output_type": "execute_result"
    }
   ],
   "source": [
    "# are there differences in commuting and transit patterns?\n",
    "ny2.groupby('metro')[['MeanCommute', 'Drive','Carpool','Transit']].mean().sort_index()"
   ]
  },
  {
   "cell_type": "code",
   "execution_count": 15,
   "metadata": {
    "colab": {
     "base_uri": "https://localhost:8080/",
     "height": 204
    },
    "colab_type": "code",
    "id": "_tE_gcd8jpcM",
    "outputId": "0bc445ec-b157-4d6e-c9c3-f4c6172a62ec"
   },
   "outputs": [
    {
     "data": {
      "text/html": [
       "<div>\n",
       "<style scoped>\n",
       "    .dataframe tbody tr th:only-of-type {\n",
       "        vertical-align: middle;\n",
       "    }\n",
       "\n",
       "    .dataframe tbody tr th {\n",
       "        vertical-align: top;\n",
       "    }\n",
       "\n",
       "    .dataframe thead th {\n",
       "        text-align: right;\n",
       "    }\n",
       "</style>\n",
       "<table border=\"1\" class=\"dataframe\">\n",
       "  <thead>\n",
       "    <tr style=\"text-align: right;\">\n",
       "      <th></th>\n",
       "      <th>Income</th>\n",
       "      <th>IncomePerCap</th>\n",
       "      <th>Unemployment</th>\n",
       "      <th>Poverty</th>\n",
       "    </tr>\n",
       "    <tr>\n",
       "      <th>metro</th>\n",
       "      <th></th>\n",
       "      <th></th>\n",
       "      <th></th>\n",
       "      <th></th>\n",
       "    </tr>\n",
       "  </thead>\n",
       "  <tbody>\n",
       "    <tr>\n",
       "      <th>urban</th>\n",
       "      <td>68292.000000</td>\n",
       "      <td>34977.55</td>\n",
       "      <td>6.285000</td>\n",
       "      <td>13.320000</td>\n",
       "    </tr>\n",
       "    <tr>\n",
       "      <th>suburban</th>\n",
       "      <td>56796.611111</td>\n",
       "      <td>29597.50</td>\n",
       "      <td>6.355556</td>\n",
       "      <td>13.827778</td>\n",
       "    </tr>\n",
       "    <tr>\n",
       "      <th>town</th>\n",
       "      <td>51203.100000</td>\n",
       "      <td>26612.80</td>\n",
       "      <td>6.715000</td>\n",
       "      <td>14.600000</td>\n",
       "    </tr>\n",
       "    <tr>\n",
       "      <th>rural</th>\n",
       "      <td>50733.250000</td>\n",
       "      <td>24562.50</td>\n",
       "      <td>8.350000</td>\n",
       "      <td>15.425000</td>\n",
       "    </tr>\n",
       "  </tbody>\n",
       "</table>\n",
       "</div>"
      ],
      "text/plain": [
       "                Income  IncomePerCap  Unemployment    Poverty\n",
       "metro                                                        \n",
       "urban     68292.000000      34977.55      6.285000  13.320000\n",
       "suburban  56796.611111      29597.50      6.355556  13.827778\n",
       "town      51203.100000      26612.80      6.715000  14.600000\n",
       "rural     50733.250000      24562.50      8.350000  15.425000"
      ]
     },
     "execution_count": 15,
     "metadata": {},
     "output_type": "execute_result"
    }
   ],
   "source": [
    "# are there differences in income and poverty?\n",
    "ny2.groupby('metro')[['Income', 'IncomePerCap','Unemployment', 'Poverty']].mean().sort_index()"
   ]
  },
  {
   "cell_type": "code",
   "execution_count": 16,
   "metadata": {
    "colab": {
     "base_uri": "https://localhost:8080/",
     "height": 204
    },
    "colab_type": "code",
    "id": "R-MlthTgjpcO",
    "outputId": "2ffe3dbb-9a3a-4e8c-f7a7-aa80f306bc50"
   },
   "outputs": [
    {
     "data": {
      "text/html": [
       "<div>\n",
       "<style scoped>\n",
       "    .dataframe tbody tr th:only-of-type {\n",
       "        vertical-align: middle;\n",
       "    }\n",
       "\n",
       "    .dataframe tbody tr th {\n",
       "        vertical-align: top;\n",
       "    }\n",
       "\n",
       "    .dataframe thead th {\n",
       "        text-align: right;\n",
       "    }\n",
       "</style>\n",
       "<table border=\"1\" class=\"dataframe\">\n",
       "  <thead>\n",
       "    <tr style=\"text-align: right;\">\n",
       "      <th></th>\n",
       "      <th>White</th>\n",
       "      <th>Black</th>\n",
       "      <th>Hispanic</th>\n",
       "      <th>Asian</th>\n",
       "      <th>Native</th>\n",
       "    </tr>\n",
       "    <tr>\n",
       "      <th>metro</th>\n",
       "      <th></th>\n",
       "      <th></th>\n",
       "      <th></th>\n",
       "      <th></th>\n",
       "      <th></th>\n",
       "    </tr>\n",
       "  </thead>\n",
       "  <tbody>\n",
       "    <tr>\n",
       "      <th>urban</th>\n",
       "      <td>66.550000</td>\n",
       "      <td>10.650</td>\n",
       "      <td>15.195000</td>\n",
       "      <td>5.335000</td>\n",
       "      <td>0.200000</td>\n",
       "    </tr>\n",
       "    <tr>\n",
       "      <th>suburban</th>\n",
       "      <td>86.061111</td>\n",
       "      <td>4.450</td>\n",
       "      <td>4.194444</td>\n",
       "      <td>2.711111</td>\n",
       "      <td>0.227778</td>\n",
       "    </tr>\n",
       "    <tr>\n",
       "      <th>town</th>\n",
       "      <td>89.930000</td>\n",
       "      <td>2.875</td>\n",
       "      <td>4.245000</td>\n",
       "      <td>0.845000</td>\n",
       "      <td>0.390000</td>\n",
       "    </tr>\n",
       "    <tr>\n",
       "      <th>rural</th>\n",
       "      <td>90.800000</td>\n",
       "      <td>2.425</td>\n",
       "      <td>2.475000</td>\n",
       "      <td>0.725000</td>\n",
       "      <td>1.825000</td>\n",
       "    </tr>\n",
       "  </tbody>\n",
       "</table>\n",
       "</div>"
      ],
      "text/plain": [
       "              White   Black   Hispanic     Asian    Native\n",
       "metro                                                     \n",
       "urban     66.550000  10.650  15.195000  5.335000  0.200000\n",
       "suburban  86.061111   4.450   4.194444  2.711111  0.227778\n",
       "town      89.930000   2.875   4.245000  0.845000  0.390000\n",
       "rural     90.800000   2.425   2.475000  0.725000  1.825000"
      ]
     },
     "execution_count": 16,
     "metadata": {},
     "output_type": "execute_result"
    }
   ],
   "source": [
    "# are there differences in race-ethnicity?\n",
    "ny2.groupby('metro')[['White','Black','Hispanic','Asian','Native']].mean().sort_index()"
   ]
  },
  {
   "cell_type": "code",
   "execution_count": 17,
   "metadata": {
    "colab": {
     "base_uri": "https://localhost:8080/",
     "height": 204
    },
    "colab_type": "code",
    "id": "ikJ6nBZhjpcQ",
    "outputId": "f3374c18-d726-4258-fdf0-da7ce0413ffd"
   },
   "outputs": [
    {
     "data": {
      "text/html": [
       "<div>\n",
       "<style scoped>\n",
       "    .dataframe tbody tr th:only-of-type {\n",
       "        vertical-align: middle;\n",
       "    }\n",
       "\n",
       "    .dataframe tbody tr th {\n",
       "        vertical-align: top;\n",
       "    }\n",
       "\n",
       "    .dataframe thead th {\n",
       "        text-align: right;\n",
       "    }\n",
       "</style>\n",
       "<table border=\"1\" class=\"dataframe\">\n",
       "  <thead>\n",
       "    <tr style=\"text-align: right;\">\n",
       "      <th></th>\n",
       "      <th>Professional</th>\n",
       "      <th>Service</th>\n",
       "      <th>Office</th>\n",
       "      <th>Construction</th>\n",
       "      <th>Production</th>\n",
       "    </tr>\n",
       "    <tr>\n",
       "      <th>metro</th>\n",
       "      <th></th>\n",
       "      <th></th>\n",
       "      <th></th>\n",
       "      <th></th>\n",
       "      <th></th>\n",
       "    </tr>\n",
       "  </thead>\n",
       "  <tbody>\n",
       "    <tr>\n",
       "      <th>urban</th>\n",
       "      <td>38.650000</td>\n",
       "      <td>19.200000</td>\n",
       "      <td>23.320000</td>\n",
       "      <td>8.415000</td>\n",
       "      <td>10.425000</td>\n",
       "    </tr>\n",
       "    <tr>\n",
       "      <th>suburban</th>\n",
       "      <td>37.305556</td>\n",
       "      <td>18.944444</td>\n",
       "      <td>23.505556</td>\n",
       "      <td>9.022222</td>\n",
       "      <td>11.238889</td>\n",
       "    </tr>\n",
       "    <tr>\n",
       "      <th>town</th>\n",
       "      <td>32.460000</td>\n",
       "      <td>19.755000</td>\n",
       "      <td>21.975000</td>\n",
       "      <td>11.205000</td>\n",
       "      <td>14.590000</td>\n",
       "    </tr>\n",
       "    <tr>\n",
       "      <th>rural</th>\n",
       "      <td>31.225000</td>\n",
       "      <td>23.975000</td>\n",
       "      <td>20.100000</td>\n",
       "      <td>13.275000</td>\n",
       "      <td>11.375000</td>\n",
       "    </tr>\n",
       "  </tbody>\n",
       "</table>\n",
       "</div>"
      ],
      "text/plain": [
       "          Professional    Service     Office  Construction  Production\n",
       "metro                                                                 \n",
       "urban        38.650000  19.200000  23.320000      8.415000   10.425000\n",
       "suburban     37.305556  18.944444  23.505556      9.022222   11.238889\n",
       "town         32.460000  19.755000  21.975000     11.205000   14.590000\n",
       "rural        31.225000  23.975000  20.100000     13.275000   11.375000"
      ]
     },
     "execution_count": 17,
     "metadata": {},
     "output_type": "execute_result"
    }
   ],
   "source": [
    "# are there differences in industry?\n",
    "ny2.groupby('metro')[['Professional','Service','Office','Construction','Production']].mean().sort_index()"
   ]
  },
  {
   "cell_type": "code",
   "execution_count": 18,
   "metadata": {
    "colab": {
     "base_uri": "https://localhost:8080/",
     "height": 204
    },
    "colab_type": "code",
    "id": "xBo9K8shjpcS",
    "outputId": "cf708b11-7e64-4a66-c247-b93caa451f4a"
   },
   "outputs": [
    {
     "data": {
      "text/html": [
       "<div>\n",
       "<style scoped>\n",
       "    .dataframe tbody tr th:only-of-type {\n",
       "        vertical-align: middle;\n",
       "    }\n",
       "\n",
       "    .dataframe tbody tr th {\n",
       "        vertical-align: top;\n",
       "    }\n",
       "\n",
       "    .dataframe thead th {\n",
       "        text-align: right;\n",
       "    }\n",
       "</style>\n",
       "<table border=\"1\" class=\"dataframe\">\n",
       "  <thead>\n",
       "    <tr style=\"text-align: right;\">\n",
       "      <th></th>\n",
       "      <th>PrivateWork</th>\n",
       "      <th>PublicWork</th>\n",
       "    </tr>\n",
       "    <tr>\n",
       "      <th>metro</th>\n",
       "      <th></th>\n",
       "      <th></th>\n",
       "    </tr>\n",
       "  </thead>\n",
       "  <tbody>\n",
       "    <tr>\n",
       "      <th>urban</th>\n",
       "      <td>78.675</td>\n",
       "      <td>15.420000</td>\n",
       "    </tr>\n",
       "    <tr>\n",
       "      <th>suburban</th>\n",
       "      <td>75.250</td>\n",
       "      <td>18.544444</td>\n",
       "    </tr>\n",
       "    <tr>\n",
       "      <th>town</th>\n",
       "      <td>73.020</td>\n",
       "      <td>19.480000</td>\n",
       "    </tr>\n",
       "    <tr>\n",
       "      <th>rural</th>\n",
       "      <td>65.850</td>\n",
       "      <td>25.100000</td>\n",
       "    </tr>\n",
       "  </tbody>\n",
       "</table>\n",
       "</div>"
      ],
      "text/plain": [
       "          PrivateWork  PublicWork\n",
       "metro                            \n",
       "urban          78.675   15.420000\n",
       "suburban       75.250   18.544444\n",
       "town           73.020   19.480000\n",
       "rural          65.850   25.100000"
      ]
     },
     "execution_count": 18,
     "metadata": {},
     "output_type": "execute_result"
    }
   ],
   "source": [
    "# Differences in sector?\n",
    "ny2.groupby('metro')[['PrivateWork','PublicWork']].mean().sort_index()"
   ]
  },
  {
   "cell_type": "code",
   "execution_count": 19,
   "metadata": {
    "colab": {},
    "colab_type": "code",
    "id": "4IOyzSvljpcU"
   },
   "outputs": [
    {
     "name": "stderr",
     "output_type": "stream",
     "text": [
      "/opt/miniconda3/envs/prj6/lib/python3.10/site-packages/plotly/figure_factory/_county_choropleth.py:89: FutureWarning:\n",
      "\n",
      "The frame.append method is deprecated and will be removed from pandas in a future version. Use pandas.concat instead.\n",
      "\n",
      "/opt/miniconda3/envs/prj6/lib/python3.10/site-packages/plotly/figure_factory/_county_choropleth.py:106: FutureWarning:\n",
      "\n",
      "The frame.append method is deprecated and will be removed from pandas in a future version. Use pandas.concat instead.\n",
      "\n",
      "/opt/miniconda3/envs/prj6/lib/python3.10/site-packages/plotly/figure_factory/_county_choropleth.py:123: FutureWarning:\n",
      "\n",
      "The frame.append method is deprecated and will be removed from pandas in a future version. Use pandas.concat instead.\n",
      "\n",
      "/opt/miniconda3/envs/prj6/lib/python3.10/site-packages/plotly/figure_factory/_county_choropleth.py:129: FutureWarning:\n",
      "\n",
      "The frame.append method is deprecated and will be removed from pandas in a future version. Use pandas.concat instead.\n",
      "\n",
      "/opt/miniconda3/envs/prj6/lib/python3.10/site-packages/plotly/figure_factory/_county_choropleth.py:135: FutureWarning:\n",
      "\n",
      "The frame.append method is deprecated and will be removed from pandas in a future version. Use pandas.concat instead.\n",
      "\n",
      "/opt/miniconda3/envs/prj6/lib/python3.10/site-packages/plotly/figure_factory/_county_choropleth.py:359: ShapelyDeprecationWarning:\n",
      "\n",
      "Iteration over multi-part geometries is deprecated and will be removed in Shapely 2.0. Use the `geoms` property to access the constituent parts of a multi-part geometry.\n",
      "\n",
      "/opt/miniconda3/envs/prj6/lib/python3.10/site-packages/plotly/figure_factory/_county_choropleth.py:363: ShapelyDeprecationWarning:\n",
      "\n",
      "Iteration over multi-part geometries is deprecated and will be removed in Shapely 2.0. Use the `geoms` property to access the constituent parts of a multi-part geometry.\n",
      "\n",
      "/opt/miniconda3/envs/prj6/lib/python3.10/site-packages/plotly/figure_factory/_county_choropleth.py:368: ShapelyDeprecationWarning:\n",
      "\n",
      "Iteration over multi-part geometries is deprecated and will be removed in Shapely 2.0. Use the `geoms` property to access the constituent parts of a multi-part geometry.\n",
      "\n",
      "/opt/miniconda3/envs/prj6/lib/python3.10/site-packages/plotly/figure_factory/_county_choropleth.py:369: ShapelyDeprecationWarning:\n",
      "\n",
      "Iteration over multi-part geometries is deprecated and will be removed in Shapely 2.0. Use the `geoms` property to access the constituent parts of a multi-part geometry.\n",
      "\n",
      "/opt/miniconda3/envs/prj6/lib/python3.10/site-packages/plotly/figure_factory/_county_choropleth.py:385: ShapelyDeprecationWarning:\n",
      "\n",
      "Iteration over multi-part geometries is deprecated and will be removed in Shapely 2.0. Use the `geoms` property to access the constituent parts of a multi-part geometry.\n",
      "\n",
      "/opt/miniconda3/envs/prj6/lib/python3.10/site-packages/plotly/figure_factory/_county_choropleth.py:359: ShapelyDeprecationWarning:\n",
      "\n",
      "Iteration over multi-part geometries is deprecated and will be removed in Shapely 2.0. Use the `geoms` property to access the constituent parts of a multi-part geometry.\n",
      "\n",
      "/opt/miniconda3/envs/prj6/lib/python3.10/site-packages/plotly/figure_factory/_county_choropleth.py:363: ShapelyDeprecationWarning:\n",
      "\n",
      "Iteration over multi-part geometries is deprecated and will be removed in Shapely 2.0. Use the `geoms` property to access the constituent parts of a multi-part geometry.\n",
      "\n",
      "/opt/miniconda3/envs/prj6/lib/python3.10/site-packages/plotly/figure_factory/_county_choropleth.py:368: ShapelyDeprecationWarning:\n",
      "\n",
      "Iteration over multi-part geometries is deprecated and will be removed in Shapely 2.0. Use the `geoms` property to access the constituent parts of a multi-part geometry.\n",
      "\n",
      "/opt/miniconda3/envs/prj6/lib/python3.10/site-packages/plotly/figure_factory/_county_choropleth.py:369: ShapelyDeprecationWarning:\n",
      "\n",
      "Iteration over multi-part geometries is deprecated and will be removed in Shapely 2.0. Use the `geoms` property to access the constituent parts of a multi-part geometry.\n",
      "\n",
      "/opt/miniconda3/envs/prj6/lib/python3.10/site-packages/plotly/figure_factory/_county_choropleth.py:385: ShapelyDeprecationWarning:\n",
      "\n",
      "Iteration over multi-part geometries is deprecated and will be removed in Shapely 2.0. Use the `geoms` property to access the constituent parts of a multi-part geometry.\n",
      "\n",
      "/opt/miniconda3/envs/prj6/lib/python3.10/site-packages/plotly/figure_factory/_county_choropleth.py:359: ShapelyDeprecationWarning:\n",
      "\n",
      "Iteration over multi-part geometries is deprecated and will be removed in Shapely 2.0. Use the `geoms` property to access the constituent parts of a multi-part geometry.\n",
      "\n",
      "/opt/miniconda3/envs/prj6/lib/python3.10/site-packages/plotly/figure_factory/_county_choropleth.py:363: ShapelyDeprecationWarning:\n",
      "\n",
      "Iteration over multi-part geometries is deprecated and will be removed in Shapely 2.0. Use the `geoms` property to access the constituent parts of a multi-part geometry.\n",
      "\n",
      "/opt/miniconda3/envs/prj6/lib/python3.10/site-packages/plotly/figure_factory/_county_choropleth.py:368: ShapelyDeprecationWarning:\n",
      "\n",
      "Iteration over multi-part geometries is deprecated and will be removed in Shapely 2.0. Use the `geoms` property to access the constituent parts of a multi-part geometry.\n",
      "\n",
      "/opt/miniconda3/envs/prj6/lib/python3.10/site-packages/plotly/figure_factory/_county_choropleth.py:369: ShapelyDeprecationWarning:\n",
      "\n",
      "Iteration over multi-part geometries is deprecated and will be removed in Shapely 2.0. Use the `geoms` property to access the constituent parts of a multi-part geometry.\n",
      "\n",
      "/opt/miniconda3/envs/prj6/lib/python3.10/site-packages/plotly/figure_factory/_county_choropleth.py:385: ShapelyDeprecationWarning:\n",
      "\n",
      "Iteration over multi-part geometries is deprecated and will be removed in Shapely 2.0. Use the `geoms` property to access the constituent parts of a multi-part geometry.\n",
      "\n",
      "/opt/miniconda3/envs/prj6/lib/python3.10/site-packages/plotly/figure_factory/_county_choropleth.py:359: ShapelyDeprecationWarning:\n",
      "\n",
      "Iteration over multi-part geometries is deprecated and will be removed in Shapely 2.0. Use the `geoms` property to access the constituent parts of a multi-part geometry.\n",
      "\n",
      "/opt/miniconda3/envs/prj6/lib/python3.10/site-packages/plotly/figure_factory/_county_choropleth.py:363: ShapelyDeprecationWarning:\n",
      "\n",
      "Iteration over multi-part geometries is deprecated and will be removed in Shapely 2.0. Use the `geoms` property to access the constituent parts of a multi-part geometry.\n",
      "\n",
      "/opt/miniconda3/envs/prj6/lib/python3.10/site-packages/plotly/figure_factory/_county_choropleth.py:368: ShapelyDeprecationWarning:\n",
      "\n",
      "Iteration over multi-part geometries is deprecated and will be removed in Shapely 2.0. Use the `geoms` property to access the constituent parts of a multi-part geometry.\n",
      "\n",
      "/opt/miniconda3/envs/prj6/lib/python3.10/site-packages/plotly/figure_factory/_county_choropleth.py:369: ShapelyDeprecationWarning:\n",
      "\n",
      "Iteration over multi-part geometries is deprecated and will be removed in Shapely 2.0. Use the `geoms` property to access the constituent parts of a multi-part geometry.\n",
      "\n",
      "/opt/miniconda3/envs/prj6/lib/python3.10/site-packages/plotly/figure_factory/_county_choropleth.py:385: ShapelyDeprecationWarning:\n",
      "\n",
      "Iteration over multi-part geometries is deprecated and will be removed in Shapely 2.0. Use the `geoms` property to access the constituent parts of a multi-part geometry.\n",
      "\n",
      "/opt/miniconda3/envs/prj6/lib/python3.10/site-packages/plotly/figure_factory/_county_choropleth.py:359: ShapelyDeprecationWarning:\n",
      "\n",
      "Iteration over multi-part geometries is deprecated and will be removed in Shapely 2.0. Use the `geoms` property to access the constituent parts of a multi-part geometry.\n",
      "\n",
      "/opt/miniconda3/envs/prj6/lib/python3.10/site-packages/plotly/figure_factory/_county_choropleth.py:363: ShapelyDeprecationWarning:\n",
      "\n",
      "Iteration over multi-part geometries is deprecated and will be removed in Shapely 2.0. Use the `geoms` property to access the constituent parts of a multi-part geometry.\n",
      "\n",
      "/opt/miniconda3/envs/prj6/lib/python3.10/site-packages/plotly/figure_factory/_county_choropleth.py:368: ShapelyDeprecationWarning:\n",
      "\n",
      "Iteration over multi-part geometries is deprecated and will be removed in Shapely 2.0. Use the `geoms` property to access the constituent parts of a multi-part geometry.\n",
      "\n",
      "/opt/miniconda3/envs/prj6/lib/python3.10/site-packages/plotly/figure_factory/_county_choropleth.py:369: ShapelyDeprecationWarning:\n",
      "\n",
      "Iteration over multi-part geometries is deprecated and will be removed in Shapely 2.0. Use the `geoms` property to access the constituent parts of a multi-part geometry.\n",
      "\n",
      "/opt/miniconda3/envs/prj6/lib/python3.10/site-packages/plotly/figure_factory/_county_choropleth.py:385: ShapelyDeprecationWarning:\n",
      "\n",
      "Iteration over multi-part geometries is deprecated and will be removed in Shapely 2.0. Use the `geoms` property to access the constituent parts of a multi-part geometry.\n",
      "\n",
      "/opt/miniconda3/envs/prj6/lib/python3.10/site-packages/plotly/figure_factory/_county_choropleth.py:359: ShapelyDeprecationWarning:\n",
      "\n",
      "Iteration over multi-part geometries is deprecated and will be removed in Shapely 2.0. Use the `geoms` property to access the constituent parts of a multi-part geometry.\n",
      "\n",
      "/opt/miniconda3/envs/prj6/lib/python3.10/site-packages/plotly/figure_factory/_county_choropleth.py:363: ShapelyDeprecationWarning:\n",
      "\n",
      "Iteration over multi-part geometries is deprecated and will be removed in Shapely 2.0. Use the `geoms` property to access the constituent parts of a multi-part geometry.\n",
      "\n",
      "/opt/miniconda3/envs/prj6/lib/python3.10/site-packages/plotly/figure_factory/_county_choropleth.py:368: ShapelyDeprecationWarning:\n",
      "\n",
      "Iteration over multi-part geometries is deprecated and will be removed in Shapely 2.0. Use the `geoms` property to access the constituent parts of a multi-part geometry.\n",
      "\n",
      "/opt/miniconda3/envs/prj6/lib/python3.10/site-packages/plotly/figure_factory/_county_choropleth.py:369: ShapelyDeprecationWarning:\n",
      "\n",
      "Iteration over multi-part geometries is deprecated and will be removed in Shapely 2.0. Use the `geoms` property to access the constituent parts of a multi-part geometry.\n",
      "\n",
      "/opt/miniconda3/envs/prj6/lib/python3.10/site-packages/plotly/figure_factory/_county_choropleth.py:385: ShapelyDeprecationWarning:\n",
      "\n",
      "Iteration over multi-part geometries is deprecated and will be removed in Shapely 2.0. Use the `geoms` property to access the constituent parts of a multi-part geometry.\n",
      "\n"
     ]
    },
    {
     "name": "stderr",
     "output_type": "stream",
     "text": [
      "/opt/miniconda3/envs/prj6/lib/python3.10/site-packages/plotly/figure_factory/_county_choropleth.py:359: ShapelyDeprecationWarning:\n",
      "\n",
      "Iteration over multi-part geometries is deprecated and will be removed in Shapely 2.0. Use the `geoms` property to access the constituent parts of a multi-part geometry.\n",
      "\n",
      "/opt/miniconda3/envs/prj6/lib/python3.10/site-packages/plotly/figure_factory/_county_choropleth.py:363: ShapelyDeprecationWarning:\n",
      "\n",
      "Iteration over multi-part geometries is deprecated and will be removed in Shapely 2.0. Use the `geoms` property to access the constituent parts of a multi-part geometry.\n",
      "\n",
      "/opt/miniconda3/envs/prj6/lib/python3.10/site-packages/plotly/figure_factory/_county_choropleth.py:368: ShapelyDeprecationWarning:\n",
      "\n",
      "Iteration over multi-part geometries is deprecated and will be removed in Shapely 2.0. Use the `geoms` property to access the constituent parts of a multi-part geometry.\n",
      "\n",
      "/opt/miniconda3/envs/prj6/lib/python3.10/site-packages/plotly/figure_factory/_county_choropleth.py:369: ShapelyDeprecationWarning:\n",
      "\n",
      "Iteration over multi-part geometries is deprecated and will be removed in Shapely 2.0. Use the `geoms` property to access the constituent parts of a multi-part geometry.\n",
      "\n",
      "/opt/miniconda3/envs/prj6/lib/python3.10/site-packages/plotly/figure_factory/_county_choropleth.py:385: ShapelyDeprecationWarning:\n",
      "\n",
      "Iteration over multi-part geometries is deprecated and will be removed in Shapely 2.0. Use the `geoms` property to access the constituent parts of a multi-part geometry.\n",
      "\n",
      "/opt/miniconda3/envs/prj6/lib/python3.10/site-packages/plotly/figure_factory/_county_choropleth.py:854: ShapelyDeprecationWarning:\n",
      "\n",
      "Iteration over multi-part geometries is deprecated and will be removed in Shapely 2.0. Use the `geoms` property to access the constituent parts of a multi-part geometry.\n",
      "\n",
      "/opt/miniconda3/envs/prj6/lib/python3.10/site-packages/plotly/figure_factory/_county_choropleth.py:858: ShapelyDeprecationWarning:\n",
      "\n",
      "Iteration over multi-part geometries is deprecated and will be removed in Shapely 2.0. Use the `geoms` property to access the constituent parts of a multi-part geometry.\n",
      "\n"
     ]
    },
    {
     "data": {
      "application/vnd.plotly.v1+json": {
       "config": {
        "linkText": "Export to plot.ly",
        "plotlyServerURL": "https://plot.ly",
        "showLink": false
       },
       "data": [
        {
         "fill": "toself",
         "fillcolor": "rgb(68, 1, 84)",
         "hoverinfo": "none",
         "line": {
          "color": "rgb(255,255,255)",
          "width": 0.5
         },
         "mode": "lines",
         "name": "36593",
         "type": "scatter",
         "x": [
          -73.773361,
          -73.77234899999999,
          -73.767179,
          -73.765258,
          -73.773361,
          null,
          -73.933144,
          -73.888307,
          -73.78791799999999,
          -73.81664099999999,
          -73.782577,
          -73.7835452253621,
          -73.91840499999999,
          -73.933144,
          null
         ],
         "y": [
          40.859449,
          40.847421,
          40.844865999999996,
          40.855360999999995,
          40.859449,
          null,
          40.834815,
          40.787006,
          40.800362,
          40.853487,
          40.837601,
          40.881039556340504,
          40.917477,
          40.834815,
          null
         ]
        },
        {
         "fill": "toself",
         "fillcolor": "rgb(68, 1, 84)",
         "hoverinfo": "none",
         "line": {
          "color": "rgb(255,255,255)",
          "width": 0.5
         },
         "mode": "lines",
         "name": "44304",
         "type": "scatter",
         "x": [
          -79.762152,
          -79.76137399999999,
          -79.06126499999999,
          -79.060777,
          -79.13689290760351,
          -79.354483,
          -79.453533,
          -79.761951,
          -79.762152,
          null
         ],
         "y": [
          42.243054,
          41.999067,
          41.999258999999995,
          42.537853,
          42.5697987744532,
          42.494071,
          42.411156999999996,
          42.26986,
          42.243054,
          null
         ]
        },
        {
         "fill": "toself",
         "fillcolor": "rgb(68, 1, 84)",
         "hoverinfo": "none",
         "line": {
          "color": "rgb(255,255,255)",
          "width": 0.5
         },
         "mode": "lines",
         "name": "45359",
         "type": "scatter",
         "x": [
          -78.309316,
          -78.308128,
          -77.74993099999999,
          -77.72296399999999,
          -77.840231,
          -77.840694,
          -78.30883899999999,
          -78.309316,
          null
         ],
         "y": [
          42.231684,
          41.999415,
          41.998782,
          42.471216,
          42.474576,
          42.517770999999996,
          42.521217,
          42.231684,
          null
         ]
        },
        {
         "fill": "toself",
         "fillcolor": "rgb(68, 1, 84)",
         "hoverinfo": "none",
         "line": {
          "color": "rgb(255,255,255)",
          "width": 0.5
         },
         "mode": "lines",
         "name": "45571",
         "type": "scatter",
         "x": [
          -79.059209,
          -79.06126499999999,
          -78.308128,
          -78.30883899999999,
          -78.48847599999999,
          -78.88298999999999,
          -78.95703,
          -78.99532599999999,
          -79.060777,
          -79.059209,
          null
         ],
         "y": [
          42.075381,
          41.999258999999995,
          41.999415,
          42.521217,
          42.534845,
          42.438286,
          42.472362,
          42.531796,
          42.537853,
          42.075381,
          null
         ]
        },
        {
         "fill": "toself",
         "fillcolor": "rgb(72, 24, 106)",
         "hoverinfo": "none",
         "line": {
          "color": "rgb(255,255,255)",
          "width": 0.5
         },
         "mode": "lines",
         "name": "47449",
         "type": "scatter",
         "x": [
          -74.75862599999999,
          -74.763303,
          -74.454911,
          -74.289446,
          -74.083883,
          -74.097467,
          -74.542367,
          -74.759895,
          -74.75862599999999,
          null
         ],
         "y": [
          42.887775,
          42.863237,
          42.772979,
          42.783805,
          42.897354,
          42.982934,
          42.98553,
          43.047422999999995,
          42.887775,
          null
         ]
        },
        {
         "fill": "toself",
         "fillcolor": "rgb(72, 24, 106)",
         "hoverinfo": "none",
         "line": {
          "color": "rgb(255,255,255)",
          "width": 0.5
         },
         "mode": "lines",
         "name": "47810",
         "type": "scatter",
         "x": [
          -77.107203,
          -77.099657,
          -76.73391199999999,
          -76.732677,
          -76.61953299999999,
          -76.619303,
          -76.691406,
          -76.69665499999999,
          -76.895596,
          -76.889805,
          -77.107203,
          null
         ],
         "y": [
          42.483771,
          42.272355999999995,
          42.29372,
          42.248052,
          42.248664,
          42.282852999999996,
          42.284307,
          42.54679,
          42.541537,
          42.463054,
          42.483771,
          null
         ]
        },
        {
         "fill": "toself",
         "fillcolor": "rgb(72, 24, 106)",
         "hoverinfo": "none",
         "line": {
          "color": "rgb(255,255,255)",
          "width": 0.5
         },
         "mode": "lines",
         "name": "47921",
         "type": "scatter",
         "x": [
          -75.422637,
          -75.402239,
          -75.279094,
          -75.260527,
          -75.17457399999999,
          -75.152898,
          -74.451713,
          -74.53730999999999,
          -74.428196,
          -74.618895,
          -74.71158,
          -74.844121,
          -75.197237,
          -75.19095999999999,
          -75.308405,
          -75.415319,
          -75.422637,
          null
         ],
         "y": [
          42.055913,
          42.010698999999995,
          41.938917,
          41.863800000000005,
          41.872659999999996,
          41.848563999999996,
          42.169225,
          42.201423999999996,
          42.349075,
          42.424389,
          42.517799,
          42.512591,
          42.358329,
          42.379852,
          42.321151,
          42.314150999999995,
          42.055913,
          null
         ]
        },
        {
         "fill": "toself",
         "fillcolor": "rgb(72, 24, 106)",
         "hoverinfo": "none",
         "line": {
          "color": "rgb(255,255,255)",
          "width": 0.5
         },
         "mode": "lines",
         "name": "48033",
         "type": "scatter",
         "x": [
          -74.774233,
          -74.759895,
          -74.542367,
          -74.097467,
          -74.140147,
          -74.322375,
          -74.32637799999999,
          -74.534657,
          -74.713005,
          -74.696333,
          -74.774233,
          null
         ],
         "y": [
          43.082269,
          43.047422999999995,
          42.98553,
          42.982934,
          43.253979,
          43.214684,
          43.241634999999995,
          43.228114999999995,
          43.289003,
          43.173514999999995,
          43.082269,
          null
         ]
        },
        {
         "fill": "toself",
         "fillcolor": "rgb(71, 45, 123)",
         "hoverinfo": "none",
         "line": {
          "color": "rgb(255,255,255)",
          "width": 0.5
         },
         "mode": "lines",
         "name": "48330",
         "type": "scatter",
         "x": [
          -75.8600599283155,
          -75.06277899999999,
          -74.535156,
          -74.64187199999999,
          -74.72030699999999,
          -74.72622806320749,
          -74.801638,
          -74.992756,
          -75.30763,
          -75.76623,
          -75.8600599283155,
          null
         ],
         "y": [
          44.4032818662487,
          44.0504,
          44.09925,
          44.952621,
          44.953011,
          44.994863072200594,
          45.014568999999995,
          44.977449,
          44.836813,
          44.515851,
          44.4032818662487,
          null
         ]
        },
        {
         "fill": "toself",
         "fillcolor": "rgb(71, 45, 123)",
         "hoverinfo": "none",
         "line": {
          "color": "rgb(255,255,255)",
          "width": 0.5
         },
         "mode": "lines",
         "name": "48567",
         "type": "scatter",
         "x": [
          -75.889832,
          -75.83631,
          -75.639055,
          -75.63710999999999,
          -75.418421,
          -75.40669,
          -75.374617,
          -75.403459,
          -75.33014299999999,
          -75.330394,
          -75.29587699999999,
          -75.889832,
          null
         ],
         "y": [
          42.723844,
          42.244091,
          42.248675,
          42.195628,
          42.195032,
          42.380781,
          42.415997999999995,
          42.508699,
          42.568082,
          42.674195,
          42.744105999999995,
          42.723844,
          null
         ]
        },
        {
         "fill": "toself",
         "fillcolor": "rgb(71, 45, 123)",
         "hoverinfo": "none",
         "line": {
          "color": "rgb(255,255,255)",
          "width": 0.5
         },
         "mode": "lines",
         "name": "49064",
         "type": "scatter",
         "x": [
          -76.130181,
          -76.080681,
          -76.086683,
          -76.116225,
          -76.10584,
          -75.359579,
          -75.421776,
          -75.418421,
          -75.63710999999999,
          -75.639055,
          -75.83631,
          -75.86402,
          -76.130181,
          null
         ],
         "y": [
          42.410337,
          42.258084,
          42.186858,
          42.18561,
          41.998858,
          41.999445,
          42.04203,
          42.195032,
          42.195628,
          42.248675,
          42.244091,
          42.415701999999996,
          42.410337,
          null
         ]
        },
        {
         "fill": "toself",
         "fillcolor": "rgb(66, 64, 134)",
         "hoverinfo": "none",
         "line": {
          "color": "rgb(255,255,255)",
          "width": 0.5
         },
         "mode": "lines",
         "name": "49077",
         "type": "scatter",
         "x": [
          -75.219106,
          -75.21064199999999,
          -75.13987,
          -75.100999,
          -74.90673799999999,
          -74.878822,
          -74.763303,
          -74.740237,
          -74.77015,
          -74.69600299999999,
          -74.712615,
          -74.867712,
          -74.775617,
          -74.854171,
          -75.06277899999999,
          -75.170159,
          -75.07658099999999,
          -75.14818,
          -75.162371,
          -75.069165,
          -75.219106,
          null
         ],
         "y": [
          43.052468999999995,
          42.856549,
          42.85976,
          42.908363,
          42.824943,
          42.898274,
          42.863237,
          43.014483,
          43.112505,
          43.177862,
          43.286142999999996,
          43.339825999999995,
          43.486677,
          44.070088999999996,
          44.0504,
          44.096959,
          43.330704999999995,
          43.304828,
          43.258463,
          43.227333,
          43.052468999999995,
          null
         ]
        },
        {
         "fill": "toself",
         "fillcolor": "rgb(66, 64, 134)",
         "hoverinfo": "none",
         "line": {
          "color": "rgb(255,255,255)",
          "width": 0.5
         },
         "mode": "lines",
         "name": "49223",
         "type": "scatter",
         "x": [
          -78.466021,
          -78.465505,
          -77.99728999999999,
          -77.99559629134319,
          -78.451877,
          -78.466021,
          null
         ],
         "y": [
          43.332401999999995,
          43.128619,
          43.132981,
          43.3652387952246,
          43.372679,
          43.332401999999995,
          null
         ]
        },
        {
         "fill": "toself",
         "fillcolor": "rgb(66, 64, 134)",
         "hoverinfo": "none",
         "line": {
          "color": "rgb(255,255,255)",
          "width": 0.5
         },
         "mode": "lines",
         "name": "50157",
         "type": "scatter",
         "x": [
          -77.74851,
          -77.74993099999999,
          -76.96572797329421,
          -76.96502799999999,
          -77.099657,
          -77.107581,
          -77.149502,
          -77.143795,
          -77.659917,
          -77.661315,
          -77.72061699999999,
          -77.74851,
          null
         ],
         "y": [
          42.031893,
          41.998782,
          42.0012735436595,
          42.278495,
          42.272355999999995,
          42.505365,
          42.50007,
          42.576868999999995,
          42.580408999999996,
          42.535067,
          42.535066,
          42.031893,
          null
         ]
        },
        {
         "fill": "toself",
         "fillcolor": "rgb(66, 64, 134)",
         "hoverinfo": "none",
         "line": {
          "color": "rgb(255,255,255)",
          "width": 0.5
         },
         "mode": "lines",
         "name": "50322",
         "type": "scatter",
         "x": [
          -76.14753499999999,
          -76.144708,
          -76.140667,
          -76.142569,
          -76.14753499999999,
          null,
          -76.187253,
          -76.176557,
          -76.169664,
          -76.173467,
          -76.187253,
          null,
          -76.336761,
          -76.321297,
          -76.317726,
          -76.329628,
          -76.336761,
          null,
          -76.356691,
          -76.326393,
          -76.3013,
          -76.345978,
          -76.356691,
          null,
          -76.369699,
          -76.344247,
          -76.360306,
          -76.29528499999999,
          -76.280677,
          -76.199693,
          -76.278691,
          -76.272706,
          -76.20164,
          -76.211384,
          -76.15505399999999,
          -76.168284,
          -76.120695,
          -76.200249,
          -76.059062,
          -76.13435799999999,
          -76.127285,
          -76.199809,
          -76.237363,
          -76.21376099999999,
          -76.297392,
          -76.23498599999999,
          -76.1996693718617,
          -76.022003,
          -76.025087,
          -75.774553,
          -75.786759,
          -75.850534,
          -75.84056,
          -75.758157,
          -75.60367,
          -75.542898,
          -75.549993,
          -75.50183,
          -75.484528,
          -75.545886,
          -75.446124,
          -75.8600599283155,
          -76.161833,
          -76.191328,
          -76.312647,
          -76.369699,
          null,
          -76.373772,
          -76.365988,
          -76.364173,
          -76.36784899999999,
          -76.373772,
          null,
          -76.383338,
          -76.36174799999999,
          -76.342117,
          -76.37007899999999,
          -76.383338,
          null,
          -76.398564,
          -76.395759,
          -76.392347,
          -76.394578,
          -76.398564,
          null,
          -76.445999,
          -76.399976,
          -76.377945,
          -76.406471,
          -76.445999,
          null
         ],
         "y": [
          43.942484,
          43.940231,
          43.942284,
          43.944167,
          43.942484,
          null,
          44.013777,
          44.017196,
          44.024887,
          44.024716,
          44.013777,
          null,
          44.034183999999996,
          44.031208,
          44.051434,
          44.044295999999996,
          44.034183999999996,
          null,
          43.878246,
          43.880973999999995,
          43.917750999999996,
          43.894034999999995,
          43.878246,
          null,
          44.104670999999996,
          44.087917,
          44.070907,
          44.058717,
          43.959683,
          44.025585,
          44.016067,
          44.04078,
          44.079038999999995,
          44.057351,
          44.064353,
          44.032723,
          44.031296,
          43.967931,
          43.9857,
          43.945664,
          43.897889,
          43.854341,
          43.863596,
          43.900234,
          43.855925,
          43.822624999999995,
          43.6801913412181,
          43.668143,
          43.707018,
          43.688883999999995,
          43.78832,
          43.791886,
          43.883976,
          43.878785,
          43.971363,
          43.967794999999995,
          44.008162999999996,
          44.009555999999996,
          44.074172,
          44.102978,
          44.217655,
          44.4032818662487,
          44.280777,
          44.221244,
          44.199044,
          44.104670999999996,
          null,
          43.874784,
          43.876188,
          43.87856,
          43.879003999999995,
          43.874784,
          null,
          44.037361,
          44.032993,
          44.053813999999996,
          44.052029,
          44.037361,
          null,
          43.884133,
          43.882729999999995,
          43.887859,
          43.888076,
          43.884133,
          null,
          43.890254999999996,
          43.901711,
          43.921188,
          43.921188,
          43.890254999999996,
          null
         ]
        },
        {
         "fill": "toself",
         "fillcolor": "rgb(59, 82, 139)",
         "hoverinfo": "none",
         "line": {
          "color": "rgb(255,255,255)",
          "width": 0.5
         },
         "mode": "lines",
         "name": "50733",
         "type": "scatter",
         "x": [
          -74.72622806320749,
          -74.72030699999999,
          -74.64187199999999,
          -74.535156,
          -74.09349,
          -74.141424,
          -73.90968699999999,
          -74.0273918752465,
          -74.72622806320749,
          null
         ],
         "y": [
          44.994863072200594,
          44.953011,
          44.952621,
          44.09925,
          44.137615,
          44.407267999999995,
          44.429699,
          44.995765498918,
          44.994863072200594,
          null
         ]
        },
        {
         "fill": "toself",
         "fillcolor": "rgb(59, 82, 139)",
         "hoverinfo": "none",
         "line": {
          "color": "rgb(255,255,255)",
          "width": 0.5
         },
         "mode": "lines",
         "name": "51251",
         "type": "scatter",
         "x": [
          -76.96609099999999,
          -76.96572797329421,
          -76.55762413688969,
          -76.538349,
          -76.619303,
          -76.642256,
          -76.732677,
          -76.73391199999999,
          -76.964761,
          -76.96609099999999,
          null
         ],
         "y": [
          42.143547,
          42.0012735436595,
          42.000148906120295,
          42.281755,
          42.282852999999996,
          42.233720999999996,
          42.248052,
          42.29372,
          42.28744,
          42.143547,
          null
         ]
        },
        {
         "fill": "toself",
         "fillcolor": "rgb(59, 82, 139)",
         "hoverinfo": "none",
         "line": {
          "color": "rgb(255,255,255)",
          "width": 0.5
         },
         "mode": "lines",
         "name": "51254",
         "type": "scatter",
         "x": [
          -75.416932,
          -75.308405,
          -75.19095999999999,
          -75.197237,
          -74.844121,
          -74.712513,
          -74.630652,
          -74.667512,
          -74.648298,
          -74.878822,
          -74.90673799999999,
          -75.100999,
          -75.13987,
          -75.242745,
          -75.251037,
          -75.330394,
          -75.33014299999999,
          -75.403459,
          -75.374905,
          -75.416932,
          null
         ],
         "y": [
          42.314094,
          42.321151,
          42.379852,
          42.358329,
          42.512591,
          42.516585,
          42.62677,
          42.75071,
          42.829558,
          42.898274,
          42.824943,
          42.908363,
          42.85976,
          42.877869,
          42.785115,
          42.674195,
          42.568082,
          42.508699,
          42.410784,
          42.314094,
          null
         ]
        },
        {
         "fill": "toself",
         "fillcolor": "rgb(51, 99, 141)",
         "hoverinfo": "none",
         "line": {
          "color": "rgb(255,255,255)",
          "width": 0.5
         },
         "mode": "lines",
         "name": "51316",
         "type": "scatter",
         "x": [
          -75.88675599999999,
          -75.862934,
          -75.884275,
          -75.719899,
          -75.596879,
          -75.552774,
          -75.54280299999999,
          -75.44417299999999,
          -75.437167,
          -75.201444,
          -75.219106,
          -75.069165,
          -75.162371,
          -75.14818,
          -75.07658099999999,
          -75.11016,
          -75.5335,
          -75.814627,
          -75.88675599999999,
          null
         ],
         "y": [
          43.325021,
          43.319221999999996,
          43.155561999999996,
          43.161052999999995,
          43.035399,
          43.037554,
          42.931774,
          42.933088999999995,
          42.863319,
          42.880663999999996,
          43.052468999999995,
          43.227333,
          43.258463,
          43.304828,
          43.330704999999995,
          43.615229,
          43.419756,
          43.483578,
          43.325021,
          null
         ]
        },
        {
         "fill": "toself",
         "fillcolor": "rgb(51, 99, 141)",
         "hoverinfo": "none",
         "line": {
          "color": "rgb(255,255,255)",
          "width": 0.5
         },
         "mode": "lines",
         "name": "51475",
         "type": "scatter",
         "x": [
          -75.847487,
          -75.850534,
          -75.786759,
          -75.756213,
          -75.5335,
          -75.11016,
          -75.170159,
          -75.446124,
          -75.545886,
          -75.484528,
          -75.50183,
          -75.549993,
          -75.542898,
          -75.60367,
          -75.758157,
          -75.84056,
          -75.847487,
          null
         ],
         "y": [
          43.818647999999996,
          43.791886,
          43.78832,
          43.470388,
          43.419756,
          43.615229,
          44.096959,
          44.217655,
          44.102978,
          44.074172,
          44.009555999999996,
          44.008162999999996,
          43.967794999999995,
          43.971363,
          43.878785,
          43.883976,
          43.818647999999996,
          null
         ]
        },
        {
         "fill": "toself",
         "fillcolor": "rgb(51, 99, 141)",
         "hoverinfo": "none",
         "line": {
          "color": "rgb(255,255,255)",
          "width": 0.5
         },
         "mode": "lines",
         "name": "51601",
         "type": "scatter",
         "x": [
          -76.981257,
          -76.977888,
          -76.897117,
          -76.895596,
          -76.585989,
          -76.731636,
          -76.739361,
          -76.71380599999999,
          -76.963926,
          -76.981257,
          null
         ],
         "y": [
          42.862066,
          42.77324,
          42.66365,
          42.541537,
          42.54991,
          42.72074,
          42.954473,
          43.024035,
          43.013157,
          42.862066,
          null
         ]
        },
        {
         "fill": "toself",
         "fillcolor": "rgb(51, 99, 141)",
         "hoverinfo": "none",
         "line": {
          "color": "rgb(255,255,255)",
          "width": 0.5
         },
         "mode": "lines",
         "name": "51656",
         "type": "scatter",
         "x": [
          -79.075367,
          -78.841745,
          -78.83126,
          -78.72764699999999,
          -78.469736,
          -78.4655020828508,
          -79.070469,
          -79.042366,
          -79.075367,
          null
         ],
         "y": [
          43.081354999999995,
          43.018862999999996,
          43.050246,
          43.08622,
          43.082797,
          43.3712326509368,
          43.262454,
          43.143654999999995,
          43.081354999999995,
          null
         ]
        },
        {
         "fill": "toself",
         "fillcolor": "rgb(44, 114, 142)",
         "hoverinfo": "none",
         "line": {
          "color": "rgb(255,255,255)",
          "width": 0.5
         },
         "mode": "lines",
         "name": "51755",
         "type": "scatter",
         "x": [
          -76.61692529756529,
          -76.605012,
          -76.307541,
          -76.281027,
          -76.274051,
          -76.198748,
          -76.202573,
          -76.078902,
          -75.884275,
          -75.862934,
          -75.88675599999999,
          -75.814627,
          -75.756213,
          -75.774553,
          -76.025087,
          -76.022003,
          -76.1996693718617,
          -76.228701,
          -76.417581,
          -76.61692529756529,
          null
         ],
         "y": [
          43.4180442652892,
          43.253569999999996,
          43.230788,
          43.201091,
          43.240168,
          43.212568,
          43.271539,
          43.19948,
          43.155561999999996,
          43.319221999999996,
          43.325021,
          43.483578,
          43.470388,
          43.688883999999995,
          43.707018,
          43.668143,
          43.6801913412181,
          43.532987,
          43.521285,
          43.4180442652892,
          null
         ]
        },
        {
         "fill": "toself",
         "fillcolor": "rgb(44, 114, 142)",
         "hoverinfo": "none",
         "line": {
          "color": "rgb(255,255,255)",
          "width": 0.5
         },
         "mode": "lines",
         "name": "51758",
         "type": "scatter",
         "x": [
          -77.36710599999999,
          -77.36650499999999,
          -77.143795,
          -77.143946,
          -76.889805,
          -76.895349,
          -76.947429,
          -77.31300399999999,
          -77.36710599999999,
          null
         ],
         "y": [
          42.667866,
          42.576367999999995,
          42.576868999999995,
          42.494704999999996,
          42.463054,
          42.656255,
          42.76443,
          42.761264999999995,
          42.667866,
          null
         ]
        },
        {
         "fill": "toself",
         "fillcolor": "rgb(44, 114, 142)",
         "hoverinfo": "none",
         "line": {
          "color": "rgb(255,255,255)",
          "width": 0.5
         },
         "mode": "lines",
         "name": "51842",
         "type": "scatter",
         "x": [
          -74.71158,
          -74.618895,
          -74.443506,
          -74.276645,
          -74.244692,
          -74.264755,
          -74.226447,
          -74.24157199999999,
          -74.164678,
          -74.272295,
          -74.306665,
          -74.258507,
          -74.256547,
          -74.454911,
          -74.648298,
          -74.667512,
          -74.630652,
          -74.71158,
          null
         ],
         "y": [
          42.517799,
          42.424389,
          42.355017,
          42.363349,
          42.377159,
          42.418876,
          42.499233,
          42.550802,
          42.717206999999995,
          42.71427,
          42.750074,
          42.757397999999995,
          42.79587,
          42.772979,
          42.829558,
          42.75071,
          42.62677,
          42.517799,
          null
         ]
        },
        {
         "fill": "toself",
         "fillcolor": "rgb(44, 114, 142)",
         "hoverinfo": "none",
         "line": {
          "color": "rgb(255,255,255)",
          "width": 0.5
         },
         "mode": "lines",
         "name": "52451",
         "type": "scatter",
         "x": [
          -76.27467299999999,
          -76.253359,
          -75.86402,
          -75.896079,
          -76.27467299999999,
          null
         ],
         "y": [
          42.771257,
          42.407568,
          42.415701999999996,
          42.790963999999995,
          42.771257,
          null
         ]
        },
        {
         "fill": "toself",
         "fillcolor": "rgb(38, 130, 142)",
         "hoverinfo": "none",
         "line": {
          "color": "rgb(255,255,255)",
          "width": 0.5
         },
         "mode": "lines",
         "name": "52527",
         "type": "scatter",
         "x": [
          -73.63621499999999,
          -73.573342,
          -73.635463,
          -73.274294,
          -73.24158899999999,
          -73.306234,
          -73.371889,
          -73.39576699999999,
          -73.430947,
          -73.350707,
          -73.3793298267232,
          -73.470131,
          -73.494314,
          -73.61323,
          -73.63621499999999,
          null
         ],
         "y": [
          43.498238,
          43.100545,
          42.941289999999995,
          42.943652,
          43.534973,
          43.628018,
          43.624489,
          43.568087,
          43.587036,
          43.770463,
          43.808476322237,
          43.776973999999996,
          43.653966,
          43.562931999999996,
          43.498238,
          null
         ]
        },
        {
         "fill": "toself",
         "fillcolor": "rgb(38, 130, 142)",
         "hoverinfo": "none",
         "line": {
          "color": "rgb(255,255,255)",
          "width": 0.5
         },
         "mode": "lines",
         "name": "52759",
         "type": "scatter",
         "x": [
          -74.0273918752465,
          -73.90968699999999,
          -73.669281,
          -73.49660399999999,
          -73.463838,
          -73.33863044507319,
          -73.390231,
          -73.333154,
          -73.381359,
          -73.338979,
          -73.343124,
          -74.0273918752465,
          null
         ],
         "y": [
          44.995765498918,
          44.429699,
          44.441355,
          44.486081,
          44.537681,
          44.5468424276295,
          44.618353,
          44.788759,
          44.845020999999996,
          44.917680999999995,
          45.010839999999995,
          44.995765498918,
          null
         ]
        },
        {
         "fill": "toself",
         "fillcolor": "rgb(38, 130, 142)",
         "hoverinfo": "none",
         "line": {
          "color": "rgb(255,255,255)",
          "width": 0.5
         },
         "mode": "lines",
         "name": "52782",
         "type": "scatter",
         "x": [
          -74.0420116265256,
          -74.012022,
          -73.93426954323711,
          -73.849852,
          -73.833041,
          -73.868917,
          -73.896466,
          -73.95508699999999,
          -74.0420116265256,
          null
         ],
         "y": [
          40.626048022196,
          40.574528,
          40.5667651450013,
          40.588668999999996,
          40.628260999999995,
          40.69515,
          40.682336,
          40.7394,
          40.626048022196,
          null
         ]
        },
        {
         "fill": "toself",
         "fillcolor": "rgb(33, 145, 140)",
         "hoverinfo": "none",
         "line": {
          "color": "rgb(255,255,255)",
          "width": 0.5
         },
         "mode": "lines",
         "name": "53214",
         "type": "scatter",
         "x": [
          -74.511284,
          -74.53730999999999,
          -74.307571,
          -74.07479699999999,
          -74.04239299999999,
          -74.00245,
          -73.910675,
          -73.788235,
          -73.775492,
          -74.254303,
          -74.244692,
          -74.276645,
          -74.443506,
          -74.511284,
          null
         ],
         "y": [
          42.236697,
          42.201423999999996,
          42.114346,
          42.096589,
          42.170386,
          42.176992,
          42.127292999999995,
          42.269832,
          42.460221999999995,
          42.408207,
          42.377159,
          42.363349,
          42.355017,
          42.236697,
          null
         ]
        },
        {
         "fill": "toself",
         "fillcolor": "rgb(33, 145, 140)",
         "hoverinfo": "none",
         "line": {
          "color": "rgb(255,255,255)",
          "width": 0.5
         },
         "mode": "lines",
         "name": "53654",
         "type": "scatter",
         "x": [
          -78.060752,
          -77.840694,
          -77.840231,
          -77.72296399999999,
          -77.72061699999999,
          -77.661315,
          -77.659917,
          -77.490889,
          -77.486875,
          -77.598815,
          -77.587997,
          -77.546309,
          -77.56725999999999,
          -77.758727,
          -77.73167099999999,
          -77.73095699999999,
          -77.909832,
          -77.95553,
          -77.956334,
          -78.060752,
          null
         ],
         "y": [
          42.536708999999995,
          42.517770999999996,
          42.474576,
          42.471216,
          42.535066,
          42.535067,
          42.580408999999996,
          42.577287999999996,
          42.670279,
          42.671965,
          42.854011,
          42.86569,
          42.936310999999996,
          42.940461,
          42.946078,
          42.988372,
          42.987762,
          42.905861,
          42.667322,
          42.536708999999995,
          null
         ]
        },
        {
         "fill": "toself",
         "fillcolor": "rgb(33, 145, 140)",
         "hoverinfo": "none",
         "line": {
          "color": "rgb(255,255,255)",
          "width": 0.5
         },
         "mode": "lines",
         "name": "53693",
         "type": "scatter",
         "x": [
          -77.376046,
          -77.371478,
          -76.71380599999999,
          -76.72250131286259,
          -76.952412,
          -77.376046,
          null
         ],
         "y": [
          43.2762243589198,
          43.034696,
          43.024035,
          43.3436862821829,
          43.270313,
          43.2762243589198,
          null
         ]
        },
        {
         "fill": "toself",
         "fillcolor": "rgb(33, 145, 140)",
         "hoverinfo": "none",
         "line": {
          "color": "rgb(255,255,255)",
          "width": 0.5
         },
         "mode": "lines",
         "name": "53877",
         "type": "scatter",
         "x": [
          -75.146446,
          -75.072172,
          -75.104334,
          -75.053431,
          -75.044224,
          -75.074613,
          -74.983341,
          -74.912517,
          -74.893913,
          -74.75858699999999,
          -74.752399,
          -74.475619,
          -74.364486,
          -74.395071,
          -74.575086,
          -74.453685,
          -74.780693,
          -75.146446,
          null
         ],
         "y": [
          41.850899,
          41.813731999999995,
          41.772693,
          41.752538,
          41.617978,
          41.605711,
          41.480894,
          41.475605,
          41.43893,
          41.423286999999995,
          41.493742999999995,
          41.503952999999996,
          41.593782999999995,
          41.644876,
          41.745258,
          41.875595,
          42.016375,
          41.850899,
          null
         ]
        },
        {
         "fill": "toself",
         "fillcolor": "rgb(31, 160, 136)",
         "hoverinfo": "none",
         "line": {
          "color": "rgb(255,255,255)",
          "width": 0.5
         },
         "mode": "lines",
         "name": "54006",
         "type": "scatter",
         "x": [
          -79.13689290760351,
          -78.99532599999999,
          -78.95703,
          -78.88298999999999,
          -78.46394,
          -78.463233,
          -78.488143,
          -78.464449,
          -78.72764699999999,
          -78.83126,
          -78.841745,
          -78.945262,
          -79.0192327742718,
          -79.019964,
          -78.918859,
          -78.853455,
          -79.04675399999999,
          -79.13689290760351,
          null
         ],
         "y": [
          42.5697987744532,
          42.531796,
          42.472362,
          42.438286,
          42.536332,
          42.780460999999995,
          42.78066,
          43.088702999999995,
          43.08622,
          43.050246,
          43.018862999999996,
          43.066956,
          43.067931426587805,
          42.994755999999995,
          42.946857,
          42.783958,
          42.691345999999996,
          42.5697987744532,
          null
         ]
        },
        {
         "fill": "toself",
         "fillcolor": "rgb(31, 160, 136)",
         "hoverinfo": "none",
         "line": {
          "color": "rgb(255,255,255)",
          "width": 0.5
         },
         "mode": "lines",
         "name": "54033",
         "type": "scatter",
         "x": [
          -78.465505,
          -78.464381,
          -77.95496399999999,
          -77.95553,
          -77.911413,
          -77.904121,
          -77.951044,
          -77.905934,
          -78.465505,
          null
         ],
         "y": [
          43.128619,
          42.867461,
          42.862753999999995,
          42.905861,
          42.945063999999995,
          43.037056,
          43.039544,
          43.133561,
          43.128619,
          null
         ]
        },
        {
         "fill": "toself",
         "fillcolor": "rgb(31, 160, 136)",
         "hoverinfo": "none",
         "line": {
          "color": "rgb(255,255,255)",
          "width": 0.5
         },
         "mode": "lines",
         "name": "54664",
         "type": "scatter",
         "x": [
          -76.74006,
          -76.728951,
          -76.66654299999999,
          -76.26558399999999,
          -76.286198,
          -76.357018,
          -76.450738,
          -76.499274,
          -76.471774,
          -76.48114799999999,
          -76.605012,
          -76.61692529756529,
          -76.72250131286259,
          -76.702325,
          -76.739361,
          -76.717185,
          -76.74006,
          null
         ],
         "y": [
          42.789418999999995,
          42.712897999999996,
          42.623456999999995,
          42.623588,
          42.794443,
          42.849447999999995,
          42.84576,
          43.097201,
          43.104983,
          43.256640999999995,
          43.253569999999996,
          43.4180442652892,
          43.3436862821829,
          43.080393,
          42.954473,
          42.83883,
          42.789418999999995,
          null
         ]
        },
        {
         "fill": "toself",
         "fillcolor": "rgb(40, 174, 128)",
         "hoverinfo": "none",
         "line": {
          "color": "rgb(255,255,255)",
          "width": 0.5
         },
         "mode": "lines",
         "name": "55272",
         "type": "scatter",
         "x": [
          -77.997248,
          -77.905934,
          -77.951044,
          -77.904121,
          -77.909832,
          -77.73095699999999,
          -77.73167099999999,
          -77.758727,
          -77.482517,
          -77.485418,
          -77.371478,
          -77.376046,
          -77.551022,
          -77.76023099999999,
          -77.99559629134319,
          -77.997248,
          null
         ],
         "y": [
          43.136519,
          43.133561,
          43.039544,
          43.037056,
          42.987762,
          42.988372,
          42.946078,
          42.940461,
          42.943163999999996,
          43.034563999999996,
          43.034696,
          43.2762243589198,
          43.235763,
          43.341161,
          43.3652387952246,
          43.136519,
          null
         ]
        },
        {
         "fill": "toself",
         "fillcolor": "rgb(40, 174, 128)",
         "hoverinfo": "none",
         "line": {
          "color": "rgb(255,255,255)",
          "width": 0.5
         },
         "mode": "lines",
         "name": "55294",
         "type": "scatter",
         "x": [
          -74.336826,
          -74.213734,
          -74.149076,
          -74.047062,
          -74.057005,
          -73.3793298267232,
          -73.405999,
          -73.43773999999999,
          -73.39058299999999,
          -73.31285199999999,
          -73.33493899999999,
          -73.293855,
          -73.306707,
          -73.33863044507319,
          -73.463838,
          -73.49660399999999,
          -73.669281,
          -74.141424,
          -74.09349,
          -74.28187,
          -74.25599799999999,
          -74.336826,
          null
         ],
         "y": [
          43.925222999999995,
          43.810874999999996,
          43.829612999999995,
          43.796343,
          43.744513,
          43.808476322237,
          44.016228999999996,
          44.045006,
          44.190886,
          44.265346,
          44.364441,
          44.437556,
          44.500333999999995,
          44.5468424276295,
          44.537681,
          44.486081,
          44.441355,
          44.407267999999995,
          44.137615,
          44.120551999999996,
          43.969797,
          43.925222999999995,
          null
         ]
        },
        {
         "fill": "toself",
         "fillcolor": "rgb(40, 174, 128)",
         "hoverinfo": "none",
         "line": {
          "color": "rgb(255,255,255)",
          "width": 0.5
         },
         "mode": "lines",
         "name": "55459",
         "type": "scatter",
         "x": [
          -78.488118,
          -78.463233,
          -78.464556,
          -78.03826099999999,
          -78.060752,
          -78.028031,
          -78.050827,
          -77.956334,
          -77.95496399999999,
          -78.486256,
          -78.488118,
          null
         ],
         "y": [
          42.781571,
          42.780460999999995,
          42.519166,
          42.521522,
          42.536708999999995,
          42.567738999999996,
          42.576007999999995,
          42.667322,
          42.862753999999995,
          42.867731,
          42.781571,
          null
         ]
        },
        {
         "fill": "toself",
         "fillcolor": "rgb(40, 174, 128)",
         "hoverinfo": "none",
         "line": {
          "color": "rgb(255,255,255)",
          "width": 0.5
         },
         "mode": "lines",
         "name": "55587",
         "type": "scatter",
         "x": [
          -74.867712,
          -74.534657,
          -74.32637799999999,
          -74.29270199999999,
          -74.140147,
          -74.214625,
          -74.057005,
          -74.047062,
          -74.149076,
          -74.213734,
          -74.336826,
          -74.25599799999999,
          -74.28187,
          -74.854171,
          -74.775617,
          -74.867712,
          null
         ],
         "y": [
          43.339825999999995,
          43.228114999999995,
          43.241634999999995,
          43.216609,
          43.253979,
          43.728702999999996,
          43.744513,
          43.796343,
          43.829612999999995,
          43.810874999999996,
          43.925222999999995,
          43.969797,
          44.120551999999996,
          44.070088999999996,
          43.486677,
          43.339825999999995,
          null
         ]
        },
        {
         "fill": "toself",
         "fillcolor": "rgb(63, 188, 115)",
         "hoverinfo": "none",
         "line": {
          "color": "rgb(255,255,255)",
          "width": 0.5
         },
         "mode": "lines",
         "name": "56200",
         "type": "scatter",
         "x": [
          -76.69665499999999,
          -76.691406,
          -76.41619899999999,
          -76.415305,
          -76.250149,
          -76.239779,
          -76.299493,
          -76.253359,
          -76.26558399999999,
          -76.66654299999999,
          -76.585989,
          -76.69665499999999,
          null
         ],
         "y": [
          42.54679,
          42.284307,
          42.262975999999995,
          42.318368,
          42.296676,
          42.359705,
          42.385011999999996,
          42.407568,
          42.623588,
          42.623456999999995,
          42.54991,
          42.54679,
          null
         ]
        },
        {
         "fill": "toself",
         "fillcolor": "rgb(63, 188, 115)",
         "hoverinfo": "none",
         "line": {
          "color": "rgb(255,255,255)",
          "width": 0.5
         },
         "mode": "lines",
         "name": "57153",
         "type": "scatter",
         "x": [
          -76.563133,
          -76.55762413688969,
          -76.10584,
          -76.116225,
          -76.086683,
          -76.080681,
          -76.124521,
          -76.29318599999999,
          -76.298429,
          -76.23855499999999,
          -76.250149,
          -76.415305,
          -76.41619899999999,
          -76.538349,
          -76.536507,
          -76.563133,
          null
         ],
         "y": [
          42.154184,
          42.000148906120295,
          41.998858,
          42.18561,
          42.186858,
          42.258084,
          42.402013,
          42.406403,
          42.381546,
          42.356621,
          42.296676,
          42.318368,
          42.262975999999995,
          42.281755,
          42.155403,
          42.154184,
          null
         ]
        },
        {
         "fill": "toself",
         "fillcolor": "rgb(63, 188, 115)",
         "hoverinfo": "none",
         "line": {
          "color": "rgb(255,255,255)",
          "width": 0.5
         },
         "mode": "lines",
         "name": "57271",
         "type": "scatter",
         "x": [
          -76.499312,
          -76.450738,
          -76.357018,
          -76.27467299999999,
          -75.896079,
          -75.917219,
          -75.975588,
          -75.950057,
          -75.99143699999999,
          -76.202573,
          -76.194248,
          -76.217646,
          -76.267551,
          -76.281027,
          -76.307541,
          -76.479224,
          -76.471774,
          -76.499312,
          null
         ],
         "y": [
          43.097949,
          42.84576,
          42.849447999999995,
          42.771257,
          42.790963999999995,
          43.085926,
          43.091277999999996,
          43.134853,
          43.18325,
          43.271539,
          43.217068,
          43.204820999999995,
          43.239667999999995,
          43.201091,
          43.230788,
          43.227519,
          43.104983,
          43.097949,
          null
         ]
        },
        {
         "fill": "toself",
         "fillcolor": "rgb(63, 188, 115)",
         "hoverinfo": "none",
         "line": {
          "color": "rgb(255,255,255)",
          "width": 0.5
         },
         "mode": "lines",
         "name": "58365",
         "type": "scatter",
         "x": [
          -75.99242799999999,
          -75.950057,
          -75.975588,
          -75.917219,
          -75.889832,
          -75.29587699999999,
          -75.251037,
          -75.247963,
          -75.437167,
          -75.44417299999999,
          -75.54280299999999,
          -75.552774,
          -75.596879,
          -75.719899,
          -75.86759599999999,
          -75.99242799999999,
          null
         ],
         "y": [
          43.185164,
          43.134853,
          43.091277999999996,
          43.085926,
          42.723844,
          42.744105999999995,
          42.785115,
          42.871604,
          42.863319,
          42.933088999999995,
          42.931774,
          43.037554,
          43.035399,
          43.161052999999995,
          43.146629,
          43.185164,
          null
         ]
        },
        {
         "fill": "toself",
         "fillcolor": "rgb(94, 201, 98)",
         "hoverinfo": "none",
         "line": {
          "color": "rgb(255,255,255)",
          "width": 0.5
         },
         "mode": "lines",
         "name": "60222",
         "type": "scatter",
         "x": [
          -74.214625,
          -74.1601,
          -73.883299,
          -73.824615,
          -73.83491699999999,
          -73.767498,
          -73.73469,
          -73.669561,
          -73.671273,
          -73.59496,
          -73.636212,
          -73.61323,
          -73.494314,
          -73.459294,
          -73.471057,
          -73.436578,
          -74.214625,
          null
         ],
         "y": [
          43.728702999999996,
          43.371531999999995,
          43.397988,
          43.304269999999995,
          43.251003999999995,
          43.222122999999996,
          43.268896999999996,
          43.263870999999995,
          43.293154,
          43.306118,
          43.50013,
          43.562931999999996,
          43.653966,
          43.730031,
          43.775256999999996,
          43.801418999999996,
          43.728702999999996,
          null
         ]
        },
        {
         "fill": "toself",
         "fillcolor": "rgb(94, 201, 98)",
         "hoverinfo": "none",
         "line": {
          "color": "rgb(255,255,255)",
          "width": 0.5
         },
         "mode": "lines",
         "name": "61093",
         "type": "scatter",
         "x": [
          -73.929114,
          -73.52707199999999,
          -73.3525249549442,
          -73.783721,
          -73.784116,
          -73.847813,
          -73.929114,
          null
         ],
         "y": [
          42.081658,
          41.977979999999995,
          42.5100075099506,
          42.464231,
          42.280465,
          42.230346999999995,
          42.081658,
          null
         ]
        },
        {
         "fill": "toself",
         "fillcolor": "rgb(94, 201, 98)",
         "hoverinfo": "none",
         "line": {
          "color": "rgb(255,255,255)",
          "width": 0.5
         },
         "mode": "lines",
         "name": "61315",
         "type": "scatter",
         "x": [
          -74.305932,
          -74.272295,
          -74.202713,
          -73.80936899999999,
          -73.895938,
          -73.904386,
          -73.955458,
          -74.09298,
          -74.083883,
          -74.256829,
          -74.252815,
          -74.305932,
          null
         ],
         "y": [
          42.751492999999996,
          42.71427,
          42.710826,
          42.778869,
          42.851076,
          42.911162999999995,
          42.897306,
          42.955867999999995,
          42.897354,
          42.812214,
          42.76349,
          42.751492999999996,
          null
         ]
        },
        {
         "fill": "toself",
         "fillcolor": "rgb(132, 212, 75)",
         "hoverinfo": "none",
         "line": {
          "color": "rgb(255,255,255)",
          "width": 0.5
         },
         "mode": "lines",
         "name": "61652",
         "type": "scatter",
         "x": [
          -74.780693,
          -74.453685,
          -74.575086,
          -74.395071,
          -74.368191,
          -74.264292,
          -74.187505,
          -74.126393,
          -74.134511,
          -74.05394199999999,
          -73.953307,
          -73.93938899999999,
          -73.964413,
          -73.910675,
          -74.00245,
          -74.04239299999999,
          -74.07479699999999,
          -74.307571,
          -74.451713,
          -74.780693,
          null
         ],
         "y": [
          42.016375,
          41.875595,
          41.745258,
          41.644876,
          41.591353,
          41.632629,
          41.590793,
          41.582544,
          41.615694999999995,
          41.580724,
          41.589977,
          41.865852,
          41.913148,
          42.127292999999995,
          42.176992,
          42.170386,
          42.096589,
          42.114346,
          42.169225,
          42.016375,
          null
         ]
        },
        {
         "fill": "toself",
         "fillcolor": "rgb(132, 212, 75)",
         "hoverinfo": "none",
         "line": {
          "color": "rgb(255,255,255)",
          "width": 0.5
         },
         "mode": "lines",
         "name": "61710",
         "type": "scatter",
         "x": [
          -77.61166999999999,
          -77.598815,
          -77.486875,
          -77.490889,
          -77.36650499999999,
          -77.36710599999999,
          -77.31300399999999,
          -76.971392,
          -76.963926,
          -77.485418,
          -77.482517,
          -77.580377,
          -77.546309,
          -77.587997,
          -77.588217,
          -77.61166999999999,
          null
         ],
         "y": [
          42.763169,
          42.671965,
          42.670279,
          42.577287999999996,
          42.576367999999995,
          42.667866,
          42.761264999999995,
          42.764223,
          43.013157,
          43.034563999999996,
          42.943163999999996,
          42.943963,
          42.86569,
          42.854011,
          42.762964,
          42.763169,
          null
         ]
        },
        {
         "fill": "toself",
         "fillcolor": "rgb(132, 212, 75)",
         "hoverinfo": "none",
         "line": {
          "color": "rgb(255,255,255)",
          "width": 0.5
         },
         "mode": "lines",
         "name": "62008",
         "type": "scatter",
         "x": [
          -73.96262,
          -73.896466,
          -73.868917,
          -73.833041,
          -73.849852,
          -73.940591,
          -73.737185,
          -73.768761,
          -73.72498399999999,
          -73.73032599999999,
          -73.701633,
          -73.817418,
          -73.91245599999999,
          -73.96262,
          null
         ],
         "y": [
          40.739033,
          40.682336,
          40.69515,
          40.628260999999995,
          40.588668999999996,
          40.542896,
          40.592965,
          40.624351999999995,
          40.652678,
          40.722156999999996,
          40.752493,
          40.805789999999995,
          40.796096,
          40.739033,
          null
         ]
        },
        {
         "fill": "toself",
         "fillcolor": "rgb(132, 212, 75)",
         "hoverinfo": "none",
         "line": {
          "color": "rgb(255,255,255)",
          "width": 0.5
         },
         "mode": "lines",
         "name": "62293",
         "type": "scatter",
         "x": [
          -74.264731,
          -73.783721,
          -73.761265,
          -73.676762,
          -73.726663,
          -73.809603,
          -74.180274,
          -74.169725,
          -74.233995,
          -74.226447,
          -74.264731,
          null
         ],
         "y": [
          42.420127,
          42.464231,
          42.610378999999995,
          42.783277,
          42.822576999999995,
          42.775016,
          42.729979,
          42.667426,
          42.575688,
          42.499233,
          42.420127,
          null
         ]
        },
        {
         "fill": "toself",
         "fillcolor": "rgb(173, 220, 48)",
         "hoverinfo": "none",
         "line": {
          "color": "rgb(255,255,255)",
          "width": 0.5
         },
         "mode": "lines",
         "name": "63166",
         "type": "scatter",
         "x": [
          -73.786047,
          -73.3525249549442,
          -73.264957,
          -73.290944,
          -73.274294,
          -73.659675,
          -73.684535,
          -73.658462,
          -73.761265,
          -73.786047,
          null
         ],
         "y": [
          42.483835,
          42.5100075099506,
          42.74594,
          42.801919999999996,
          42.943652,
          42.933364,
          42.892837,
          42.809076999999995,
          42.610378999999995,
          42.483835,
          null
         ]
        },
        {
         "fill": "toself",
         "fillcolor": "rgb(173, 220, 48)",
         "hoverinfo": "none",
         "line": {
          "color": "rgb(255,255,255)",
          "width": 0.5
         },
         "mode": "lines",
         "name": "75146",
         "type": "scatter",
         "x": [
          -74.762466,
          -74.696398,
          -74.2343582601916,
          -73.961257,
          -73.947355,
          -74.000108,
          -73.953307,
          -74.05394199999999,
          -74.134511,
          -74.126393,
          -74.187505,
          -74.264292,
          -74.418399,
          -74.475619,
          -74.752399,
          -74.762466,
          null
         ],
         "y": [
          41.449525,
          41.357338999999996,
          41.142836102143896,
          41.348538999999995,
          41.395254,
          41.456548999999995,
          41.589977,
          41.580724,
          41.615694999999995,
          41.582544,
          41.590793,
          41.632629,
          41.569396999999995,
          41.503952999999996,
          41.493742999999995,
          41.449525,
          null
         ]
        },
        {
         "fill": "toself",
         "fillcolor": "rgb(173, 220, 48)",
         "hoverinfo": "none",
         "line": {
          "color": "rgb(255,255,255)",
          "width": 0.5
         },
         "mode": "lines",
         "name": "75585",
         "type": "scatter",
         "x": [
          -73.999911,
          -73.98148599999999,
          -73.933775,
          -73.530067,
          -73.487314,
          -73.521416,
          -73.52707199999999,
          -73.929626,
          -73.964413,
          -73.93958099999999,
          -73.942482,
          -73.999911,
          null
         ],
         "y": [
          41.459655999999995,
          41.438905,
          41.488279,
          41.527194,
          42.049638,
          42.049966,
          41.977979999999995,
          42.078778,
          41.913148,
          41.870044,
          41.684093,
          41.459655999999995,
          null
         ]
        },
        {
         "fill": "toself",
         "fillcolor": "rgb(216, 226, 25)",
         "hoverinfo": "none",
         "line": {
          "color": "rgb(255,255,255)",
          "width": 0.5
         },
         "mode": "lines",
         "name": "76244",
         "type": "scatter",
         "x": [
          -74.161704,
          -74.161255,
          -74.15919199999999,
          -74.157552,
          -74.161704,
          null,
          -74.25608799999999,
          -74.111471,
          -74.053125,
          -74.0697,
          -74.1894,
          -74.25608799999999,
          null
         ],
         "y": [
          40.64586,
          40.64179,
          40.641448,
          40.643239,
          40.64586,
          null,
          40.507903,
          40.546907999999995,
          40.603677999999995,
          40.641216,
          40.642120999999996,
          40.507903,
          null
         ]
        },
        {
         "fill": "toself",
         "fillcolor": "rgb(216, 226, 25)",
         "hoverinfo": "none",
         "line": {
          "color": "rgb(255,255,255)",
          "width": 0.5
         },
         "mode": "lines",
         "name": "77548",
         "type": "scatter",
         "x": [
          -74.1601,
          -74.09298,
          -73.955458,
          -73.904386,
          -73.895938,
          -73.822166,
          -73.726663,
          -73.676762,
          -73.68307399999999,
          -73.578155,
          -73.588822,
          -73.73047799999999,
          -73.767498,
          -73.83491699999999,
          -73.824615,
          -73.883299,
          -74.1601,
          null
         ],
         "y": [
          43.371531999999995,
          42.955867999999995,
          42.897306,
          42.911162999999995,
          42.851076,
          42.780277999999996,
          42.822576999999995,
          42.783277,
          42.903776,
          43.055786999999995,
          43.300543,
          43.270773999999996,
          43.222122999999996,
          43.251003999999995,
          43.304269999999995,
          43.397988,
          43.371531999999995,
          null
         ]
        },
        {
         "fill": "toself",
         "fillcolor": "rgb(216, 226, 25)",
         "hoverinfo": "none",
         "line": {
          "color": "rgb(255,255,255)",
          "width": 0.5
         },
         "mode": "lines",
         "name": "79781",
         "type": "scatter",
         "x": [
          -73.999496,
          -74.0000444533092,
          -73.9975,
          -73.999496,
          null,
          -74.00049381449809,
          -74.00103899999999,
          -73.998763,
          -74.0002063806559,
          -74.00049381449809,
          null,
          -74.0065121058308,
          -74.000699,
          -74.00061737911429,
          -74.002408,
          -74.0065121058308,
          null,
          -74.0084737266571,
          -74.012113182521,
          -74.008425,
          -74.0084737266571,
          null,
          -74.02385865547001,
          -73.969613,
          -73.910296,
          -73.933459,
          -73.909505,
          -73.9334079229381,
          -74.02385865547001,
          null,
          -74.027106,
          -74.013083,
          -74.012132,
          -74.01950000000001,
          -74.027106,
          null,
          -74.04692,
          -74.044451,
          -74.039401,
          -74.04086,
          -74.04692,
          null
         ],
         "y": [
          40.700328999999996,
          40.6994652660133,
          40.699653,
          40.700328999999996,
          null,
          40.6987575876666,
          40.697899,
          40.697109999999995,
          40.6992102540544,
          40.6987575876666,
          null,
          40.6887282492338,
          40.690612,
          40.6951221683874,
          40.695702999999995,
          40.6887282492338,
          null,
          40.68654528455949,
          40.6841858115304,
          40.686015999999995,
          40.68654528455949,
          null,
          40.7130277101558,
          40.707634,
          40.790656999999996,
          40.833183999999996,
          40.878878,
          40.882074964842694,
          40.7130277101558,
          null,
          40.685092,
          40.687795,
          40.690678999999996,
          40.693382,
          40.685092,
          null,
          40.691139,
          40.688445,
          40.700454,
          40.700117,
          40.691139,
          null
         ]
        },
        {
         "fill": "toself",
         "fillcolor": "rgb(216, 226, 25)",
         "hoverinfo": "none",
         "line": {
          "color": "rgb(255,255,255)",
          "width": 0.5
         },
         "mode": "lines",
         "name": "88571",
         "type": "scatter",
         "x": [
          -74.2343582601916,
          -73.90500999999999,
          -73.893979,
          -73.88748,
          -73.970784,
          -73.94578299999999,
          -73.98138399999999,
          -74.2343582601916,
          null
         ],
         "y": [
          41.142836102143896,
          40.997591,
          40.997197,
          41.138295,
          41.247893,
          41.287593,
          41.324692999999996,
          41.142836102143896,
          null
         ]
        },
        {
         "fill": "toself",
         "fillcolor": "rgb(253, 231, 37)",
         "hoverinfo": "none",
         "line": {
          "color": "rgb(255,255,255)",
          "width": 0.5
         },
         "mode": "lines",
         "name": "89968",
         "type": "scatter",
         "x": [
          -73.772776,
          -73.77527599999999,
          -73.76744099999999,
          -73.767276,
          -73.772776,
          null,
          -73.982584,
          -73.94578299999999,
          -73.970784,
          -73.88748,
          -73.91790499999999,
          -73.7835452253621,
          -73.65597199999999,
          -73.727775,
          -73.482709,
          -73.550961,
          -73.54472799999999,
          -73.982584,
          null
         ],
         "y": [
          40.884599,
          40.882199,
          40.880686999999995,
          40.886899,
          40.884599,
          null,
          41.321692999999996,
          41.287593,
          41.247893,
          41.138295,
          40.917577,
          40.881039556340504,
          40.979597,
          41.100696,
          41.212759999999996,
          41.295421999999995,
          41.366375,
          41.321692999999996,
          null
         ]
        },
        {
         "fill": "toself",
         "fillcolor": "rgb(253, 231, 37)",
         "hoverinfo": "none",
         "line": {
          "color": "rgb(255,255,255)",
          "width": 0.5
         },
         "mode": "lines",
         "name": "92838",
         "type": "scatter",
         "x": [
          -72.0368298202051,
          -72.002461,
          -71.92138299999999,
          -72.020495,
          -72.0368298202051,
          null,
          -72.142929,
          -72.10640000000001,
          -72.086975,
          -72.079514,
          -72.12979399999999,
          -72.142929,
          null,
          -72.210995,
          -72.198601,
          -72.161034,
          -72.18898,
          -72.210995,
          null,
          -73.49740276398609,
          -73.45536299999999,
          -73.4237926181023,
          -73.262348,
          -72.474097,
          -71.856214,
          -71.955203,
          -71.96351299999999,
          -72.10216,
          -72.153857,
          -72.260515,
          -72.317238,
          -72.32663,
          -72.294778,
          -72.232006,
          -72.278789,
          -72.635562,
          -73.118331,
          -73.159576,
          -73.148994,
          -73.22838399999999,
          -73.392862,
          -73.407356,
          -73.35506699999999,
          -73.426608,
          -73.485365,
          -73.49740276398609,
          null
         ],
         "y": [
          41.2498425393847,
          41.252866999999995,
          41.292119,
          41.275866,
          41.2498425393847,
          null,
          41.097811,
          41.088882999999996,
          41.058292,
          41.100677,
          41.123875999999996,
          41.097811,
          null,
          41.178945999999996,
          41.164950999999995,
          41.188671,
          41.189011,
          41.178945999999996,
          null,
          40.9237276150943,
          40.842593,
          40.609632588866,
          40.621961999999996,
          40.840837,
          41.070598,
          41.07307,
          41.042533,
          40.991509,
          41.051859,
          41.042065,
          41.088659,
          41.132162,
          41.113293,
          41.161184999999996,
          41.158722,
          40.981957,
          40.978071,
          40.968447999999995,
          40.928898,
          40.905961,
          40.955297,
          40.9162,
          40.912787,
          40.906141,
          40.946397,
          40.9237276150943,
          null
         ]
        },
        {
         "fill": "toself",
         "fillcolor": "rgb(253, 231, 37)",
         "hoverinfo": "none",
         "line": {
          "color": "rgb(255,255,255)",
          "width": 0.5
         },
         "mode": "lines",
         "name": "99608",
         "type": "scatter",
         "x": [
          -73.98138399999999,
          -73.54472799999999,
          -73.530067,
          -73.933775,
          -73.98148599999999,
          -73.947355,
          -73.98138399999999,
          null
         ],
         "y": [
          41.324692999999996,
          41.366375,
          41.527194,
          41.488279,
          41.438905,
          41.395254,
          41.324692999999996,
          null
         ]
        },
        {
         "fill": "toself",
         "fillcolor": "rgb(253, 231, 37)",
         "hoverinfo": "none",
         "line": {
          "color": "rgb(255,255,255)",
          "width": 0.5
         },
         "mode": "lines",
         "name": "105744",
         "type": "scatter",
         "x": [
          -73.490973,
          -73.4933726545695,
          -73.4895969495325,
          -73.490973,
          null,
          -73.768709,
          -73.738151,
          -73.75477599999999,
          -73.573478,
          -73.4237926181023,
          -73.46253,
          -73.494822,
          -73.541883,
          -73.521423,
          -73.633134,
          -73.648602,
          -73.729575,
          -73.70612,
          -73.75300899999999,
          -73.76554,
          -73.70001599999999,
          -73.73032599999999,
          -73.72498399999999,
          -73.768709,
          null
         ],
         "y": [
          40.919471,
          40.9195932598093,
          40.916740710038,
          40.919471,
          null,
          40.624386,
          40.602709999999995,
          40.584404,
          40.578005999999995,
          40.609632588866,
          40.867295,
          40.894822999999995,
          40.876854,
          40.918304,
          40.90269,
          40.828821,
          40.8665,
          40.815903,
          40.838392,
          40.810866,
          40.739272,
          40.722156999999996,
          40.652678,
          40.624386,
          null
         ]
        },
        {
         "hoverinfo": "text",
         "legendgroup": "centroids",
         "marker": {
          "color": "white",
          "opacity": 0
         },
         "mode": "markers",
         "name": "US Counties",
         "selected": {
          "marker": {
           "color": "white",
           "opacity": 1,
           "size": 3
          }
         },
         "showlegend": false,
         "text": [
          "County: Westchester<br>State: New York<br>FIPS: 36119<br>Value: 89968",
          "County: Westchester<br>State: New York<br>FIPS: 36119<br>Value: 89968",
          "County: Suffolk<br>State: New York<br>FIPS: 36103<br>Value: 92838",
          "County: Suffolk<br>State: New York<br>FIPS: 36103<br>Value: 92838",
          "County: Suffolk<br>State: New York<br>FIPS: 36103<br>Value: 92838",
          "County: Suffolk<br>State: New York<br>FIPS: 36103<br>Value: 92838",
          "County: Richmond<br>State: New York<br>FIPS: 36085<br>Value: 76244",
          "County: Richmond<br>State: New York<br>FIPS: 36085<br>Value: 76244",
          "County: New York<br>State: New York<br>FIPS: 36061<br>Value: 79781",
          "County: New York<br>State: New York<br>FIPS: 36061<br>Value: 79781",
          "County: New York<br>State: New York<br>FIPS: 36061<br>Value: 79781",
          "County: New York<br>State: New York<br>FIPS: 36061<br>Value: 79781",
          "County: New York<br>State: New York<br>FIPS: 36061<br>Value: 79781",
          "County: New York<br>State: New York<br>FIPS: 36061<br>Value: 79781",
          "County: New York<br>State: New York<br>FIPS: 36061<br>Value: 79781",
          "County: Nassau<br>State: New York<br>FIPS: 36059<br>Value: 105744",
          "County: Nassau<br>State: New York<br>FIPS: 36059<br>Value: 105744",
          "County: Jefferson<br>State: New York<br>FIPS: 36045<br>Value: 50322",
          "County: Jefferson<br>State: New York<br>FIPS: 36045<br>Value: 50322",
          "County: Jefferson<br>State: New York<br>FIPS: 36045<br>Value: 50322",
          "County: Jefferson<br>State: New York<br>FIPS: 36045<br>Value: 50322",
          "County: Jefferson<br>State: New York<br>FIPS: 36045<br>Value: 50322",
          "County: Jefferson<br>State: New York<br>FIPS: 36045<br>Value: 50322",
          "County: Jefferson<br>State: New York<br>FIPS: 36045<br>Value: 50322",
          "County: Jefferson<br>State: New York<br>FIPS: 36045<br>Value: 50322",
          "County: Jefferson<br>State: New York<br>FIPS: 36045<br>Value: 50322",
          "County: Bronx<br>State: New York<br>FIPS: 36005<br>Value: 36593",
          "County: Bronx<br>State: New York<br>FIPS: 36005<br>Value: 36593",
          "County: Albany<br>State: New York<br>FIPS: 36001<br>Value: 62293",
          "County: Allegany<br>State: New York<br>FIPS: 36003<br>Value: 45359",
          "County: Broome<br>State: New York<br>FIPS: 36007<br>Value: 49064",
          "County: Cattaraugus<br>State: New York<br>FIPS: 36009<br>Value: 45571",
          "County: Cayuga<br>State: New York<br>FIPS: 36011<br>Value: 54664",
          "County: Chautauqua<br>State: New York<br>FIPS: 36013<br>Value: 44304",
          "County: Chemung<br>State: New York<br>FIPS: 36015<br>Value: 51251",
          "County: Chenango<br>State: New York<br>FIPS: 36017<br>Value: 48567",
          "County: Clinton<br>State: New York<br>FIPS: 36019<br>Value: 52759",
          "County: Columbia<br>State: New York<br>FIPS: 36021<br>Value: 61093",
          "County: Cortland<br>State: New York<br>FIPS: 36023<br>Value: 52451",
          "County: Delaware<br>State: New York<br>FIPS: 36025<br>Value: 47921",
          "County: Dutchess<br>State: New York<br>FIPS: 36027<br>Value: 75585",
          "County: Erie<br>State: New York<br>FIPS: 36029<br>Value: 54006",
          "County: Essex<br>State: New York<br>FIPS: 36031<br>Value: 55294",
          "County: Franklin<br>State: New York<br>FIPS: 36033<br>Value: 50733",
          "County: Fulton<br>State: New York<br>FIPS: 36035<br>Value: 48033",
          "County: Genesee<br>State: New York<br>FIPS: 36037<br>Value: 54033",
          "County: Greene<br>State: New York<br>FIPS: 36039<br>Value: 53214",
          "County: Hamilton<br>State: New York<br>FIPS: 36041<br>Value: 55587",
          "County: Herkimer<br>State: New York<br>FIPS: 36043<br>Value: 49077",
          "County: Kings<br>State: New York<br>FIPS: 36047<br>Value: 52782",
          "County: Lewis<br>State: New York<br>FIPS: 36049<br>Value: 51475",
          "County: Livingston<br>State: New York<br>FIPS: 36051<br>Value: 53654",
          "County: Madison<br>State: New York<br>FIPS: 36053<br>Value: 58365",
          "County: Monroe<br>State: New York<br>FIPS: 36055<br>Value: 55272",
          "County: Montgomery<br>State: New York<br>FIPS: 36057<br>Value: 47449",
          "County: Niagara<br>State: New York<br>FIPS: 36063<br>Value: 51656",
          "County: Oneida<br>State: New York<br>FIPS: 36065<br>Value: 51316",
          "County: Onondaga<br>State: New York<br>FIPS: 36067<br>Value: 57271",
          "County: Ontario<br>State: New York<br>FIPS: 36069<br>Value: 61710",
          "County: Orange<br>State: New York<br>FIPS: 36071<br>Value: 75146",
          "County: Orleans<br>State: New York<br>FIPS: 36073<br>Value: 49223",
          "County: Oswego<br>State: New York<br>FIPS: 36075<br>Value: 51755",
          "County: Otsego<br>State: New York<br>FIPS: 36077<br>Value: 51254",
          "County: Putnam<br>State: New York<br>FIPS: 36079<br>Value: 99608",
          "County: Queens<br>State: New York<br>FIPS: 36081<br>Value: 62008",
          "County: Rensselaer<br>State: New York<br>FIPS: 36083<br>Value: 63166",
          "County: Rockland<br>State: New York<br>FIPS: 36087<br>Value: 88571",
          "County: St. Lawrence<br>State: New York<br>FIPS: 36089<br>Value: 48330",
          "County: Saratoga<br>State: New York<br>FIPS: 36091<br>Value: 77548",
          "County: Schenectady<br>State: New York<br>FIPS: 36093<br>Value: 61315",
          "County: Schoharie<br>State: New York<br>FIPS: 36095<br>Value: 51842",
          "County: Schuyler<br>State: New York<br>FIPS: 36097<br>Value: 47810",
          "County: Seneca<br>State: New York<br>FIPS: 36099<br>Value: 51601",
          "County: Steuben<br>State: New York<br>FIPS: 36101<br>Value: 50157",
          "County: Sullivan<br>State: New York<br>FIPS: 36105<br>Value: 53877",
          "County: Tioga<br>State: New York<br>FIPS: 36107<br>Value: 57153",
          "County: Tompkins<br>State: New York<br>FIPS: 36109<br>Value: 56200",
          "County: Ulster<br>State: New York<br>FIPS: 36111<br>Value: 61652",
          "County: Warren<br>State: New York<br>FIPS: 36113<br>Value: 60222",
          "County: Washington<br>State: New York<br>FIPS: 36115<br>Value: 52527",
          "County: Wayne<br>State: New York<br>FIPS: 36117<br>Value: 53693",
          "County: Wyoming<br>State: New York<br>FIPS: 36121<br>Value: 55459",
          "County: Yates<br>State: New York<br>FIPS: 36123<br>Value: 51758"
         ],
         "type": "scatter",
         "unselected": {
          "marker": {
           "opacity": 0
          }
         },
         "x": [
          [
           -73.7706243502491
          ],
          [
           -73.75605592283678
          ],
          [
           -71.98808192159649
          ],
          [
           -72.10561325190686
          ],
          [
           -72.19288869812053
          ],
          [
           -72.85272360623564
          ],
          [
           -74.15989566400411
          ],
          [
           -74.15238026243995
          ],
          [
           -73.99901348443639
          ],
          [
           -74.00000279355197
          ],
          [
           -74.0034838754427
          ],
          [
           -74.00958610726083
          ],
          [
           -73.96656482880358
          ],
          [
           -74.01929263692867
          ],
          [
           -74.04266306753995
          ],
          [
           -73.49131420136733
          ],
          [
           -73.58640734387465
          ],
          [
           -76.14427346995657
          ],
          [
           -76.17729404728394
          ],
          [
           -76.32647494244142
          ],
          [
           -76.32944230559706
          ],
          [
           -75.91801294481759
          ],
          [
           -76.36840090395376
          ],
          [
           -76.362220738721
          ],
          [
           -76.39552345028977
          ],
          [
           -76.41193748921249
          ],
          [
           -73.77045075631817
          ],
          [
           -73.86649223768777
          ],
          -73.97355542101836,
          -78.02758624086562,
          -75.81962213049194,
          -78.67883512434483,
          -76.5545071845072,
          -79.36632642247623,
          -76.76002679640985,
          -75.61159184767055,
          -73.6781638378136,
          -73.63179668115154,
          -76.0702786039898,
          -74.96646911377744,
          -73.7428599611744,
          -78.73231509589901,
          -73.77260525882942,
          -74.30383467142151,
          -74.42215649614937,
          -78.19375658552437,
          -74.12272098144108,
          -74.49737625134372,
          -74.9625238193033,
          -73.93852843096235,
          -75.44884850092475,
          -77.7754935192139,
          -75.6696484439169,
          -77.69608957904441,
          -74.43971570007936,
          -78.74524868960168,
          -75.43584934715985,
          -76.1946368096081,
          -77.29981971925332,
          -74.30554360493933,
          -78.23121307362628,
          -76.14136022368156,
          -75.03259647948713,
          -73.74948040926644,
          -73.82027150211768,
          -73.50971815833724,
          -74.0240525040431,
          -75.06908273954276,
          -73.8638977431113,
          -74.05857151837763,
          -74.44211424005411,
          -76.8751716258648,
          -76.82378258898056,
          -77.38378703841283,
          -74.76811778499346,
          -76.30635112096472,
          -76.47363747812668,
          -74.2585573022928,
          -73.84601672855432,
          -73.43075213952618,
          -77.02937262436095,
          -78.22445512260956,
          -77.10546795181087
         ],
         "y": [
          [
           40.883727751916524
          ],
          [
           41.162410216381
          ],
          [
           41.27040809377993
          ],
          [
           41.09218862293397
          ],
          [
           41.17965254463447
          ],
          [
           40.86545223634005
          ],
          [
           40.643487254408534
          ],
          [
           40.58072907231914
          ],
          [
           40.69981575533776
          ],
          [
           40.69807308468481
          ],
          [
           40.69147399883887
          ],
          [
           40.68563716591982
          ],
          [
           40.77961502597044
          ],
          [
           40.68899096166564
          ],
          [
           40.69440710009607
          ],
          [
           40.91860165661576
          ],
          [
           40.732795602701934
          ],
          [
           43.94229357710092
          ],
          [
           44.01957899219804
          ],
          [
           44.039434320793355
          ],
          [
           43.89388121790824
          ],
          [
           44.05013744284524
          ],
          [
           43.87688304549171
          ],
          [
           44.04328724625687
          ],
          [
           43.88537752477036
          ],
          [
           43.90648051458638
          ],
          [
           40.85317361388844
          ],
          [
           40.850004566237786
          ],
          42.60017675160202,
          42.25740309598761,
          42.160249942026915,
          42.248606194854624,
          42.91749763127296,
          42.228158123414815,
          42.141256107750216,
          42.493504301248144,
          44.74617997144368,
          42.25008116393896,
          42.59501365823196,
          42.198069252881616,
          41.76514664796818,
          42.763952592591075,
          44.11718911274453,
          44.59286069917277,
          43.113835333646634,
          43.0009307942244,
          42.27651367106729,
          43.66113037218736,
          43.41970968730114,
          40.639537866057324,
          43.784656582614254,
          42.72806217162974,
          42.91276732649232,
          43.14644572236613,
          42.90229180725484,
          43.20006122999742,
          43.24173709298911,
          43.005812674136294,
          42.85284858520305,
          41.402133158557746,
          43.252077309830156,
          43.426923829424425,
          42.63375396967836,
          41.426662817567106,
          40.7022839400912,
          42.71107860576471,
          41.15237649867659,
          44.49639639857087,
          43.10737987470138,
          42.81812730759886,
          42.58821665768087,
          42.393803910523616,
          42.78105352965758,
          42.267809284141556,
          41.71642495161041,
          42.170334343888086,
          42.45202686105005,
          41.88814105495253,
          43.56096681584037,
          43.313713048889184,
          43.15663707675532,
          42.702367878832106,
          42.63344943138024
         ]
        },
        {
         "hoverinfo": "text",
         "legendgroup": "States",
         "line": {
          "color": "rgb(240, 240, 240)",
          "width": 1
         },
         "mode": "lines",
         "showlegend": false,
         "type": "scatter",
         "x": [
          -72.0368298202051,
          -72.020495,
          -71.92138299999999,
          -72.002461,
          -72.0368298202051,
          null,
          -72.142929,
          -72.12979399999999,
          -72.079514,
          -72.086975,
          -72.142929,
          null,
          -72.210995,
          -72.18898,
          -72.161034,
          -72.198601,
          -72.210995,
          null,
          -73.773361,
          -73.765258,
          -73.767179,
          -73.77234899999999,
          -73.773361,
          null,
          -73.772776,
          -73.767276,
          -73.76744099999999,
          -73.77527599999999,
          -73.772776,
          null,
          -74.027106,
          -74.01950000000001,
          -74.012132,
          -74.013083,
          -74.027106,
          null,
          -74.04692,
          -74.04086,
          -74.039401,
          -74.044451,
          -74.04692,
          null,
          -74.161704,
          -74.157552,
          -74.15919199999999,
          -74.161255,
          -74.161704,
          null,
          -74.25608799999999,
          -74.1894,
          -74.0697,
          -74.053125,
          -74.111471,
          -74.25608799999999,
          null,
          -76.14753499999999,
          -76.142569,
          -76.140667,
          -76.144708,
          -76.14753499999999,
          null,
          -76.187253,
          -76.173467,
          -76.169664,
          -76.176557,
          -76.187253,
          null,
          -76.336761,
          -76.329628,
          -76.317726,
          -76.321297,
          -76.336761,
          null,
          -76.356691,
          -76.345978,
          -76.3013,
          -76.326393,
          -76.356691,
          null,
          -76.373772,
          -76.36784899999999,
          -76.364173,
          -76.365988,
          -76.373772,
          null,
          -76.383338,
          -76.37007899999999,
          -76.342117,
          -76.36174799999999,
          -76.383338,
          null,
          -76.398564,
          -76.394578,
          -76.392347,
          -76.395759,
          -76.398564,
          null,
          -76.445999,
          -76.406471,
          -76.377945,
          -76.399976,
          -76.445999,
          null,
          -79.762152,
          -79.761951,
          -79.453533,
          -79.354483,
          -79.14872299999999,
          -79.04675399999999,
          -78.853455,
          -78.918859,
          -79.019964,
          -78.99943499999999,
          -79.074467,
          -79.042366,
          -79.070469,
          -78.485857,
          -77.76023099999999,
          -77.539548,
          -77.391015,
          -76.952412,
          -76.787949,
          -76.417581,
          -76.291258,
          -76.209853,
          -76.213205,
          -76.23498599999999,
          -76.297392,
          -76.21376099999999,
          -76.237363,
          -76.199809,
          -76.127285,
          -76.13435799999999,
          -76.059062,
          -76.200249,
          -76.120695,
          -76.168284,
          -76.15505399999999,
          -76.211384,
          -76.20164,
          -76.272706,
          -76.278691,
          -76.199693,
          -76.280677,
          -76.29528499999999,
          -76.360306,
          -76.344247,
          -76.370706,
          -76.312647,
          -76.206777,
          -76.164265,
          -76.161833,
          -75.91298499999999,
          -75.82083,
          -75.76623,
          -75.283136,
          -74.992756,
          -74.826578,
          -74.731301,
          -73.343124,
          -73.338979,
          -73.381359,
          -73.333154,
          -73.390231,
          -73.293613,
          -73.33493899999999,
          -73.31285199999999,
          -73.39058299999999,
          -73.43773999999999,
          -73.374051,
          -73.39249199999999,
          -73.350593,
          -73.431229,
          -73.39576699999999,
          -73.371889,
          -73.306234,
          -73.24158899999999,
          -73.290944,
          -73.264957,
          -73.50814199999999,
          -73.489615,
          -73.550961,
          -73.482709,
          -73.727775,
          -73.65597199999999,
          -73.74224699999999,
          -73.791209,
          -73.781206,
          -73.8126,
          -73.81520499999999,
          -73.75888499999999,
          -73.75300899999999,
          -73.70612,
          -73.73067499999999,
          -73.648602,
          -73.633134,
          -73.521423,
          -73.541883,
          -73.494822,
          -73.469391,
          -73.485365,
          -73.41615,
          -73.35506699999999,
          -73.407356,
          -73.392862,
          -73.22838399999999,
          -73.148994,
          -73.159576,
          -73.118331,
          -72.635562,
          -72.278789,
          -72.232006,
          -72.294778,
          -72.32663,
          -72.317238,
          -72.260515,
          -72.153857,
          -72.10216,
          -71.96351299999999,
          -71.955203,
          -71.856214,
          -72.39585,
          -73.054963,
          -73.573478,
          -73.774928,
          -73.940591,
          -73.931559,
          -74.012022,
          -74.042412,
          -73.996698,
          -74.024543,
          -74.013784,
          -73.893979,
          -74.696398,
          -74.738455,
          -74.893913,
          -74.912517,
          -74.983341,
          -75.074613,
          -75.044224,
          -75.053431,
          -75.10464,
          -75.072172,
          -75.170565,
          -75.260527,
          -75.279094,
          -75.359579,
          -79.76137399999999,
          -79.762152,
          null,
          null
         ],
         "y": [
          41.2498425393847,
          41.275866,
          41.292119,
          41.252866999999995,
          41.2498425393847,
          null,
          41.097811,
          41.123875999999996,
          41.100677,
          41.058292,
          41.097811,
          null,
          41.178945999999996,
          41.189011,
          41.188671,
          41.164950999999995,
          41.178945999999996,
          null,
          40.859449,
          40.855360999999995,
          40.844865999999996,
          40.847421,
          40.859449,
          null,
          40.884599,
          40.886899,
          40.880686999999995,
          40.882199,
          40.884599,
          null,
          40.685092,
          40.693382,
          40.690678999999996,
          40.687795,
          40.685092,
          null,
          40.691139,
          40.700117,
          40.700454,
          40.688445,
          40.691139,
          null,
          40.64586,
          40.643239,
          40.641448,
          40.64179,
          40.64586,
          null,
          40.507903,
          40.642120999999996,
          40.641216,
          40.603677999999995,
          40.546907999999995,
          40.507903,
          null,
          43.942484,
          43.944167,
          43.942284,
          43.940231,
          43.942484,
          null,
          44.013777,
          44.024716,
          44.024887,
          44.017196,
          44.013777,
          null,
          44.034183999999996,
          44.044295999999996,
          44.051434,
          44.031208,
          44.034183999999996,
          null,
          43.878246,
          43.894034999999995,
          43.917750999999996,
          43.880973999999995,
          43.878246,
          null,
          43.874784,
          43.879003999999995,
          43.87856,
          43.876188,
          43.874784,
          null,
          44.037361,
          44.052029,
          44.053813999999996,
          44.032993,
          44.037361,
          null,
          43.884133,
          43.888076,
          43.887859,
          43.882729999999995,
          43.884133,
          null,
          43.890254999999996,
          43.921188,
          43.921188,
          43.901711,
          43.890254999999996,
          null,
          42.243054,
          42.26986,
          42.411156999999996,
          42.494071,
          42.553672,
          42.691345999999996,
          42.783958,
          42.946857,
          42.994755999999995,
          43.056056999999996,
          43.077855,
          43.143654999999995,
          43.262454,
          43.374884,
          43.341161,
          43.235091,
          43.276362999999996,
          43.270313,
          43.311309,
          43.521285,
          43.513783,
          43.560136,
          43.753513,
          43.822624999999995,
          43.855925,
          43.900234,
          43.863596,
          43.854341,
          43.897889,
          43.945664,
          43.9857,
          43.967931,
          44.031296,
          44.032723,
          44.064353,
          44.057351,
          44.079038999999995,
          44.04078,
          44.016067,
          44.025585,
          43.959683,
          44.058717,
          44.070907,
          44.087917,
          44.100499,
          44.199044,
          44.214543,
          44.239602999999995,
          44.280777,
          44.368083999999996,
          44.432244,
          44.515851,
          44.849156,
          44.977449,
          45.01585,
          44.990421999999995,
          45.010839999999995,
          44.917680999999995,
          44.845020999999996,
          44.788759,
          44.618353,
          44.440559,
          44.364441,
          44.265346,
          44.190886,
          44.045006,
          43.875563,
          43.820778999999995,
          43.771938999999996,
          43.588285,
          43.568087,
          43.624489,
          43.628018,
          43.534973,
          42.801919999999996,
          42.74594,
          42.086256999999996,
          42.000091999999995,
          41.295421999999995,
          41.212759999999996,
          41.100696,
          40.979597,
          40.927693,
          40.868946,
          40.838891,
          40.8587,
          40.831075,
          40.769118,
          40.838392,
          40.815903,
          40.8654,
          40.828821,
          40.90269,
          40.918304,
          40.876854,
          40.894822999999995,
          40.86643,
          40.946397,
          40.904343999999995,
          40.912787,
          40.9162,
          40.955297,
          40.905961,
          40.928898,
          40.968447999999995,
          40.978071,
          40.981957,
          41.158722,
          41.161184999999996,
          41.113293,
          41.132162,
          41.088659,
          41.042065,
          41.051859,
          40.991509,
          41.042533,
          41.07307,
          41.070598,
          40.866659999999996,
          40.666371,
          40.578005999999995,
          40.590759,
          40.542896,
          40.575962,
          40.574528,
          40.624846999999995,
          40.700877,
          40.709436,
          40.756600999999996,
          40.997197,
          41.357338999999996,
          41.430641,
          41.43893,
          41.475605,
          41.480894,
          41.605711,
          41.617978,
          41.752538,
          41.774203,
          41.813731999999995,
          41.871607999999995,
          41.863800000000005,
          41.938917,
          41.999445,
          41.999067,
          42.243054,
          null,
          null
         ]
        }
       ],
       "layout": {
        "annotations": [
         {
          "showarrow": false,
          "text": "<b></b>",
          "x": 1,
          "xanchor": "right",
          "xref": "paper",
          "y": 1.05,
          "yref": "paper"
         }
        ],
        "dragmode": "select",
        "height": 450,
        "hovermode": "closest",
        "legend": {
         "traceorder": "reversed",
         "x": 1,
         "xanchor": "right",
         "y": 1,
         "yanchor": "top"
        },
        "margin": {
         "b": 20,
         "l": 20,
         "r": 20,
         "t": 40
        },
        "template": {
         "data": {
          "bar": [
           {
            "error_x": {
             "color": "#2a3f5f"
            },
            "error_y": {
             "color": "#2a3f5f"
            },
            "marker": {
             "line": {
              "color": "#E5ECF6",
              "width": 0.5
             },
             "pattern": {
              "fillmode": "overlay",
              "size": 10,
              "solidity": 0.2
             }
            },
            "type": "bar"
           }
          ],
          "barpolar": [
           {
            "marker": {
             "line": {
              "color": "#E5ECF6",
              "width": 0.5
             },
             "pattern": {
              "fillmode": "overlay",
              "size": 10,
              "solidity": 0.2
             }
            },
            "type": "barpolar"
           }
          ],
          "carpet": [
           {
            "aaxis": {
             "endlinecolor": "#2a3f5f",
             "gridcolor": "white",
             "linecolor": "white",
             "minorgridcolor": "white",
             "startlinecolor": "#2a3f5f"
            },
            "baxis": {
             "endlinecolor": "#2a3f5f",
             "gridcolor": "white",
             "linecolor": "white",
             "minorgridcolor": "white",
             "startlinecolor": "#2a3f5f"
            },
            "type": "carpet"
           }
          ],
          "choropleth": [
           {
            "colorbar": {
             "outlinewidth": 0,
             "ticks": ""
            },
            "type": "choropleth"
           }
          ],
          "contour": [
           {
            "colorbar": {
             "outlinewidth": 0,
             "ticks": ""
            },
            "colorscale": [
             [
              0,
              "#0d0887"
             ],
             [
              0.1111111111111111,
              "#46039f"
             ],
             [
              0.2222222222222222,
              "#7201a8"
             ],
             [
              0.3333333333333333,
              "#9c179e"
             ],
             [
              0.4444444444444444,
              "#bd3786"
             ],
             [
              0.5555555555555556,
              "#d8576b"
             ],
             [
              0.6666666666666666,
              "#ed7953"
             ],
             [
              0.7777777777777778,
              "#fb9f3a"
             ],
             [
              0.8888888888888888,
              "#fdca26"
             ],
             [
              1,
              "#f0f921"
             ]
            ],
            "type": "contour"
           }
          ],
          "contourcarpet": [
           {
            "colorbar": {
             "outlinewidth": 0,
             "ticks": ""
            },
            "type": "contourcarpet"
           }
          ],
          "heatmap": [
           {
            "colorbar": {
             "outlinewidth": 0,
             "ticks": ""
            },
            "colorscale": [
             [
              0,
              "#0d0887"
             ],
             [
              0.1111111111111111,
              "#46039f"
             ],
             [
              0.2222222222222222,
              "#7201a8"
             ],
             [
              0.3333333333333333,
              "#9c179e"
             ],
             [
              0.4444444444444444,
              "#bd3786"
             ],
             [
              0.5555555555555556,
              "#d8576b"
             ],
             [
              0.6666666666666666,
              "#ed7953"
             ],
             [
              0.7777777777777778,
              "#fb9f3a"
             ],
             [
              0.8888888888888888,
              "#fdca26"
             ],
             [
              1,
              "#f0f921"
             ]
            ],
            "type": "heatmap"
           }
          ],
          "heatmapgl": [
           {
            "colorbar": {
             "outlinewidth": 0,
             "ticks": ""
            },
            "colorscale": [
             [
              0,
              "#0d0887"
             ],
             [
              0.1111111111111111,
              "#46039f"
             ],
             [
              0.2222222222222222,
              "#7201a8"
             ],
             [
              0.3333333333333333,
              "#9c179e"
             ],
             [
              0.4444444444444444,
              "#bd3786"
             ],
             [
              0.5555555555555556,
              "#d8576b"
             ],
             [
              0.6666666666666666,
              "#ed7953"
             ],
             [
              0.7777777777777778,
              "#fb9f3a"
             ],
             [
              0.8888888888888888,
              "#fdca26"
             ],
             [
              1,
              "#f0f921"
             ]
            ],
            "type": "heatmapgl"
           }
          ],
          "histogram": [
           {
            "marker": {
             "pattern": {
              "fillmode": "overlay",
              "size": 10,
              "solidity": 0.2
             }
            },
            "type": "histogram"
           }
          ],
          "histogram2d": [
           {
            "colorbar": {
             "outlinewidth": 0,
             "ticks": ""
            },
            "colorscale": [
             [
              0,
              "#0d0887"
             ],
             [
              0.1111111111111111,
              "#46039f"
             ],
             [
              0.2222222222222222,
              "#7201a8"
             ],
             [
              0.3333333333333333,
              "#9c179e"
             ],
             [
              0.4444444444444444,
              "#bd3786"
             ],
             [
              0.5555555555555556,
              "#d8576b"
             ],
             [
              0.6666666666666666,
              "#ed7953"
             ],
             [
              0.7777777777777778,
              "#fb9f3a"
             ],
             [
              0.8888888888888888,
              "#fdca26"
             ],
             [
              1,
              "#f0f921"
             ]
            ],
            "type": "histogram2d"
           }
          ],
          "histogram2dcontour": [
           {
            "colorbar": {
             "outlinewidth": 0,
             "ticks": ""
            },
            "colorscale": [
             [
              0,
              "#0d0887"
             ],
             [
              0.1111111111111111,
              "#46039f"
             ],
             [
              0.2222222222222222,
              "#7201a8"
             ],
             [
              0.3333333333333333,
              "#9c179e"
             ],
             [
              0.4444444444444444,
              "#bd3786"
             ],
             [
              0.5555555555555556,
              "#d8576b"
             ],
             [
              0.6666666666666666,
              "#ed7953"
             ],
             [
              0.7777777777777778,
              "#fb9f3a"
             ],
             [
              0.8888888888888888,
              "#fdca26"
             ],
             [
              1,
              "#f0f921"
             ]
            ],
            "type": "histogram2dcontour"
           }
          ],
          "mesh3d": [
           {
            "colorbar": {
             "outlinewidth": 0,
             "ticks": ""
            },
            "type": "mesh3d"
           }
          ],
          "parcoords": [
           {
            "line": {
             "colorbar": {
              "outlinewidth": 0,
              "ticks": ""
             }
            },
            "type": "parcoords"
           }
          ],
          "pie": [
           {
            "automargin": true,
            "type": "pie"
           }
          ],
          "scatter": [
           {
            "marker": {
             "colorbar": {
              "outlinewidth": 0,
              "ticks": ""
             }
            },
            "type": "scatter"
           }
          ],
          "scatter3d": [
           {
            "line": {
             "colorbar": {
              "outlinewidth": 0,
              "ticks": ""
             }
            },
            "marker": {
             "colorbar": {
              "outlinewidth": 0,
              "ticks": ""
             }
            },
            "type": "scatter3d"
           }
          ],
          "scattercarpet": [
           {
            "marker": {
             "colorbar": {
              "outlinewidth": 0,
              "ticks": ""
             }
            },
            "type": "scattercarpet"
           }
          ],
          "scattergeo": [
           {
            "marker": {
             "colorbar": {
              "outlinewidth": 0,
              "ticks": ""
             }
            },
            "type": "scattergeo"
           }
          ],
          "scattergl": [
           {
            "marker": {
             "colorbar": {
              "outlinewidth": 0,
              "ticks": ""
             }
            },
            "type": "scattergl"
           }
          ],
          "scattermapbox": [
           {
            "marker": {
             "colorbar": {
              "outlinewidth": 0,
              "ticks": ""
             }
            },
            "type": "scattermapbox"
           }
          ],
          "scatterpolar": [
           {
            "marker": {
             "colorbar": {
              "outlinewidth": 0,
              "ticks": ""
             }
            },
            "type": "scatterpolar"
           }
          ],
          "scatterpolargl": [
           {
            "marker": {
             "colorbar": {
              "outlinewidth": 0,
              "ticks": ""
             }
            },
            "type": "scatterpolargl"
           }
          ],
          "scatterternary": [
           {
            "marker": {
             "colorbar": {
              "outlinewidth": 0,
              "ticks": ""
             }
            },
            "type": "scatterternary"
           }
          ],
          "surface": [
           {
            "colorbar": {
             "outlinewidth": 0,
             "ticks": ""
            },
            "colorscale": [
             [
              0,
              "#0d0887"
             ],
             [
              0.1111111111111111,
              "#46039f"
             ],
             [
              0.2222222222222222,
              "#7201a8"
             ],
             [
              0.3333333333333333,
              "#9c179e"
             ],
             [
              0.4444444444444444,
              "#bd3786"
             ],
             [
              0.5555555555555556,
              "#d8576b"
             ],
             [
              0.6666666666666666,
              "#ed7953"
             ],
             [
              0.7777777777777778,
              "#fb9f3a"
             ],
             [
              0.8888888888888888,
              "#fdca26"
             ],
             [
              1,
              "#f0f921"
             ]
            ],
            "type": "surface"
           }
          ],
          "table": [
           {
            "cells": {
             "fill": {
              "color": "#EBF0F8"
             },
             "line": {
              "color": "white"
             }
            },
            "header": {
             "fill": {
              "color": "#C8D4E3"
             },
             "line": {
              "color": "white"
             }
            },
            "type": "table"
           }
          ]
         },
         "layout": {
          "annotationdefaults": {
           "arrowcolor": "#2a3f5f",
           "arrowhead": 0,
           "arrowwidth": 1
          },
          "autotypenumbers": "strict",
          "coloraxis": {
           "colorbar": {
            "outlinewidth": 0,
            "ticks": ""
           }
          },
          "colorscale": {
           "diverging": [
            [
             0,
             "#8e0152"
            ],
            [
             0.1,
             "#c51b7d"
            ],
            [
             0.2,
             "#de77ae"
            ],
            [
             0.3,
             "#f1b6da"
            ],
            [
             0.4,
             "#fde0ef"
            ],
            [
             0.5,
             "#f7f7f7"
            ],
            [
             0.6,
             "#e6f5d0"
            ],
            [
             0.7,
             "#b8e186"
            ],
            [
             0.8,
             "#7fbc41"
            ],
            [
             0.9,
             "#4d9221"
            ],
            [
             1,
             "#276419"
            ]
           ],
           "sequential": [
            [
             0,
             "#0d0887"
            ],
            [
             0.1111111111111111,
             "#46039f"
            ],
            [
             0.2222222222222222,
             "#7201a8"
            ],
            [
             0.3333333333333333,
             "#9c179e"
            ],
            [
             0.4444444444444444,
             "#bd3786"
            ],
            [
             0.5555555555555556,
             "#d8576b"
            ],
            [
             0.6666666666666666,
             "#ed7953"
            ],
            [
             0.7777777777777778,
             "#fb9f3a"
            ],
            [
             0.8888888888888888,
             "#fdca26"
            ],
            [
             1,
             "#f0f921"
            ]
           ],
           "sequentialminus": [
            [
             0,
             "#0d0887"
            ],
            [
             0.1111111111111111,
             "#46039f"
            ],
            [
             0.2222222222222222,
             "#7201a8"
            ],
            [
             0.3333333333333333,
             "#9c179e"
            ],
            [
             0.4444444444444444,
             "#bd3786"
            ],
            [
             0.5555555555555556,
             "#d8576b"
            ],
            [
             0.6666666666666666,
             "#ed7953"
            ],
            [
             0.7777777777777778,
             "#fb9f3a"
            ],
            [
             0.8888888888888888,
             "#fdca26"
            ],
            [
             1,
             "#f0f921"
            ]
           ]
          },
          "colorway": [
           "#636efa",
           "#EF553B",
           "#00cc96",
           "#ab63fa",
           "#FFA15A",
           "#19d3f3",
           "#FF6692",
           "#B6E880",
           "#FF97FF",
           "#FECB52"
          ],
          "font": {
           "color": "#2a3f5f"
          },
          "geo": {
           "bgcolor": "white",
           "lakecolor": "white",
           "landcolor": "#E5ECF6",
           "showlakes": true,
           "showland": true,
           "subunitcolor": "white"
          },
          "hoverlabel": {
           "align": "left"
          },
          "hovermode": "closest",
          "mapbox": {
           "style": "light"
          },
          "paper_bgcolor": "white",
          "plot_bgcolor": "#E5ECF6",
          "polar": {
           "angularaxis": {
            "gridcolor": "white",
            "linecolor": "white",
            "ticks": ""
           },
           "bgcolor": "#E5ECF6",
           "radialaxis": {
            "gridcolor": "white",
            "linecolor": "white",
            "ticks": ""
           }
          },
          "scene": {
           "xaxis": {
            "backgroundcolor": "#E5ECF6",
            "gridcolor": "white",
            "gridwidth": 2,
            "linecolor": "white",
            "showbackground": true,
            "ticks": "",
            "zerolinecolor": "white"
           },
           "yaxis": {
            "backgroundcolor": "#E5ECF6",
            "gridcolor": "white",
            "gridwidth": 2,
            "linecolor": "white",
            "showbackground": true,
            "ticks": "",
            "zerolinecolor": "white"
           },
           "zaxis": {
            "backgroundcolor": "#E5ECF6",
            "gridcolor": "white",
            "gridwidth": 2,
            "linecolor": "white",
            "showbackground": true,
            "ticks": "",
            "zerolinecolor": "white"
           }
          },
          "shapedefaults": {
           "line": {
            "color": "#2a3f5f"
           }
          },
          "ternary": {
           "aaxis": {
            "gridcolor": "white",
            "linecolor": "white",
            "ticks": ""
           },
           "baxis": {
            "gridcolor": "white",
            "linecolor": "white",
            "ticks": ""
           },
           "bgcolor": "#E5ECF6",
           "caxis": {
            "gridcolor": "white",
            "linecolor": "white",
            "ticks": ""
           }
          },
          "title": {
           "x": 0.05
          },
          "xaxis": {
           "automargin": true,
           "gridcolor": "white",
           "linecolor": "white",
           "ticks": "",
           "title": {
            "standoff": 15
           },
           "zerolinecolor": "white",
           "zerolinewidth": 2
          },
          "yaxis": {
           "automargin": true,
           "gridcolor": "white",
           "linecolor": "white",
           "ticks": "",
           "title": {
            "standoff": 15
           },
           "zerolinecolor": "white",
           "zerolinewidth": 2
          }
         }
        },
        "width": 900,
        "xaxis": {
         "autorange": false,
         "fixedrange": true,
         "range": [
          -81.44411674999999,
          -70.17424924999999
         ],
         "showgrid": false,
         "showticklabels": false,
         "zeroline": false
        },
        "yaxis": {
         "autorange": false,
         "fixedrange": true,
         "range": [
          40.507903,
          45.01585
         ],
         "showgrid": false,
         "showticklabels": false,
         "zeroline": false
        }
       }
      },
      "text/html": [
       "<div>                            <div id=\"23b7b842-fd41-46c0-82d9-48232f1935dc\" class=\"plotly-graph-div\" style=\"height:450px; width:900px;\"></div>            <script type=\"text/javascript\">                require([\"plotly\"], function(Plotly) {                    window.PLOTLYENV=window.PLOTLYENV || {};                                    if (document.getElementById(\"23b7b842-fd41-46c0-82d9-48232f1935dc\")) {                    Plotly.newPlot(                        \"23b7b842-fd41-46c0-82d9-48232f1935dc\",                        [{\"fill\":\"toself\",\"fillcolor\":\"rgb(68, 1, 84)\",\"hoverinfo\":\"none\",\"line\":{\"color\":\"rgb(255,255,255)\",\"width\":0.5},\"mode\":\"lines\",\"name\":\"36593\",\"x\":[-73.773361,-73.77234899999999,-73.767179,-73.765258,-73.773361,null,-73.933144,-73.888307,-73.78791799999999,-73.81664099999999,-73.782577,-73.7835452253621,-73.91840499999999,-73.933144,null],\"y\":[40.859449,40.847421,40.844865999999996,40.855360999999995,40.859449,null,40.834815,40.787006,40.800362,40.853487,40.837601,40.881039556340504,40.917477,40.834815,null],\"type\":\"scatter\"},{\"fill\":\"toself\",\"fillcolor\":\"rgb(68, 1, 84)\",\"hoverinfo\":\"none\",\"line\":{\"color\":\"rgb(255,255,255)\",\"width\":0.5},\"mode\":\"lines\",\"name\":\"44304\",\"x\":[-79.762152,-79.76137399999999,-79.06126499999999,-79.060777,-79.13689290760351,-79.354483,-79.453533,-79.761951,-79.762152,null],\"y\":[42.243054,41.999067,41.999258999999995,42.537853,42.5697987744532,42.494071,42.411156999999996,42.26986,42.243054,null],\"type\":\"scatter\"},{\"fill\":\"toself\",\"fillcolor\":\"rgb(68, 1, 84)\",\"hoverinfo\":\"none\",\"line\":{\"color\":\"rgb(255,255,255)\",\"width\":0.5},\"mode\":\"lines\",\"name\":\"45359\",\"x\":[-78.309316,-78.308128,-77.74993099999999,-77.72296399999999,-77.840231,-77.840694,-78.30883899999999,-78.309316,null],\"y\":[42.231684,41.999415,41.998782,42.471216,42.474576,42.517770999999996,42.521217,42.231684,null],\"type\":\"scatter\"},{\"fill\":\"toself\",\"fillcolor\":\"rgb(68, 1, 84)\",\"hoverinfo\":\"none\",\"line\":{\"color\":\"rgb(255,255,255)\",\"width\":0.5},\"mode\":\"lines\",\"name\":\"45571\",\"x\":[-79.059209,-79.06126499999999,-78.308128,-78.30883899999999,-78.48847599999999,-78.88298999999999,-78.95703,-78.99532599999999,-79.060777,-79.059209,null],\"y\":[42.075381,41.999258999999995,41.999415,42.521217,42.534845,42.438286,42.472362,42.531796,42.537853,42.075381,null],\"type\":\"scatter\"},{\"fill\":\"toself\",\"fillcolor\":\"rgb(72, 24, 106)\",\"hoverinfo\":\"none\",\"line\":{\"color\":\"rgb(255,255,255)\",\"width\":0.5},\"mode\":\"lines\",\"name\":\"47449\",\"x\":[-74.75862599999999,-74.763303,-74.454911,-74.289446,-74.083883,-74.097467,-74.542367,-74.759895,-74.75862599999999,null],\"y\":[42.887775,42.863237,42.772979,42.783805,42.897354,42.982934,42.98553,43.047422999999995,42.887775,null],\"type\":\"scatter\"},{\"fill\":\"toself\",\"fillcolor\":\"rgb(72, 24, 106)\",\"hoverinfo\":\"none\",\"line\":{\"color\":\"rgb(255,255,255)\",\"width\":0.5},\"mode\":\"lines\",\"name\":\"47810\",\"x\":[-77.107203,-77.099657,-76.73391199999999,-76.732677,-76.61953299999999,-76.619303,-76.691406,-76.69665499999999,-76.895596,-76.889805,-77.107203,null],\"y\":[42.483771,42.272355999999995,42.29372,42.248052,42.248664,42.282852999999996,42.284307,42.54679,42.541537,42.463054,42.483771,null],\"type\":\"scatter\"},{\"fill\":\"toself\",\"fillcolor\":\"rgb(72, 24, 106)\",\"hoverinfo\":\"none\",\"line\":{\"color\":\"rgb(255,255,255)\",\"width\":0.5},\"mode\":\"lines\",\"name\":\"47921\",\"x\":[-75.422637,-75.402239,-75.279094,-75.260527,-75.17457399999999,-75.152898,-74.451713,-74.53730999999999,-74.428196,-74.618895,-74.71158,-74.844121,-75.197237,-75.19095999999999,-75.308405,-75.415319,-75.422637,null],\"y\":[42.055913,42.010698999999995,41.938917,41.863800000000005,41.872659999999996,41.848563999999996,42.169225,42.201423999999996,42.349075,42.424389,42.517799,42.512591,42.358329,42.379852,42.321151,42.314150999999995,42.055913,null],\"type\":\"scatter\"},{\"fill\":\"toself\",\"fillcolor\":\"rgb(72, 24, 106)\",\"hoverinfo\":\"none\",\"line\":{\"color\":\"rgb(255,255,255)\",\"width\":0.5},\"mode\":\"lines\",\"name\":\"48033\",\"x\":[-74.774233,-74.759895,-74.542367,-74.097467,-74.140147,-74.322375,-74.32637799999999,-74.534657,-74.713005,-74.696333,-74.774233,null],\"y\":[43.082269,43.047422999999995,42.98553,42.982934,43.253979,43.214684,43.241634999999995,43.228114999999995,43.289003,43.173514999999995,43.082269,null],\"type\":\"scatter\"},{\"fill\":\"toself\",\"fillcolor\":\"rgb(71, 45, 123)\",\"hoverinfo\":\"none\",\"line\":{\"color\":\"rgb(255,255,255)\",\"width\":0.5},\"mode\":\"lines\",\"name\":\"48330\",\"x\":[-75.8600599283155,-75.06277899999999,-74.535156,-74.64187199999999,-74.72030699999999,-74.72622806320749,-74.801638,-74.992756,-75.30763,-75.76623,-75.8600599283155,null],\"y\":[44.4032818662487,44.0504,44.09925,44.952621,44.953011,44.994863072200594,45.014568999999995,44.977449,44.836813,44.515851,44.4032818662487,null],\"type\":\"scatter\"},{\"fill\":\"toself\",\"fillcolor\":\"rgb(71, 45, 123)\",\"hoverinfo\":\"none\",\"line\":{\"color\":\"rgb(255,255,255)\",\"width\":0.5},\"mode\":\"lines\",\"name\":\"48567\",\"x\":[-75.889832,-75.83631,-75.639055,-75.63710999999999,-75.418421,-75.40669,-75.374617,-75.403459,-75.33014299999999,-75.330394,-75.29587699999999,-75.889832,null],\"y\":[42.723844,42.244091,42.248675,42.195628,42.195032,42.380781,42.415997999999995,42.508699,42.568082,42.674195,42.744105999999995,42.723844,null],\"type\":\"scatter\"},{\"fill\":\"toself\",\"fillcolor\":\"rgb(71, 45, 123)\",\"hoverinfo\":\"none\",\"line\":{\"color\":\"rgb(255,255,255)\",\"width\":0.5},\"mode\":\"lines\",\"name\":\"49064\",\"x\":[-76.130181,-76.080681,-76.086683,-76.116225,-76.10584,-75.359579,-75.421776,-75.418421,-75.63710999999999,-75.639055,-75.83631,-75.86402,-76.130181,null],\"y\":[42.410337,42.258084,42.186858,42.18561,41.998858,41.999445,42.04203,42.195032,42.195628,42.248675,42.244091,42.415701999999996,42.410337,null],\"type\":\"scatter\"},{\"fill\":\"toself\",\"fillcolor\":\"rgb(66, 64, 134)\",\"hoverinfo\":\"none\",\"line\":{\"color\":\"rgb(255,255,255)\",\"width\":0.5},\"mode\":\"lines\",\"name\":\"49077\",\"x\":[-75.219106,-75.21064199999999,-75.13987,-75.100999,-74.90673799999999,-74.878822,-74.763303,-74.740237,-74.77015,-74.69600299999999,-74.712615,-74.867712,-74.775617,-74.854171,-75.06277899999999,-75.170159,-75.07658099999999,-75.14818,-75.162371,-75.069165,-75.219106,null],\"y\":[43.052468999999995,42.856549,42.85976,42.908363,42.824943,42.898274,42.863237,43.014483,43.112505,43.177862,43.286142999999996,43.339825999999995,43.486677,44.070088999999996,44.0504,44.096959,43.330704999999995,43.304828,43.258463,43.227333,43.052468999999995,null],\"type\":\"scatter\"},{\"fill\":\"toself\",\"fillcolor\":\"rgb(66, 64, 134)\",\"hoverinfo\":\"none\",\"line\":{\"color\":\"rgb(255,255,255)\",\"width\":0.5},\"mode\":\"lines\",\"name\":\"49223\",\"x\":[-78.466021,-78.465505,-77.99728999999999,-77.99559629134319,-78.451877,-78.466021,null],\"y\":[43.332401999999995,43.128619,43.132981,43.3652387952246,43.372679,43.332401999999995,null],\"type\":\"scatter\"},{\"fill\":\"toself\",\"fillcolor\":\"rgb(66, 64, 134)\",\"hoverinfo\":\"none\",\"line\":{\"color\":\"rgb(255,255,255)\",\"width\":0.5},\"mode\":\"lines\",\"name\":\"50157\",\"x\":[-77.74851,-77.74993099999999,-76.96572797329421,-76.96502799999999,-77.099657,-77.107581,-77.149502,-77.143795,-77.659917,-77.661315,-77.72061699999999,-77.74851,null],\"y\":[42.031893,41.998782,42.0012735436595,42.278495,42.272355999999995,42.505365,42.50007,42.576868999999995,42.580408999999996,42.535067,42.535066,42.031893,null],\"type\":\"scatter\"},{\"fill\":\"toself\",\"fillcolor\":\"rgb(66, 64, 134)\",\"hoverinfo\":\"none\",\"line\":{\"color\":\"rgb(255,255,255)\",\"width\":0.5},\"mode\":\"lines\",\"name\":\"50322\",\"x\":[-76.14753499999999,-76.144708,-76.140667,-76.142569,-76.14753499999999,null,-76.187253,-76.176557,-76.169664,-76.173467,-76.187253,null,-76.336761,-76.321297,-76.317726,-76.329628,-76.336761,null,-76.356691,-76.326393,-76.3013,-76.345978,-76.356691,null,-76.369699,-76.344247,-76.360306,-76.29528499999999,-76.280677,-76.199693,-76.278691,-76.272706,-76.20164,-76.211384,-76.15505399999999,-76.168284,-76.120695,-76.200249,-76.059062,-76.13435799999999,-76.127285,-76.199809,-76.237363,-76.21376099999999,-76.297392,-76.23498599999999,-76.1996693718617,-76.022003,-76.025087,-75.774553,-75.786759,-75.850534,-75.84056,-75.758157,-75.60367,-75.542898,-75.549993,-75.50183,-75.484528,-75.545886,-75.446124,-75.8600599283155,-76.161833,-76.191328,-76.312647,-76.369699,null,-76.373772,-76.365988,-76.364173,-76.36784899999999,-76.373772,null,-76.383338,-76.36174799999999,-76.342117,-76.37007899999999,-76.383338,null,-76.398564,-76.395759,-76.392347,-76.394578,-76.398564,null,-76.445999,-76.399976,-76.377945,-76.406471,-76.445999,null],\"y\":[43.942484,43.940231,43.942284,43.944167,43.942484,null,44.013777,44.017196,44.024887,44.024716,44.013777,null,44.034183999999996,44.031208,44.051434,44.044295999999996,44.034183999999996,null,43.878246,43.880973999999995,43.917750999999996,43.894034999999995,43.878246,null,44.104670999999996,44.087917,44.070907,44.058717,43.959683,44.025585,44.016067,44.04078,44.079038999999995,44.057351,44.064353,44.032723,44.031296,43.967931,43.9857,43.945664,43.897889,43.854341,43.863596,43.900234,43.855925,43.822624999999995,43.6801913412181,43.668143,43.707018,43.688883999999995,43.78832,43.791886,43.883976,43.878785,43.971363,43.967794999999995,44.008162999999996,44.009555999999996,44.074172,44.102978,44.217655,44.4032818662487,44.280777,44.221244,44.199044,44.104670999999996,null,43.874784,43.876188,43.87856,43.879003999999995,43.874784,null,44.037361,44.032993,44.053813999999996,44.052029,44.037361,null,43.884133,43.882729999999995,43.887859,43.888076,43.884133,null,43.890254999999996,43.901711,43.921188,43.921188,43.890254999999996,null],\"type\":\"scatter\"},{\"fill\":\"toself\",\"fillcolor\":\"rgb(59, 82, 139)\",\"hoverinfo\":\"none\",\"line\":{\"color\":\"rgb(255,255,255)\",\"width\":0.5},\"mode\":\"lines\",\"name\":\"50733\",\"x\":[-74.72622806320749,-74.72030699999999,-74.64187199999999,-74.535156,-74.09349,-74.141424,-73.90968699999999,-74.0273918752465,-74.72622806320749,null],\"y\":[44.994863072200594,44.953011,44.952621,44.09925,44.137615,44.407267999999995,44.429699,44.995765498918,44.994863072200594,null],\"type\":\"scatter\"},{\"fill\":\"toself\",\"fillcolor\":\"rgb(59, 82, 139)\",\"hoverinfo\":\"none\",\"line\":{\"color\":\"rgb(255,255,255)\",\"width\":0.5},\"mode\":\"lines\",\"name\":\"51251\",\"x\":[-76.96609099999999,-76.96572797329421,-76.55762413688969,-76.538349,-76.619303,-76.642256,-76.732677,-76.73391199999999,-76.964761,-76.96609099999999,null],\"y\":[42.143547,42.0012735436595,42.000148906120295,42.281755,42.282852999999996,42.233720999999996,42.248052,42.29372,42.28744,42.143547,null],\"type\":\"scatter\"},{\"fill\":\"toself\",\"fillcolor\":\"rgb(59, 82, 139)\",\"hoverinfo\":\"none\",\"line\":{\"color\":\"rgb(255,255,255)\",\"width\":0.5},\"mode\":\"lines\",\"name\":\"51254\",\"x\":[-75.416932,-75.308405,-75.19095999999999,-75.197237,-74.844121,-74.712513,-74.630652,-74.667512,-74.648298,-74.878822,-74.90673799999999,-75.100999,-75.13987,-75.242745,-75.251037,-75.330394,-75.33014299999999,-75.403459,-75.374905,-75.416932,null],\"y\":[42.314094,42.321151,42.379852,42.358329,42.512591,42.516585,42.62677,42.75071,42.829558,42.898274,42.824943,42.908363,42.85976,42.877869,42.785115,42.674195,42.568082,42.508699,42.410784,42.314094,null],\"type\":\"scatter\"},{\"fill\":\"toself\",\"fillcolor\":\"rgb(51, 99, 141)\",\"hoverinfo\":\"none\",\"line\":{\"color\":\"rgb(255,255,255)\",\"width\":0.5},\"mode\":\"lines\",\"name\":\"51316\",\"x\":[-75.88675599999999,-75.862934,-75.884275,-75.719899,-75.596879,-75.552774,-75.54280299999999,-75.44417299999999,-75.437167,-75.201444,-75.219106,-75.069165,-75.162371,-75.14818,-75.07658099999999,-75.11016,-75.5335,-75.814627,-75.88675599999999,null],\"y\":[43.325021,43.319221999999996,43.155561999999996,43.161052999999995,43.035399,43.037554,42.931774,42.933088999999995,42.863319,42.880663999999996,43.052468999999995,43.227333,43.258463,43.304828,43.330704999999995,43.615229,43.419756,43.483578,43.325021,null],\"type\":\"scatter\"},{\"fill\":\"toself\",\"fillcolor\":\"rgb(51, 99, 141)\",\"hoverinfo\":\"none\",\"line\":{\"color\":\"rgb(255,255,255)\",\"width\":0.5},\"mode\":\"lines\",\"name\":\"51475\",\"x\":[-75.847487,-75.850534,-75.786759,-75.756213,-75.5335,-75.11016,-75.170159,-75.446124,-75.545886,-75.484528,-75.50183,-75.549993,-75.542898,-75.60367,-75.758157,-75.84056,-75.847487,null],\"y\":[43.818647999999996,43.791886,43.78832,43.470388,43.419756,43.615229,44.096959,44.217655,44.102978,44.074172,44.009555999999996,44.008162999999996,43.967794999999995,43.971363,43.878785,43.883976,43.818647999999996,null],\"type\":\"scatter\"},{\"fill\":\"toself\",\"fillcolor\":\"rgb(51, 99, 141)\",\"hoverinfo\":\"none\",\"line\":{\"color\":\"rgb(255,255,255)\",\"width\":0.5},\"mode\":\"lines\",\"name\":\"51601\",\"x\":[-76.981257,-76.977888,-76.897117,-76.895596,-76.585989,-76.731636,-76.739361,-76.71380599999999,-76.963926,-76.981257,null],\"y\":[42.862066,42.77324,42.66365,42.541537,42.54991,42.72074,42.954473,43.024035,43.013157,42.862066,null],\"type\":\"scatter\"},{\"fill\":\"toself\",\"fillcolor\":\"rgb(51, 99, 141)\",\"hoverinfo\":\"none\",\"line\":{\"color\":\"rgb(255,255,255)\",\"width\":0.5},\"mode\":\"lines\",\"name\":\"51656\",\"x\":[-79.075367,-78.841745,-78.83126,-78.72764699999999,-78.469736,-78.4655020828508,-79.070469,-79.042366,-79.075367,null],\"y\":[43.081354999999995,43.018862999999996,43.050246,43.08622,43.082797,43.3712326509368,43.262454,43.143654999999995,43.081354999999995,null],\"type\":\"scatter\"},{\"fill\":\"toself\",\"fillcolor\":\"rgb(44, 114, 142)\",\"hoverinfo\":\"none\",\"line\":{\"color\":\"rgb(255,255,255)\",\"width\":0.5},\"mode\":\"lines\",\"name\":\"51755\",\"x\":[-76.61692529756529,-76.605012,-76.307541,-76.281027,-76.274051,-76.198748,-76.202573,-76.078902,-75.884275,-75.862934,-75.88675599999999,-75.814627,-75.756213,-75.774553,-76.025087,-76.022003,-76.1996693718617,-76.228701,-76.417581,-76.61692529756529,null],\"y\":[43.4180442652892,43.253569999999996,43.230788,43.201091,43.240168,43.212568,43.271539,43.19948,43.155561999999996,43.319221999999996,43.325021,43.483578,43.470388,43.688883999999995,43.707018,43.668143,43.6801913412181,43.532987,43.521285,43.4180442652892,null],\"type\":\"scatter\"},{\"fill\":\"toself\",\"fillcolor\":\"rgb(44, 114, 142)\",\"hoverinfo\":\"none\",\"line\":{\"color\":\"rgb(255,255,255)\",\"width\":0.5},\"mode\":\"lines\",\"name\":\"51758\",\"x\":[-77.36710599999999,-77.36650499999999,-77.143795,-77.143946,-76.889805,-76.895349,-76.947429,-77.31300399999999,-77.36710599999999,null],\"y\":[42.667866,42.576367999999995,42.576868999999995,42.494704999999996,42.463054,42.656255,42.76443,42.761264999999995,42.667866,null],\"type\":\"scatter\"},{\"fill\":\"toself\",\"fillcolor\":\"rgb(44, 114, 142)\",\"hoverinfo\":\"none\",\"line\":{\"color\":\"rgb(255,255,255)\",\"width\":0.5},\"mode\":\"lines\",\"name\":\"51842\",\"x\":[-74.71158,-74.618895,-74.443506,-74.276645,-74.244692,-74.264755,-74.226447,-74.24157199999999,-74.164678,-74.272295,-74.306665,-74.258507,-74.256547,-74.454911,-74.648298,-74.667512,-74.630652,-74.71158,null],\"y\":[42.517799,42.424389,42.355017,42.363349,42.377159,42.418876,42.499233,42.550802,42.717206999999995,42.71427,42.750074,42.757397999999995,42.79587,42.772979,42.829558,42.75071,42.62677,42.517799,null],\"type\":\"scatter\"},{\"fill\":\"toself\",\"fillcolor\":\"rgb(44, 114, 142)\",\"hoverinfo\":\"none\",\"line\":{\"color\":\"rgb(255,255,255)\",\"width\":0.5},\"mode\":\"lines\",\"name\":\"52451\",\"x\":[-76.27467299999999,-76.253359,-75.86402,-75.896079,-76.27467299999999,null],\"y\":[42.771257,42.407568,42.415701999999996,42.790963999999995,42.771257,null],\"type\":\"scatter\"},{\"fill\":\"toself\",\"fillcolor\":\"rgb(38, 130, 142)\",\"hoverinfo\":\"none\",\"line\":{\"color\":\"rgb(255,255,255)\",\"width\":0.5},\"mode\":\"lines\",\"name\":\"52527\",\"x\":[-73.63621499999999,-73.573342,-73.635463,-73.274294,-73.24158899999999,-73.306234,-73.371889,-73.39576699999999,-73.430947,-73.350707,-73.3793298267232,-73.470131,-73.494314,-73.61323,-73.63621499999999,null],\"y\":[43.498238,43.100545,42.941289999999995,42.943652,43.534973,43.628018,43.624489,43.568087,43.587036,43.770463,43.808476322237,43.776973999999996,43.653966,43.562931999999996,43.498238,null],\"type\":\"scatter\"},{\"fill\":\"toself\",\"fillcolor\":\"rgb(38, 130, 142)\",\"hoverinfo\":\"none\",\"line\":{\"color\":\"rgb(255,255,255)\",\"width\":0.5},\"mode\":\"lines\",\"name\":\"52759\",\"x\":[-74.0273918752465,-73.90968699999999,-73.669281,-73.49660399999999,-73.463838,-73.33863044507319,-73.390231,-73.333154,-73.381359,-73.338979,-73.343124,-74.0273918752465,null],\"y\":[44.995765498918,44.429699,44.441355,44.486081,44.537681,44.5468424276295,44.618353,44.788759,44.845020999999996,44.917680999999995,45.010839999999995,44.995765498918,null],\"type\":\"scatter\"},{\"fill\":\"toself\",\"fillcolor\":\"rgb(38, 130, 142)\",\"hoverinfo\":\"none\",\"line\":{\"color\":\"rgb(255,255,255)\",\"width\":0.5},\"mode\":\"lines\",\"name\":\"52782\",\"x\":[-74.0420116265256,-74.012022,-73.93426954323711,-73.849852,-73.833041,-73.868917,-73.896466,-73.95508699999999,-74.0420116265256,null],\"y\":[40.626048022196,40.574528,40.5667651450013,40.588668999999996,40.628260999999995,40.69515,40.682336,40.7394,40.626048022196,null],\"type\":\"scatter\"},{\"fill\":\"toself\",\"fillcolor\":\"rgb(33, 145, 140)\",\"hoverinfo\":\"none\",\"line\":{\"color\":\"rgb(255,255,255)\",\"width\":0.5},\"mode\":\"lines\",\"name\":\"53214\",\"x\":[-74.511284,-74.53730999999999,-74.307571,-74.07479699999999,-74.04239299999999,-74.00245,-73.910675,-73.788235,-73.775492,-74.254303,-74.244692,-74.276645,-74.443506,-74.511284,null],\"y\":[42.236697,42.201423999999996,42.114346,42.096589,42.170386,42.176992,42.127292999999995,42.269832,42.460221999999995,42.408207,42.377159,42.363349,42.355017,42.236697,null],\"type\":\"scatter\"},{\"fill\":\"toself\",\"fillcolor\":\"rgb(33, 145, 140)\",\"hoverinfo\":\"none\",\"line\":{\"color\":\"rgb(255,255,255)\",\"width\":0.5},\"mode\":\"lines\",\"name\":\"53654\",\"x\":[-78.060752,-77.840694,-77.840231,-77.72296399999999,-77.72061699999999,-77.661315,-77.659917,-77.490889,-77.486875,-77.598815,-77.587997,-77.546309,-77.56725999999999,-77.758727,-77.73167099999999,-77.73095699999999,-77.909832,-77.95553,-77.956334,-78.060752,null],\"y\":[42.536708999999995,42.517770999999996,42.474576,42.471216,42.535066,42.535067,42.580408999999996,42.577287999999996,42.670279,42.671965,42.854011,42.86569,42.936310999999996,42.940461,42.946078,42.988372,42.987762,42.905861,42.667322,42.536708999999995,null],\"type\":\"scatter\"},{\"fill\":\"toself\",\"fillcolor\":\"rgb(33, 145, 140)\",\"hoverinfo\":\"none\",\"line\":{\"color\":\"rgb(255,255,255)\",\"width\":0.5},\"mode\":\"lines\",\"name\":\"53693\",\"x\":[-77.376046,-77.371478,-76.71380599999999,-76.72250131286259,-76.952412,-77.376046,null],\"y\":[43.2762243589198,43.034696,43.024035,43.3436862821829,43.270313,43.2762243589198,null],\"type\":\"scatter\"},{\"fill\":\"toself\",\"fillcolor\":\"rgb(33, 145, 140)\",\"hoverinfo\":\"none\",\"line\":{\"color\":\"rgb(255,255,255)\",\"width\":0.5},\"mode\":\"lines\",\"name\":\"53877\",\"x\":[-75.146446,-75.072172,-75.104334,-75.053431,-75.044224,-75.074613,-74.983341,-74.912517,-74.893913,-74.75858699999999,-74.752399,-74.475619,-74.364486,-74.395071,-74.575086,-74.453685,-74.780693,-75.146446,null],\"y\":[41.850899,41.813731999999995,41.772693,41.752538,41.617978,41.605711,41.480894,41.475605,41.43893,41.423286999999995,41.493742999999995,41.503952999999996,41.593782999999995,41.644876,41.745258,41.875595,42.016375,41.850899,null],\"type\":\"scatter\"},{\"fill\":\"toself\",\"fillcolor\":\"rgb(31, 160, 136)\",\"hoverinfo\":\"none\",\"line\":{\"color\":\"rgb(255,255,255)\",\"width\":0.5},\"mode\":\"lines\",\"name\":\"54006\",\"x\":[-79.13689290760351,-78.99532599999999,-78.95703,-78.88298999999999,-78.46394,-78.463233,-78.488143,-78.464449,-78.72764699999999,-78.83126,-78.841745,-78.945262,-79.0192327742718,-79.019964,-78.918859,-78.853455,-79.04675399999999,-79.13689290760351,null],\"y\":[42.5697987744532,42.531796,42.472362,42.438286,42.536332,42.780460999999995,42.78066,43.088702999999995,43.08622,43.050246,43.018862999999996,43.066956,43.067931426587805,42.994755999999995,42.946857,42.783958,42.691345999999996,42.5697987744532,null],\"type\":\"scatter\"},{\"fill\":\"toself\",\"fillcolor\":\"rgb(31, 160, 136)\",\"hoverinfo\":\"none\",\"line\":{\"color\":\"rgb(255,255,255)\",\"width\":0.5},\"mode\":\"lines\",\"name\":\"54033\",\"x\":[-78.465505,-78.464381,-77.95496399999999,-77.95553,-77.911413,-77.904121,-77.951044,-77.905934,-78.465505,null],\"y\":[43.128619,42.867461,42.862753999999995,42.905861,42.945063999999995,43.037056,43.039544,43.133561,43.128619,null],\"type\":\"scatter\"},{\"fill\":\"toself\",\"fillcolor\":\"rgb(31, 160, 136)\",\"hoverinfo\":\"none\",\"line\":{\"color\":\"rgb(255,255,255)\",\"width\":0.5},\"mode\":\"lines\",\"name\":\"54664\",\"x\":[-76.74006,-76.728951,-76.66654299999999,-76.26558399999999,-76.286198,-76.357018,-76.450738,-76.499274,-76.471774,-76.48114799999999,-76.605012,-76.61692529756529,-76.72250131286259,-76.702325,-76.739361,-76.717185,-76.74006,null],\"y\":[42.789418999999995,42.712897999999996,42.623456999999995,42.623588,42.794443,42.849447999999995,42.84576,43.097201,43.104983,43.256640999999995,43.253569999999996,43.4180442652892,43.3436862821829,43.080393,42.954473,42.83883,42.789418999999995,null],\"type\":\"scatter\"},{\"fill\":\"toself\",\"fillcolor\":\"rgb(40, 174, 128)\",\"hoverinfo\":\"none\",\"line\":{\"color\":\"rgb(255,255,255)\",\"width\":0.5},\"mode\":\"lines\",\"name\":\"55272\",\"x\":[-77.997248,-77.905934,-77.951044,-77.904121,-77.909832,-77.73095699999999,-77.73167099999999,-77.758727,-77.482517,-77.485418,-77.371478,-77.376046,-77.551022,-77.76023099999999,-77.99559629134319,-77.997248,null],\"y\":[43.136519,43.133561,43.039544,43.037056,42.987762,42.988372,42.946078,42.940461,42.943163999999996,43.034563999999996,43.034696,43.2762243589198,43.235763,43.341161,43.3652387952246,43.136519,null],\"type\":\"scatter\"},{\"fill\":\"toself\",\"fillcolor\":\"rgb(40, 174, 128)\",\"hoverinfo\":\"none\",\"line\":{\"color\":\"rgb(255,255,255)\",\"width\":0.5},\"mode\":\"lines\",\"name\":\"55294\",\"x\":[-74.336826,-74.213734,-74.149076,-74.047062,-74.057005,-73.3793298267232,-73.405999,-73.43773999999999,-73.39058299999999,-73.31285199999999,-73.33493899999999,-73.293855,-73.306707,-73.33863044507319,-73.463838,-73.49660399999999,-73.669281,-74.141424,-74.09349,-74.28187,-74.25599799999999,-74.336826,null],\"y\":[43.925222999999995,43.810874999999996,43.829612999999995,43.796343,43.744513,43.808476322237,44.016228999999996,44.045006,44.190886,44.265346,44.364441,44.437556,44.500333999999995,44.5468424276295,44.537681,44.486081,44.441355,44.407267999999995,44.137615,44.120551999999996,43.969797,43.925222999999995,null],\"type\":\"scatter\"},{\"fill\":\"toself\",\"fillcolor\":\"rgb(40, 174, 128)\",\"hoverinfo\":\"none\",\"line\":{\"color\":\"rgb(255,255,255)\",\"width\":0.5},\"mode\":\"lines\",\"name\":\"55459\",\"x\":[-78.488118,-78.463233,-78.464556,-78.03826099999999,-78.060752,-78.028031,-78.050827,-77.956334,-77.95496399999999,-78.486256,-78.488118,null],\"y\":[42.781571,42.780460999999995,42.519166,42.521522,42.536708999999995,42.567738999999996,42.576007999999995,42.667322,42.862753999999995,42.867731,42.781571,null],\"type\":\"scatter\"},{\"fill\":\"toself\",\"fillcolor\":\"rgb(40, 174, 128)\",\"hoverinfo\":\"none\",\"line\":{\"color\":\"rgb(255,255,255)\",\"width\":0.5},\"mode\":\"lines\",\"name\":\"55587\",\"x\":[-74.867712,-74.534657,-74.32637799999999,-74.29270199999999,-74.140147,-74.214625,-74.057005,-74.047062,-74.149076,-74.213734,-74.336826,-74.25599799999999,-74.28187,-74.854171,-74.775617,-74.867712,null],\"y\":[43.339825999999995,43.228114999999995,43.241634999999995,43.216609,43.253979,43.728702999999996,43.744513,43.796343,43.829612999999995,43.810874999999996,43.925222999999995,43.969797,44.120551999999996,44.070088999999996,43.486677,43.339825999999995,null],\"type\":\"scatter\"},{\"fill\":\"toself\",\"fillcolor\":\"rgb(63, 188, 115)\",\"hoverinfo\":\"none\",\"line\":{\"color\":\"rgb(255,255,255)\",\"width\":0.5},\"mode\":\"lines\",\"name\":\"56200\",\"x\":[-76.69665499999999,-76.691406,-76.41619899999999,-76.415305,-76.250149,-76.239779,-76.299493,-76.253359,-76.26558399999999,-76.66654299999999,-76.585989,-76.69665499999999,null],\"y\":[42.54679,42.284307,42.262975999999995,42.318368,42.296676,42.359705,42.385011999999996,42.407568,42.623588,42.623456999999995,42.54991,42.54679,null],\"type\":\"scatter\"},{\"fill\":\"toself\",\"fillcolor\":\"rgb(63, 188, 115)\",\"hoverinfo\":\"none\",\"line\":{\"color\":\"rgb(255,255,255)\",\"width\":0.5},\"mode\":\"lines\",\"name\":\"57153\",\"x\":[-76.563133,-76.55762413688969,-76.10584,-76.116225,-76.086683,-76.080681,-76.124521,-76.29318599999999,-76.298429,-76.23855499999999,-76.250149,-76.415305,-76.41619899999999,-76.538349,-76.536507,-76.563133,null],\"y\":[42.154184,42.000148906120295,41.998858,42.18561,42.186858,42.258084,42.402013,42.406403,42.381546,42.356621,42.296676,42.318368,42.262975999999995,42.281755,42.155403,42.154184,null],\"type\":\"scatter\"},{\"fill\":\"toself\",\"fillcolor\":\"rgb(63, 188, 115)\",\"hoverinfo\":\"none\",\"line\":{\"color\":\"rgb(255,255,255)\",\"width\":0.5},\"mode\":\"lines\",\"name\":\"57271\",\"x\":[-76.499312,-76.450738,-76.357018,-76.27467299999999,-75.896079,-75.917219,-75.975588,-75.950057,-75.99143699999999,-76.202573,-76.194248,-76.217646,-76.267551,-76.281027,-76.307541,-76.479224,-76.471774,-76.499312,null],\"y\":[43.097949,42.84576,42.849447999999995,42.771257,42.790963999999995,43.085926,43.091277999999996,43.134853,43.18325,43.271539,43.217068,43.204820999999995,43.239667999999995,43.201091,43.230788,43.227519,43.104983,43.097949,null],\"type\":\"scatter\"},{\"fill\":\"toself\",\"fillcolor\":\"rgb(63, 188, 115)\",\"hoverinfo\":\"none\",\"line\":{\"color\":\"rgb(255,255,255)\",\"width\":0.5},\"mode\":\"lines\",\"name\":\"58365\",\"x\":[-75.99242799999999,-75.950057,-75.975588,-75.917219,-75.889832,-75.29587699999999,-75.251037,-75.247963,-75.437167,-75.44417299999999,-75.54280299999999,-75.552774,-75.596879,-75.719899,-75.86759599999999,-75.99242799999999,null],\"y\":[43.185164,43.134853,43.091277999999996,43.085926,42.723844,42.744105999999995,42.785115,42.871604,42.863319,42.933088999999995,42.931774,43.037554,43.035399,43.161052999999995,43.146629,43.185164,null],\"type\":\"scatter\"},{\"fill\":\"toself\",\"fillcolor\":\"rgb(94, 201, 98)\",\"hoverinfo\":\"none\",\"line\":{\"color\":\"rgb(255,255,255)\",\"width\":0.5},\"mode\":\"lines\",\"name\":\"60222\",\"x\":[-74.214625,-74.1601,-73.883299,-73.824615,-73.83491699999999,-73.767498,-73.73469,-73.669561,-73.671273,-73.59496,-73.636212,-73.61323,-73.494314,-73.459294,-73.471057,-73.436578,-74.214625,null],\"y\":[43.728702999999996,43.371531999999995,43.397988,43.304269999999995,43.251003999999995,43.222122999999996,43.268896999999996,43.263870999999995,43.293154,43.306118,43.50013,43.562931999999996,43.653966,43.730031,43.775256999999996,43.801418999999996,43.728702999999996,null],\"type\":\"scatter\"},{\"fill\":\"toself\",\"fillcolor\":\"rgb(94, 201, 98)\",\"hoverinfo\":\"none\",\"line\":{\"color\":\"rgb(255,255,255)\",\"width\":0.5},\"mode\":\"lines\",\"name\":\"61093\",\"x\":[-73.929114,-73.52707199999999,-73.3525249549442,-73.783721,-73.784116,-73.847813,-73.929114,null],\"y\":[42.081658,41.977979999999995,42.5100075099506,42.464231,42.280465,42.230346999999995,42.081658,null],\"type\":\"scatter\"},{\"fill\":\"toself\",\"fillcolor\":\"rgb(94, 201, 98)\",\"hoverinfo\":\"none\",\"line\":{\"color\":\"rgb(255,255,255)\",\"width\":0.5},\"mode\":\"lines\",\"name\":\"61315\",\"x\":[-74.305932,-74.272295,-74.202713,-73.80936899999999,-73.895938,-73.904386,-73.955458,-74.09298,-74.083883,-74.256829,-74.252815,-74.305932,null],\"y\":[42.751492999999996,42.71427,42.710826,42.778869,42.851076,42.911162999999995,42.897306,42.955867999999995,42.897354,42.812214,42.76349,42.751492999999996,null],\"type\":\"scatter\"},{\"fill\":\"toself\",\"fillcolor\":\"rgb(132, 212, 75)\",\"hoverinfo\":\"none\",\"line\":{\"color\":\"rgb(255,255,255)\",\"width\":0.5},\"mode\":\"lines\",\"name\":\"61652\",\"x\":[-74.780693,-74.453685,-74.575086,-74.395071,-74.368191,-74.264292,-74.187505,-74.126393,-74.134511,-74.05394199999999,-73.953307,-73.93938899999999,-73.964413,-73.910675,-74.00245,-74.04239299999999,-74.07479699999999,-74.307571,-74.451713,-74.780693,null],\"y\":[42.016375,41.875595,41.745258,41.644876,41.591353,41.632629,41.590793,41.582544,41.615694999999995,41.580724,41.589977,41.865852,41.913148,42.127292999999995,42.176992,42.170386,42.096589,42.114346,42.169225,42.016375,null],\"type\":\"scatter\"},{\"fill\":\"toself\",\"fillcolor\":\"rgb(132, 212, 75)\",\"hoverinfo\":\"none\",\"line\":{\"color\":\"rgb(255,255,255)\",\"width\":0.5},\"mode\":\"lines\",\"name\":\"61710\",\"x\":[-77.61166999999999,-77.598815,-77.486875,-77.490889,-77.36650499999999,-77.36710599999999,-77.31300399999999,-76.971392,-76.963926,-77.485418,-77.482517,-77.580377,-77.546309,-77.587997,-77.588217,-77.61166999999999,null],\"y\":[42.763169,42.671965,42.670279,42.577287999999996,42.576367999999995,42.667866,42.761264999999995,42.764223,43.013157,43.034563999999996,42.943163999999996,42.943963,42.86569,42.854011,42.762964,42.763169,null],\"type\":\"scatter\"},{\"fill\":\"toself\",\"fillcolor\":\"rgb(132, 212, 75)\",\"hoverinfo\":\"none\",\"line\":{\"color\":\"rgb(255,255,255)\",\"width\":0.5},\"mode\":\"lines\",\"name\":\"62008\",\"x\":[-73.96262,-73.896466,-73.868917,-73.833041,-73.849852,-73.940591,-73.737185,-73.768761,-73.72498399999999,-73.73032599999999,-73.701633,-73.817418,-73.91245599999999,-73.96262,null],\"y\":[40.739033,40.682336,40.69515,40.628260999999995,40.588668999999996,40.542896,40.592965,40.624351999999995,40.652678,40.722156999999996,40.752493,40.805789999999995,40.796096,40.739033,null],\"type\":\"scatter\"},{\"fill\":\"toself\",\"fillcolor\":\"rgb(132, 212, 75)\",\"hoverinfo\":\"none\",\"line\":{\"color\":\"rgb(255,255,255)\",\"width\":0.5},\"mode\":\"lines\",\"name\":\"62293\",\"x\":[-74.264731,-73.783721,-73.761265,-73.676762,-73.726663,-73.809603,-74.180274,-74.169725,-74.233995,-74.226447,-74.264731,null],\"y\":[42.420127,42.464231,42.610378999999995,42.783277,42.822576999999995,42.775016,42.729979,42.667426,42.575688,42.499233,42.420127,null],\"type\":\"scatter\"},{\"fill\":\"toself\",\"fillcolor\":\"rgb(173, 220, 48)\",\"hoverinfo\":\"none\",\"line\":{\"color\":\"rgb(255,255,255)\",\"width\":0.5},\"mode\":\"lines\",\"name\":\"63166\",\"x\":[-73.786047,-73.3525249549442,-73.264957,-73.290944,-73.274294,-73.659675,-73.684535,-73.658462,-73.761265,-73.786047,null],\"y\":[42.483835,42.5100075099506,42.74594,42.801919999999996,42.943652,42.933364,42.892837,42.809076999999995,42.610378999999995,42.483835,null],\"type\":\"scatter\"},{\"fill\":\"toself\",\"fillcolor\":\"rgb(173, 220, 48)\",\"hoverinfo\":\"none\",\"line\":{\"color\":\"rgb(255,255,255)\",\"width\":0.5},\"mode\":\"lines\",\"name\":\"75146\",\"x\":[-74.762466,-74.696398,-74.2343582601916,-73.961257,-73.947355,-74.000108,-73.953307,-74.05394199999999,-74.134511,-74.126393,-74.187505,-74.264292,-74.418399,-74.475619,-74.752399,-74.762466,null],\"y\":[41.449525,41.357338999999996,41.142836102143896,41.348538999999995,41.395254,41.456548999999995,41.589977,41.580724,41.615694999999995,41.582544,41.590793,41.632629,41.569396999999995,41.503952999999996,41.493742999999995,41.449525,null],\"type\":\"scatter\"},{\"fill\":\"toself\",\"fillcolor\":\"rgb(173, 220, 48)\",\"hoverinfo\":\"none\",\"line\":{\"color\":\"rgb(255,255,255)\",\"width\":0.5},\"mode\":\"lines\",\"name\":\"75585\",\"x\":[-73.999911,-73.98148599999999,-73.933775,-73.530067,-73.487314,-73.521416,-73.52707199999999,-73.929626,-73.964413,-73.93958099999999,-73.942482,-73.999911,null],\"y\":[41.459655999999995,41.438905,41.488279,41.527194,42.049638,42.049966,41.977979999999995,42.078778,41.913148,41.870044,41.684093,41.459655999999995,null],\"type\":\"scatter\"},{\"fill\":\"toself\",\"fillcolor\":\"rgb(216, 226, 25)\",\"hoverinfo\":\"none\",\"line\":{\"color\":\"rgb(255,255,255)\",\"width\":0.5},\"mode\":\"lines\",\"name\":\"76244\",\"x\":[-74.161704,-74.161255,-74.15919199999999,-74.157552,-74.161704,null,-74.25608799999999,-74.111471,-74.053125,-74.0697,-74.1894,-74.25608799999999,null],\"y\":[40.64586,40.64179,40.641448,40.643239,40.64586,null,40.507903,40.546907999999995,40.603677999999995,40.641216,40.642120999999996,40.507903,null],\"type\":\"scatter\"},{\"fill\":\"toself\",\"fillcolor\":\"rgb(216, 226, 25)\",\"hoverinfo\":\"none\",\"line\":{\"color\":\"rgb(255,255,255)\",\"width\":0.5},\"mode\":\"lines\",\"name\":\"77548\",\"x\":[-74.1601,-74.09298,-73.955458,-73.904386,-73.895938,-73.822166,-73.726663,-73.676762,-73.68307399999999,-73.578155,-73.588822,-73.73047799999999,-73.767498,-73.83491699999999,-73.824615,-73.883299,-74.1601,null],\"y\":[43.371531999999995,42.955867999999995,42.897306,42.911162999999995,42.851076,42.780277999999996,42.822576999999995,42.783277,42.903776,43.055786999999995,43.300543,43.270773999999996,43.222122999999996,43.251003999999995,43.304269999999995,43.397988,43.371531999999995,null],\"type\":\"scatter\"},{\"fill\":\"toself\",\"fillcolor\":\"rgb(216, 226, 25)\",\"hoverinfo\":\"none\",\"line\":{\"color\":\"rgb(255,255,255)\",\"width\":0.5},\"mode\":\"lines\",\"name\":\"79781\",\"x\":[-73.999496,-74.0000444533092,-73.9975,-73.999496,null,-74.00049381449809,-74.00103899999999,-73.998763,-74.0002063806559,-74.00049381449809,null,-74.0065121058308,-74.000699,-74.00061737911429,-74.002408,-74.0065121058308,null,-74.0084737266571,-74.012113182521,-74.008425,-74.0084737266571,null,-74.02385865547001,-73.969613,-73.910296,-73.933459,-73.909505,-73.9334079229381,-74.02385865547001,null,-74.027106,-74.013083,-74.012132,-74.01950000000001,-74.027106,null,-74.04692,-74.044451,-74.039401,-74.04086,-74.04692,null],\"y\":[40.700328999999996,40.6994652660133,40.699653,40.700328999999996,null,40.6987575876666,40.697899,40.697109999999995,40.6992102540544,40.6987575876666,null,40.6887282492338,40.690612,40.6951221683874,40.695702999999995,40.6887282492338,null,40.68654528455949,40.6841858115304,40.686015999999995,40.68654528455949,null,40.7130277101558,40.707634,40.790656999999996,40.833183999999996,40.878878,40.882074964842694,40.7130277101558,null,40.685092,40.687795,40.690678999999996,40.693382,40.685092,null,40.691139,40.688445,40.700454,40.700117,40.691139,null],\"type\":\"scatter\"},{\"fill\":\"toself\",\"fillcolor\":\"rgb(216, 226, 25)\",\"hoverinfo\":\"none\",\"line\":{\"color\":\"rgb(255,255,255)\",\"width\":0.5},\"mode\":\"lines\",\"name\":\"88571\",\"x\":[-74.2343582601916,-73.90500999999999,-73.893979,-73.88748,-73.970784,-73.94578299999999,-73.98138399999999,-74.2343582601916,null],\"y\":[41.142836102143896,40.997591,40.997197,41.138295,41.247893,41.287593,41.324692999999996,41.142836102143896,null],\"type\":\"scatter\"},{\"fill\":\"toself\",\"fillcolor\":\"rgb(253, 231, 37)\",\"hoverinfo\":\"none\",\"line\":{\"color\":\"rgb(255,255,255)\",\"width\":0.5},\"mode\":\"lines\",\"name\":\"89968\",\"x\":[-73.772776,-73.77527599999999,-73.76744099999999,-73.767276,-73.772776,null,-73.982584,-73.94578299999999,-73.970784,-73.88748,-73.91790499999999,-73.7835452253621,-73.65597199999999,-73.727775,-73.482709,-73.550961,-73.54472799999999,-73.982584,null],\"y\":[40.884599,40.882199,40.880686999999995,40.886899,40.884599,null,41.321692999999996,41.287593,41.247893,41.138295,40.917577,40.881039556340504,40.979597,41.100696,41.212759999999996,41.295421999999995,41.366375,41.321692999999996,null],\"type\":\"scatter\"},{\"fill\":\"toself\",\"fillcolor\":\"rgb(253, 231, 37)\",\"hoverinfo\":\"none\",\"line\":{\"color\":\"rgb(255,255,255)\",\"width\":0.5},\"mode\":\"lines\",\"name\":\"92838\",\"x\":[-72.0368298202051,-72.002461,-71.92138299999999,-72.020495,-72.0368298202051,null,-72.142929,-72.10640000000001,-72.086975,-72.079514,-72.12979399999999,-72.142929,null,-72.210995,-72.198601,-72.161034,-72.18898,-72.210995,null,-73.49740276398609,-73.45536299999999,-73.4237926181023,-73.262348,-72.474097,-71.856214,-71.955203,-71.96351299999999,-72.10216,-72.153857,-72.260515,-72.317238,-72.32663,-72.294778,-72.232006,-72.278789,-72.635562,-73.118331,-73.159576,-73.148994,-73.22838399999999,-73.392862,-73.407356,-73.35506699999999,-73.426608,-73.485365,-73.49740276398609,null],\"y\":[41.2498425393847,41.252866999999995,41.292119,41.275866,41.2498425393847,null,41.097811,41.088882999999996,41.058292,41.100677,41.123875999999996,41.097811,null,41.178945999999996,41.164950999999995,41.188671,41.189011,41.178945999999996,null,40.9237276150943,40.842593,40.609632588866,40.621961999999996,40.840837,41.070598,41.07307,41.042533,40.991509,41.051859,41.042065,41.088659,41.132162,41.113293,41.161184999999996,41.158722,40.981957,40.978071,40.968447999999995,40.928898,40.905961,40.955297,40.9162,40.912787,40.906141,40.946397,40.9237276150943,null],\"type\":\"scatter\"},{\"fill\":\"toself\",\"fillcolor\":\"rgb(253, 231, 37)\",\"hoverinfo\":\"none\",\"line\":{\"color\":\"rgb(255,255,255)\",\"width\":0.5},\"mode\":\"lines\",\"name\":\"99608\",\"x\":[-73.98138399999999,-73.54472799999999,-73.530067,-73.933775,-73.98148599999999,-73.947355,-73.98138399999999,null],\"y\":[41.324692999999996,41.366375,41.527194,41.488279,41.438905,41.395254,41.324692999999996,null],\"type\":\"scatter\"},{\"fill\":\"toself\",\"fillcolor\":\"rgb(253, 231, 37)\",\"hoverinfo\":\"none\",\"line\":{\"color\":\"rgb(255,255,255)\",\"width\":0.5},\"mode\":\"lines\",\"name\":\"105744\",\"x\":[-73.490973,-73.4933726545695,-73.4895969495325,-73.490973,null,-73.768709,-73.738151,-73.75477599999999,-73.573478,-73.4237926181023,-73.46253,-73.494822,-73.541883,-73.521423,-73.633134,-73.648602,-73.729575,-73.70612,-73.75300899999999,-73.76554,-73.70001599999999,-73.73032599999999,-73.72498399999999,-73.768709,null],\"y\":[40.919471,40.9195932598093,40.916740710038,40.919471,null,40.624386,40.602709999999995,40.584404,40.578005999999995,40.609632588866,40.867295,40.894822999999995,40.876854,40.918304,40.90269,40.828821,40.8665,40.815903,40.838392,40.810866,40.739272,40.722156999999996,40.652678,40.624386,null],\"type\":\"scatter\"},{\"hoverinfo\":\"text\",\"legendgroup\":\"centroids\",\"marker\":{\"color\":\"white\",\"opacity\":0},\"mode\":\"markers\",\"name\":\"US Counties\",\"selected\":{\"marker\":{\"color\":\"white\",\"opacity\":1,\"size\":3}},\"showlegend\":false,\"text\":[\"County: Westchester<br>State: New York<br>FIPS: 36119<br>Value: 89968\",\"County: Westchester<br>State: New York<br>FIPS: 36119<br>Value: 89968\",\"County: Suffolk<br>State: New York<br>FIPS: 36103<br>Value: 92838\",\"County: Suffolk<br>State: New York<br>FIPS: 36103<br>Value: 92838\",\"County: Suffolk<br>State: New York<br>FIPS: 36103<br>Value: 92838\",\"County: Suffolk<br>State: New York<br>FIPS: 36103<br>Value: 92838\",\"County: Richmond<br>State: New York<br>FIPS: 36085<br>Value: 76244\",\"County: Richmond<br>State: New York<br>FIPS: 36085<br>Value: 76244\",\"County: New York<br>State: New York<br>FIPS: 36061<br>Value: 79781\",\"County: New York<br>State: New York<br>FIPS: 36061<br>Value: 79781\",\"County: New York<br>State: New York<br>FIPS: 36061<br>Value: 79781\",\"County: New York<br>State: New York<br>FIPS: 36061<br>Value: 79781\",\"County: New York<br>State: New York<br>FIPS: 36061<br>Value: 79781\",\"County: New York<br>State: New York<br>FIPS: 36061<br>Value: 79781\",\"County: New York<br>State: New York<br>FIPS: 36061<br>Value: 79781\",\"County: Nassau<br>State: New York<br>FIPS: 36059<br>Value: 105744\",\"County: Nassau<br>State: New York<br>FIPS: 36059<br>Value: 105744\",\"County: Jefferson<br>State: New York<br>FIPS: 36045<br>Value: 50322\",\"County: Jefferson<br>State: New York<br>FIPS: 36045<br>Value: 50322\",\"County: Jefferson<br>State: New York<br>FIPS: 36045<br>Value: 50322\",\"County: Jefferson<br>State: New York<br>FIPS: 36045<br>Value: 50322\",\"County: Jefferson<br>State: New York<br>FIPS: 36045<br>Value: 50322\",\"County: Jefferson<br>State: New York<br>FIPS: 36045<br>Value: 50322\",\"County: Jefferson<br>State: New York<br>FIPS: 36045<br>Value: 50322\",\"County: Jefferson<br>State: New York<br>FIPS: 36045<br>Value: 50322\",\"County: Jefferson<br>State: New York<br>FIPS: 36045<br>Value: 50322\",\"County: Bronx<br>State: New York<br>FIPS: 36005<br>Value: 36593\",\"County: Bronx<br>State: New York<br>FIPS: 36005<br>Value: 36593\",\"County: Albany<br>State: New York<br>FIPS: 36001<br>Value: 62293\",\"County: Allegany<br>State: New York<br>FIPS: 36003<br>Value: 45359\",\"County: Broome<br>State: New York<br>FIPS: 36007<br>Value: 49064\",\"County: Cattaraugus<br>State: New York<br>FIPS: 36009<br>Value: 45571\",\"County: Cayuga<br>State: New York<br>FIPS: 36011<br>Value: 54664\",\"County: Chautauqua<br>State: New York<br>FIPS: 36013<br>Value: 44304\",\"County: Chemung<br>State: New York<br>FIPS: 36015<br>Value: 51251\",\"County: Chenango<br>State: New York<br>FIPS: 36017<br>Value: 48567\",\"County: Clinton<br>State: New York<br>FIPS: 36019<br>Value: 52759\",\"County: Columbia<br>State: New York<br>FIPS: 36021<br>Value: 61093\",\"County: Cortland<br>State: New York<br>FIPS: 36023<br>Value: 52451\",\"County: Delaware<br>State: New York<br>FIPS: 36025<br>Value: 47921\",\"County: Dutchess<br>State: New York<br>FIPS: 36027<br>Value: 75585\",\"County: Erie<br>State: New York<br>FIPS: 36029<br>Value: 54006\",\"County: Essex<br>State: New York<br>FIPS: 36031<br>Value: 55294\",\"County: Franklin<br>State: New York<br>FIPS: 36033<br>Value: 50733\",\"County: Fulton<br>State: New York<br>FIPS: 36035<br>Value: 48033\",\"County: Genesee<br>State: New York<br>FIPS: 36037<br>Value: 54033\",\"County: Greene<br>State: New York<br>FIPS: 36039<br>Value: 53214\",\"County: Hamilton<br>State: New York<br>FIPS: 36041<br>Value: 55587\",\"County: Herkimer<br>State: New York<br>FIPS: 36043<br>Value: 49077\",\"County: Kings<br>State: New York<br>FIPS: 36047<br>Value: 52782\",\"County: Lewis<br>State: New York<br>FIPS: 36049<br>Value: 51475\",\"County: Livingston<br>State: New York<br>FIPS: 36051<br>Value: 53654\",\"County: Madison<br>State: New York<br>FIPS: 36053<br>Value: 58365\",\"County: Monroe<br>State: New York<br>FIPS: 36055<br>Value: 55272\",\"County: Montgomery<br>State: New York<br>FIPS: 36057<br>Value: 47449\",\"County: Niagara<br>State: New York<br>FIPS: 36063<br>Value: 51656\",\"County: Oneida<br>State: New York<br>FIPS: 36065<br>Value: 51316\",\"County: Onondaga<br>State: New York<br>FIPS: 36067<br>Value: 57271\",\"County: Ontario<br>State: New York<br>FIPS: 36069<br>Value: 61710\",\"County: Orange<br>State: New York<br>FIPS: 36071<br>Value: 75146\",\"County: Orleans<br>State: New York<br>FIPS: 36073<br>Value: 49223\",\"County: Oswego<br>State: New York<br>FIPS: 36075<br>Value: 51755\",\"County: Otsego<br>State: New York<br>FIPS: 36077<br>Value: 51254\",\"County: Putnam<br>State: New York<br>FIPS: 36079<br>Value: 99608\",\"County: Queens<br>State: New York<br>FIPS: 36081<br>Value: 62008\",\"County: Rensselaer<br>State: New York<br>FIPS: 36083<br>Value: 63166\",\"County: Rockland<br>State: New York<br>FIPS: 36087<br>Value: 88571\",\"County: St. Lawrence<br>State: New York<br>FIPS: 36089<br>Value: 48330\",\"County: Saratoga<br>State: New York<br>FIPS: 36091<br>Value: 77548\",\"County: Schenectady<br>State: New York<br>FIPS: 36093<br>Value: 61315\",\"County: Schoharie<br>State: New York<br>FIPS: 36095<br>Value: 51842\",\"County: Schuyler<br>State: New York<br>FIPS: 36097<br>Value: 47810\",\"County: Seneca<br>State: New York<br>FIPS: 36099<br>Value: 51601\",\"County: Steuben<br>State: New York<br>FIPS: 36101<br>Value: 50157\",\"County: Sullivan<br>State: New York<br>FIPS: 36105<br>Value: 53877\",\"County: Tioga<br>State: New York<br>FIPS: 36107<br>Value: 57153\",\"County: Tompkins<br>State: New York<br>FIPS: 36109<br>Value: 56200\",\"County: Ulster<br>State: New York<br>FIPS: 36111<br>Value: 61652\",\"County: Warren<br>State: New York<br>FIPS: 36113<br>Value: 60222\",\"County: Washington<br>State: New York<br>FIPS: 36115<br>Value: 52527\",\"County: Wayne<br>State: New York<br>FIPS: 36117<br>Value: 53693\",\"County: Wyoming<br>State: New York<br>FIPS: 36121<br>Value: 55459\",\"County: Yates<br>State: New York<br>FIPS: 36123<br>Value: 51758\"],\"unselected\":{\"marker\":{\"opacity\":0}},\"x\":[[-73.7706243502491],[-73.75605592283678],[-71.98808192159649],[-72.10561325190686],[-72.19288869812053],[-72.85272360623564],[-74.15989566400411],[-74.15238026243995],[-73.99901348443639],[-74.00000279355197],[-74.0034838754427],[-74.00958610726083],[-73.96656482880358],[-74.01929263692867],[-74.04266306753995],[-73.49131420136733],[-73.58640734387465],[-76.14427346995657],[-76.17729404728394],[-76.32647494244142],[-76.32944230559706],[-75.91801294481759],[-76.36840090395376],[-76.362220738721],[-76.39552345028977],[-76.41193748921249],[-73.77045075631817],[-73.86649223768777],-73.97355542101836,-78.02758624086562,-75.81962213049194,-78.67883512434483,-76.5545071845072,-79.36632642247623,-76.76002679640985,-75.61159184767055,-73.6781638378136,-73.63179668115154,-76.0702786039898,-74.96646911377744,-73.7428599611744,-78.73231509589901,-73.77260525882942,-74.30383467142151,-74.42215649614937,-78.19375658552437,-74.12272098144108,-74.49737625134372,-74.9625238193033,-73.93852843096235,-75.44884850092475,-77.7754935192139,-75.6696484439169,-77.69608957904441,-74.43971570007936,-78.74524868960168,-75.43584934715985,-76.1946368096081,-77.29981971925332,-74.30554360493933,-78.23121307362628,-76.14136022368156,-75.03259647948713,-73.74948040926644,-73.82027150211768,-73.50971815833724,-74.0240525040431,-75.06908273954276,-73.8638977431113,-74.05857151837763,-74.44211424005411,-76.8751716258648,-76.82378258898056,-77.38378703841283,-74.76811778499346,-76.30635112096472,-76.47363747812668,-74.2585573022928,-73.84601672855432,-73.43075213952618,-77.02937262436095,-78.22445512260956,-77.10546795181087],\"y\":[[40.883727751916524],[41.162410216381],[41.27040809377993],[41.09218862293397],[41.17965254463447],[40.86545223634005],[40.643487254408534],[40.58072907231914],[40.69981575533776],[40.69807308468481],[40.69147399883887],[40.68563716591982],[40.77961502597044],[40.68899096166564],[40.69440710009607],[40.91860165661576],[40.732795602701934],[43.94229357710092],[44.01957899219804],[44.039434320793355],[43.89388121790824],[44.05013744284524],[43.87688304549171],[44.04328724625687],[43.88537752477036],[43.90648051458638],[40.85317361388844],[40.850004566237786],42.60017675160202,42.25740309598761,42.160249942026915,42.248606194854624,42.91749763127296,42.228158123414815,42.141256107750216,42.493504301248144,44.74617997144368,42.25008116393896,42.59501365823196,42.198069252881616,41.76514664796818,42.763952592591075,44.11718911274453,44.59286069917277,43.113835333646634,43.0009307942244,42.27651367106729,43.66113037218736,43.41970968730114,40.639537866057324,43.784656582614254,42.72806217162974,42.91276732649232,43.14644572236613,42.90229180725484,43.20006122999742,43.24173709298911,43.005812674136294,42.85284858520305,41.402133158557746,43.252077309830156,43.426923829424425,42.63375396967836,41.426662817567106,40.7022839400912,42.71107860576471,41.15237649867659,44.49639639857087,43.10737987470138,42.81812730759886,42.58821665768087,42.393803910523616,42.78105352965758,42.267809284141556,41.71642495161041,42.170334343888086,42.45202686105005,41.88814105495253,43.56096681584037,43.313713048889184,43.15663707675532,42.702367878832106,42.63344943138024],\"type\":\"scatter\"},{\"hoverinfo\":\"text\",\"legendgroup\":\"States\",\"line\":{\"color\":\"rgb(240, 240, 240)\",\"width\":1},\"mode\":\"lines\",\"showlegend\":false,\"x\":[-72.0368298202051,-72.020495,-71.92138299999999,-72.002461,-72.0368298202051,null,-72.142929,-72.12979399999999,-72.079514,-72.086975,-72.142929,null,-72.210995,-72.18898,-72.161034,-72.198601,-72.210995,null,-73.773361,-73.765258,-73.767179,-73.77234899999999,-73.773361,null,-73.772776,-73.767276,-73.76744099999999,-73.77527599999999,-73.772776,null,-74.027106,-74.01950000000001,-74.012132,-74.013083,-74.027106,null,-74.04692,-74.04086,-74.039401,-74.044451,-74.04692,null,-74.161704,-74.157552,-74.15919199999999,-74.161255,-74.161704,null,-74.25608799999999,-74.1894,-74.0697,-74.053125,-74.111471,-74.25608799999999,null,-76.14753499999999,-76.142569,-76.140667,-76.144708,-76.14753499999999,null,-76.187253,-76.173467,-76.169664,-76.176557,-76.187253,null,-76.336761,-76.329628,-76.317726,-76.321297,-76.336761,null,-76.356691,-76.345978,-76.3013,-76.326393,-76.356691,null,-76.373772,-76.36784899999999,-76.364173,-76.365988,-76.373772,null,-76.383338,-76.37007899999999,-76.342117,-76.36174799999999,-76.383338,null,-76.398564,-76.394578,-76.392347,-76.395759,-76.398564,null,-76.445999,-76.406471,-76.377945,-76.399976,-76.445999,null,-79.762152,-79.761951,-79.453533,-79.354483,-79.14872299999999,-79.04675399999999,-78.853455,-78.918859,-79.019964,-78.99943499999999,-79.074467,-79.042366,-79.070469,-78.485857,-77.76023099999999,-77.539548,-77.391015,-76.952412,-76.787949,-76.417581,-76.291258,-76.209853,-76.213205,-76.23498599999999,-76.297392,-76.21376099999999,-76.237363,-76.199809,-76.127285,-76.13435799999999,-76.059062,-76.200249,-76.120695,-76.168284,-76.15505399999999,-76.211384,-76.20164,-76.272706,-76.278691,-76.199693,-76.280677,-76.29528499999999,-76.360306,-76.344247,-76.370706,-76.312647,-76.206777,-76.164265,-76.161833,-75.91298499999999,-75.82083,-75.76623,-75.283136,-74.992756,-74.826578,-74.731301,-73.343124,-73.338979,-73.381359,-73.333154,-73.390231,-73.293613,-73.33493899999999,-73.31285199999999,-73.39058299999999,-73.43773999999999,-73.374051,-73.39249199999999,-73.350593,-73.431229,-73.39576699999999,-73.371889,-73.306234,-73.24158899999999,-73.290944,-73.264957,-73.50814199999999,-73.489615,-73.550961,-73.482709,-73.727775,-73.65597199999999,-73.74224699999999,-73.791209,-73.781206,-73.8126,-73.81520499999999,-73.75888499999999,-73.75300899999999,-73.70612,-73.73067499999999,-73.648602,-73.633134,-73.521423,-73.541883,-73.494822,-73.469391,-73.485365,-73.41615,-73.35506699999999,-73.407356,-73.392862,-73.22838399999999,-73.148994,-73.159576,-73.118331,-72.635562,-72.278789,-72.232006,-72.294778,-72.32663,-72.317238,-72.260515,-72.153857,-72.10216,-71.96351299999999,-71.955203,-71.856214,-72.39585,-73.054963,-73.573478,-73.774928,-73.940591,-73.931559,-74.012022,-74.042412,-73.996698,-74.024543,-74.013784,-73.893979,-74.696398,-74.738455,-74.893913,-74.912517,-74.983341,-75.074613,-75.044224,-75.053431,-75.10464,-75.072172,-75.170565,-75.260527,-75.279094,-75.359579,-79.76137399999999,-79.762152,null,null],\"y\":[41.2498425393847,41.275866,41.292119,41.252866999999995,41.2498425393847,null,41.097811,41.123875999999996,41.100677,41.058292,41.097811,null,41.178945999999996,41.189011,41.188671,41.164950999999995,41.178945999999996,null,40.859449,40.855360999999995,40.844865999999996,40.847421,40.859449,null,40.884599,40.886899,40.880686999999995,40.882199,40.884599,null,40.685092,40.693382,40.690678999999996,40.687795,40.685092,null,40.691139,40.700117,40.700454,40.688445,40.691139,null,40.64586,40.643239,40.641448,40.64179,40.64586,null,40.507903,40.642120999999996,40.641216,40.603677999999995,40.546907999999995,40.507903,null,43.942484,43.944167,43.942284,43.940231,43.942484,null,44.013777,44.024716,44.024887,44.017196,44.013777,null,44.034183999999996,44.044295999999996,44.051434,44.031208,44.034183999999996,null,43.878246,43.894034999999995,43.917750999999996,43.880973999999995,43.878246,null,43.874784,43.879003999999995,43.87856,43.876188,43.874784,null,44.037361,44.052029,44.053813999999996,44.032993,44.037361,null,43.884133,43.888076,43.887859,43.882729999999995,43.884133,null,43.890254999999996,43.921188,43.921188,43.901711,43.890254999999996,null,42.243054,42.26986,42.411156999999996,42.494071,42.553672,42.691345999999996,42.783958,42.946857,42.994755999999995,43.056056999999996,43.077855,43.143654999999995,43.262454,43.374884,43.341161,43.235091,43.276362999999996,43.270313,43.311309,43.521285,43.513783,43.560136,43.753513,43.822624999999995,43.855925,43.900234,43.863596,43.854341,43.897889,43.945664,43.9857,43.967931,44.031296,44.032723,44.064353,44.057351,44.079038999999995,44.04078,44.016067,44.025585,43.959683,44.058717,44.070907,44.087917,44.100499,44.199044,44.214543,44.239602999999995,44.280777,44.368083999999996,44.432244,44.515851,44.849156,44.977449,45.01585,44.990421999999995,45.010839999999995,44.917680999999995,44.845020999999996,44.788759,44.618353,44.440559,44.364441,44.265346,44.190886,44.045006,43.875563,43.820778999999995,43.771938999999996,43.588285,43.568087,43.624489,43.628018,43.534973,42.801919999999996,42.74594,42.086256999999996,42.000091999999995,41.295421999999995,41.212759999999996,41.100696,40.979597,40.927693,40.868946,40.838891,40.8587,40.831075,40.769118,40.838392,40.815903,40.8654,40.828821,40.90269,40.918304,40.876854,40.894822999999995,40.86643,40.946397,40.904343999999995,40.912787,40.9162,40.955297,40.905961,40.928898,40.968447999999995,40.978071,40.981957,41.158722,41.161184999999996,41.113293,41.132162,41.088659,41.042065,41.051859,40.991509,41.042533,41.07307,41.070598,40.866659999999996,40.666371,40.578005999999995,40.590759,40.542896,40.575962,40.574528,40.624846999999995,40.700877,40.709436,40.756600999999996,40.997197,41.357338999999996,41.430641,41.43893,41.475605,41.480894,41.605711,41.617978,41.752538,41.774203,41.813731999999995,41.871607999999995,41.863800000000005,41.938917,41.999445,41.999067,42.243054,null,null],\"type\":\"scatter\"}],                        {\"annotations\":[{\"showarrow\":false,\"text\":\"<b></b>\",\"x\":1,\"xanchor\":\"right\",\"xref\":\"paper\",\"y\":1.05,\"yref\":\"paper\"}],\"dragmode\":\"select\",\"height\":450,\"hovermode\":\"closest\",\"legend\":{\"traceorder\":\"reversed\",\"x\":1,\"xanchor\":\"right\",\"y\":1,\"yanchor\":\"top\"},\"margin\":{\"b\":20,\"l\":20,\"r\":20,\"t\":40},\"template\":{\"data\":{\"barpolar\":[{\"marker\":{\"line\":{\"color\":\"#E5ECF6\",\"width\":0.5},\"pattern\":{\"fillmode\":\"overlay\",\"size\":10,\"solidity\":0.2}},\"type\":\"barpolar\"}],\"bar\":[{\"error_x\":{\"color\":\"#2a3f5f\"},\"error_y\":{\"color\":\"#2a3f5f\"},\"marker\":{\"line\":{\"color\":\"#E5ECF6\",\"width\":0.5},\"pattern\":{\"fillmode\":\"overlay\",\"size\":10,\"solidity\":0.2}},\"type\":\"bar\"}],\"carpet\":[{\"aaxis\":{\"endlinecolor\":\"#2a3f5f\",\"gridcolor\":\"white\",\"linecolor\":\"white\",\"minorgridcolor\":\"white\",\"startlinecolor\":\"#2a3f5f\"},\"baxis\":{\"endlinecolor\":\"#2a3f5f\",\"gridcolor\":\"white\",\"linecolor\":\"white\",\"minorgridcolor\":\"white\",\"startlinecolor\":\"#2a3f5f\"},\"type\":\"carpet\"}],\"choropleth\":[{\"colorbar\":{\"outlinewidth\":0,\"ticks\":\"\"},\"type\":\"choropleth\"}],\"contourcarpet\":[{\"colorbar\":{\"outlinewidth\":0,\"ticks\":\"\"},\"type\":\"contourcarpet\"}],\"contour\":[{\"colorbar\":{\"outlinewidth\":0,\"ticks\":\"\"},\"colorscale\":[[0.0,\"#0d0887\"],[0.1111111111111111,\"#46039f\"],[0.2222222222222222,\"#7201a8\"],[0.3333333333333333,\"#9c179e\"],[0.4444444444444444,\"#bd3786\"],[0.5555555555555556,\"#d8576b\"],[0.6666666666666666,\"#ed7953\"],[0.7777777777777778,\"#fb9f3a\"],[0.8888888888888888,\"#fdca26\"],[1.0,\"#f0f921\"]],\"type\":\"contour\"}],\"heatmapgl\":[{\"colorbar\":{\"outlinewidth\":0,\"ticks\":\"\"},\"colorscale\":[[0.0,\"#0d0887\"],[0.1111111111111111,\"#46039f\"],[0.2222222222222222,\"#7201a8\"],[0.3333333333333333,\"#9c179e\"],[0.4444444444444444,\"#bd3786\"],[0.5555555555555556,\"#d8576b\"],[0.6666666666666666,\"#ed7953\"],[0.7777777777777778,\"#fb9f3a\"],[0.8888888888888888,\"#fdca26\"],[1.0,\"#f0f921\"]],\"type\":\"heatmapgl\"}],\"heatmap\":[{\"colorbar\":{\"outlinewidth\":0,\"ticks\":\"\"},\"colorscale\":[[0.0,\"#0d0887\"],[0.1111111111111111,\"#46039f\"],[0.2222222222222222,\"#7201a8\"],[0.3333333333333333,\"#9c179e\"],[0.4444444444444444,\"#bd3786\"],[0.5555555555555556,\"#d8576b\"],[0.6666666666666666,\"#ed7953\"],[0.7777777777777778,\"#fb9f3a\"],[0.8888888888888888,\"#fdca26\"],[1.0,\"#f0f921\"]],\"type\":\"heatmap\"}],\"histogram2dcontour\":[{\"colorbar\":{\"outlinewidth\":0,\"ticks\":\"\"},\"colorscale\":[[0.0,\"#0d0887\"],[0.1111111111111111,\"#46039f\"],[0.2222222222222222,\"#7201a8\"],[0.3333333333333333,\"#9c179e\"],[0.4444444444444444,\"#bd3786\"],[0.5555555555555556,\"#d8576b\"],[0.6666666666666666,\"#ed7953\"],[0.7777777777777778,\"#fb9f3a\"],[0.8888888888888888,\"#fdca26\"],[1.0,\"#f0f921\"]],\"type\":\"histogram2dcontour\"}],\"histogram2d\":[{\"colorbar\":{\"outlinewidth\":0,\"ticks\":\"\"},\"colorscale\":[[0.0,\"#0d0887\"],[0.1111111111111111,\"#46039f\"],[0.2222222222222222,\"#7201a8\"],[0.3333333333333333,\"#9c179e\"],[0.4444444444444444,\"#bd3786\"],[0.5555555555555556,\"#d8576b\"],[0.6666666666666666,\"#ed7953\"],[0.7777777777777778,\"#fb9f3a\"],[0.8888888888888888,\"#fdca26\"],[1.0,\"#f0f921\"]],\"type\":\"histogram2d\"}],\"histogram\":[{\"marker\":{\"pattern\":{\"fillmode\":\"overlay\",\"size\":10,\"solidity\":0.2}},\"type\":\"histogram\"}],\"mesh3d\":[{\"colorbar\":{\"outlinewidth\":0,\"ticks\":\"\"},\"type\":\"mesh3d\"}],\"parcoords\":[{\"line\":{\"colorbar\":{\"outlinewidth\":0,\"ticks\":\"\"}},\"type\":\"parcoords\"}],\"pie\":[{\"automargin\":true,\"type\":\"pie\"}],\"scatter3d\":[{\"line\":{\"colorbar\":{\"outlinewidth\":0,\"ticks\":\"\"}},\"marker\":{\"colorbar\":{\"outlinewidth\":0,\"ticks\":\"\"}},\"type\":\"scatter3d\"}],\"scattercarpet\":[{\"marker\":{\"colorbar\":{\"outlinewidth\":0,\"ticks\":\"\"}},\"type\":\"scattercarpet\"}],\"scattergeo\":[{\"marker\":{\"colorbar\":{\"outlinewidth\":0,\"ticks\":\"\"}},\"type\":\"scattergeo\"}],\"scattergl\":[{\"marker\":{\"colorbar\":{\"outlinewidth\":0,\"ticks\":\"\"}},\"type\":\"scattergl\"}],\"scattermapbox\":[{\"marker\":{\"colorbar\":{\"outlinewidth\":0,\"ticks\":\"\"}},\"type\":\"scattermapbox\"}],\"scatterpolargl\":[{\"marker\":{\"colorbar\":{\"outlinewidth\":0,\"ticks\":\"\"}},\"type\":\"scatterpolargl\"}],\"scatterpolar\":[{\"marker\":{\"colorbar\":{\"outlinewidth\":0,\"ticks\":\"\"}},\"type\":\"scatterpolar\"}],\"scatter\":[{\"marker\":{\"colorbar\":{\"outlinewidth\":0,\"ticks\":\"\"}},\"type\":\"scatter\"}],\"scatterternary\":[{\"marker\":{\"colorbar\":{\"outlinewidth\":0,\"ticks\":\"\"}},\"type\":\"scatterternary\"}],\"surface\":[{\"colorbar\":{\"outlinewidth\":0,\"ticks\":\"\"},\"colorscale\":[[0.0,\"#0d0887\"],[0.1111111111111111,\"#46039f\"],[0.2222222222222222,\"#7201a8\"],[0.3333333333333333,\"#9c179e\"],[0.4444444444444444,\"#bd3786\"],[0.5555555555555556,\"#d8576b\"],[0.6666666666666666,\"#ed7953\"],[0.7777777777777778,\"#fb9f3a\"],[0.8888888888888888,\"#fdca26\"],[1.0,\"#f0f921\"]],\"type\":\"surface\"}],\"table\":[{\"cells\":{\"fill\":{\"color\":\"#EBF0F8\"},\"line\":{\"color\":\"white\"}},\"header\":{\"fill\":{\"color\":\"#C8D4E3\"},\"line\":{\"color\":\"white\"}},\"type\":\"table\"}]},\"layout\":{\"annotationdefaults\":{\"arrowcolor\":\"#2a3f5f\",\"arrowhead\":0,\"arrowwidth\":1},\"autotypenumbers\":\"strict\",\"coloraxis\":{\"colorbar\":{\"outlinewidth\":0,\"ticks\":\"\"}},\"colorscale\":{\"diverging\":[[0,\"#8e0152\"],[0.1,\"#c51b7d\"],[0.2,\"#de77ae\"],[0.3,\"#f1b6da\"],[0.4,\"#fde0ef\"],[0.5,\"#f7f7f7\"],[0.6,\"#e6f5d0\"],[0.7,\"#b8e186\"],[0.8,\"#7fbc41\"],[0.9,\"#4d9221\"],[1,\"#276419\"]],\"sequential\":[[0.0,\"#0d0887\"],[0.1111111111111111,\"#46039f\"],[0.2222222222222222,\"#7201a8\"],[0.3333333333333333,\"#9c179e\"],[0.4444444444444444,\"#bd3786\"],[0.5555555555555556,\"#d8576b\"],[0.6666666666666666,\"#ed7953\"],[0.7777777777777778,\"#fb9f3a\"],[0.8888888888888888,\"#fdca26\"],[1.0,\"#f0f921\"]],\"sequentialminus\":[[0.0,\"#0d0887\"],[0.1111111111111111,\"#46039f\"],[0.2222222222222222,\"#7201a8\"],[0.3333333333333333,\"#9c179e\"],[0.4444444444444444,\"#bd3786\"],[0.5555555555555556,\"#d8576b\"],[0.6666666666666666,\"#ed7953\"],[0.7777777777777778,\"#fb9f3a\"],[0.8888888888888888,\"#fdca26\"],[1.0,\"#f0f921\"]]},\"colorway\":[\"#636efa\",\"#EF553B\",\"#00cc96\",\"#ab63fa\",\"#FFA15A\",\"#19d3f3\",\"#FF6692\",\"#B6E880\",\"#FF97FF\",\"#FECB52\"],\"font\":{\"color\":\"#2a3f5f\"},\"geo\":{\"bgcolor\":\"white\",\"lakecolor\":\"white\",\"landcolor\":\"#E5ECF6\",\"showlakes\":true,\"showland\":true,\"subunitcolor\":\"white\"},\"hoverlabel\":{\"align\":\"left\"},\"hovermode\":\"closest\",\"mapbox\":{\"style\":\"light\"},\"paper_bgcolor\":\"white\",\"plot_bgcolor\":\"#E5ECF6\",\"polar\":{\"angularaxis\":{\"gridcolor\":\"white\",\"linecolor\":\"white\",\"ticks\":\"\"},\"bgcolor\":\"#E5ECF6\",\"radialaxis\":{\"gridcolor\":\"white\",\"linecolor\":\"white\",\"ticks\":\"\"}},\"scene\":{\"xaxis\":{\"backgroundcolor\":\"#E5ECF6\",\"gridcolor\":\"white\",\"gridwidth\":2,\"linecolor\":\"white\",\"showbackground\":true,\"ticks\":\"\",\"zerolinecolor\":\"white\"},\"yaxis\":{\"backgroundcolor\":\"#E5ECF6\",\"gridcolor\":\"white\",\"gridwidth\":2,\"linecolor\":\"white\",\"showbackground\":true,\"ticks\":\"\",\"zerolinecolor\":\"white\"},\"zaxis\":{\"backgroundcolor\":\"#E5ECF6\",\"gridcolor\":\"white\",\"gridwidth\":2,\"linecolor\":\"white\",\"showbackground\":true,\"ticks\":\"\",\"zerolinecolor\":\"white\"}},\"shapedefaults\":{\"line\":{\"color\":\"#2a3f5f\"}},\"ternary\":{\"aaxis\":{\"gridcolor\":\"white\",\"linecolor\":\"white\",\"ticks\":\"\"},\"baxis\":{\"gridcolor\":\"white\",\"linecolor\":\"white\",\"ticks\":\"\"},\"bgcolor\":\"#E5ECF6\",\"caxis\":{\"gridcolor\":\"white\",\"linecolor\":\"white\",\"ticks\":\"\"}},\"title\":{\"x\":0.05},\"xaxis\":{\"automargin\":true,\"gridcolor\":\"white\",\"linecolor\":\"white\",\"ticks\":\"\",\"title\":{\"standoff\":15},\"zerolinecolor\":\"white\",\"zerolinewidth\":2},\"yaxis\":{\"automargin\":true,\"gridcolor\":\"white\",\"linecolor\":\"white\",\"ticks\":\"\",\"title\":{\"standoff\":15},\"zerolinecolor\":\"white\",\"zerolinewidth\":2}}},\"width\":900,\"xaxis\":{\"autorange\":false,\"fixedrange\":true,\"range\":[-81.44411674999999,-70.17424924999999],\"showgrid\":false,\"showticklabels\":false,\"zeroline\":false},\"yaxis\":{\"autorange\":false,\"fixedrange\":true,\"range\":[40.507903,45.01585],\"showgrid\":false,\"showticklabels\":false,\"zeroline\":false}},                        {\"responsive\": true}                    ).then(function(){\n",
       "                            \n",
       "var gd = document.getElementById('23b7b842-fd41-46c0-82d9-48232f1935dc');\n",
       "var x = new MutationObserver(function (mutations, observer) {{\n",
       "        var display = window.getComputedStyle(gd).display;\n",
       "        if (!display || display === 'none') {{\n",
       "            console.log([gd, 'removed!']);\n",
       "            Plotly.purge(gd);\n",
       "            observer.disconnect();\n",
       "        }}\n",
       "}});\n",
       "\n",
       "// Listen for the removal of the full notebook cells\n",
       "var notebookContainer = gd.closest('#notebook-container');\n",
       "if (notebookContainer) {{\n",
       "    x.observe(notebookContainer, {childList: true});\n",
       "}}\n",
       "\n",
       "// Listen for the clearing of the current output cell\n",
       "var outputEl = gd.closest('.output');\n",
       "if (outputEl) {{\n",
       "    x.observe(outputEl, {childList: true});\n",
       "}}\n",
       "\n",
       "                        })                };                });            </script>        </div>"
      ]
     },
     "metadata": {},
     "output_type": "display_data"
    }
   ],
   "source": [
    "# display all counties\n",
    "#pip install plotly-geo\n",
    "import plotly.figure_factory as ff\n",
    "\n",
    "values = ny2['Income']\n",
    "\n",
    "fig = ff.create_choropleth(fips=ny2['FIPS'], \n",
    "                            values=values, \n",
    "                            scope=['NY'], \n",
    "                            county_outline={'color': 'rgb(255,255,255)', 'width': 0.5})\n",
    "iplot(fig)"
   ]
  },
  {
   "cell_type": "code",
   "execution_count": 20,
   "metadata": {
    "colab": {},
    "colab_type": "code",
    "id": "34QMqsDXjpcW"
   },
   "outputs": [],
   "source": [
    "# export\n",
    "# va2.to_pickle('va-stats.pkl')"
   ]
  },
  {
   "cell_type": "code",
   "execution_count": 21,
   "metadata": {
    "colab": {},
    "colab_type": "code",
    "id": "3YO6nBqpjpcY"
   },
   "outputs": [],
   "source": [
    "counties2['FIPS'].dtype\n",
    "counties2['fips']=counties2['FIPS'].astype(str)"
   ]
  },
  {
   "cell_type": "code",
   "execution_count": 21,
   "metadata": {
    "colab": {
     "base_uri": "https://localhost:8080/",
     "height": 542
    },
    "colab_type": "code",
    "id": "HHabBZIUjpcc",
    "outputId": "2d5b3fff-c70f-443a-f062-ff137332794b"
   },
   "outputs": [
    {
     "ename": "KeyError",
     "evalue": "'fips'",
     "output_type": "error",
     "traceback": [
      "\u001b[0;31m---------------------------------------------------------------------------\u001b[0m",
      "\u001b[0;31mKeyError\u001b[0m                                  Traceback (most recent call last)",
      "File \u001b[0;32m/opt/miniconda3/envs/prj6/lib/python3.10/site-packages/pandas/core/indexes/base.py:3621\u001b[0m, in \u001b[0;36mIndex.get_loc\u001b[0;34m(self, key, method, tolerance)\u001b[0m\n\u001b[1;32m   3620\u001b[0m \u001b[38;5;28;01mtry\u001b[39;00m:\n\u001b[0;32m-> 3621\u001b[0m     \u001b[38;5;28;01mreturn\u001b[39;00m \u001b[38;5;28;43mself\u001b[39;49m\u001b[38;5;241;43m.\u001b[39;49m\u001b[43m_engine\u001b[49m\u001b[38;5;241;43m.\u001b[39;49m\u001b[43mget_loc\u001b[49m\u001b[43m(\u001b[49m\u001b[43mcasted_key\u001b[49m\u001b[43m)\u001b[49m\n\u001b[1;32m   3622\u001b[0m \u001b[38;5;28;01mexcept\u001b[39;00m \u001b[38;5;167;01mKeyError\u001b[39;00m \u001b[38;5;28;01mas\u001b[39;00m err:\n",
      "File \u001b[0;32m/opt/miniconda3/envs/prj6/lib/python3.10/site-packages/pandas/_libs/index.pyx:136\u001b[0m, in \u001b[0;36mpandas._libs.index.IndexEngine.get_loc\u001b[0;34m()\u001b[0m\n",
      "File \u001b[0;32m/opt/miniconda3/envs/prj6/lib/python3.10/site-packages/pandas/_libs/index.pyx:163\u001b[0m, in \u001b[0;36mpandas._libs.index.IndexEngine.get_loc\u001b[0;34m()\u001b[0m\n",
      "File \u001b[0;32mpandas/_libs/hashtable_class_helper.pxi:5198\u001b[0m, in \u001b[0;36mpandas._libs.hashtable.PyObjectHashTable.get_item\u001b[0;34m()\u001b[0m\n",
      "File \u001b[0;32mpandas/_libs/hashtable_class_helper.pxi:5206\u001b[0m, in \u001b[0;36mpandas._libs.hashtable.PyObjectHashTable.get_item\u001b[0;34m()\u001b[0m\n",
      "\u001b[0;31mKeyError\u001b[0m: 'fips'",
      "\nThe above exception was the direct cause of the following exception:\n",
      "\u001b[0;31mKeyError\u001b[0m                                  Traceback (most recent call last)",
      "Input \u001b[0;32mIn [21]\u001b[0m, in \u001b[0;36m<cell line: 5>\u001b[0;34m()\u001b[0m\n\u001b[1;32m      3\u001b[0m \u001b[38;5;28;01mwith\u001b[39;00m urlopen(\u001b[38;5;124m'\u001b[39m\u001b[38;5;124mhttps://raw.githubusercontent.com/plotly/datasets/master/geojson-counties-fips.json\u001b[39m\u001b[38;5;124m'\u001b[39m) \u001b[38;5;28;01mas\u001b[39;00m response:\n\u001b[1;32m      4\u001b[0m     countiesx \u001b[38;5;241m=\u001b[39m json\u001b[38;5;241m.\u001b[39mload(response)\n\u001b[1;32m      5\u001b[0m fig \u001b[38;5;241m=\u001b[39m go\u001b[38;5;241m.\u001b[39mFigure(go\u001b[38;5;241m.\u001b[39mChoroplethmapbox(geojson\u001b[38;5;241m=\u001b[39mcountiesx, \n\u001b[0;32m----> 6\u001b[0m                                     locations\u001b[38;5;241m=\u001b[39m\u001b[43mcounties\u001b[49m\u001b[43m[\u001b[49m\u001b[38;5;124;43m'\u001b[39;49m\u001b[38;5;124;43mfips\u001b[39;49m\u001b[38;5;124;43m'\u001b[39;49m\u001b[43m]\u001b[49m, \n\u001b[1;32m      7\u001b[0m                                     z\u001b[38;5;241m=\u001b[39mcounties2[\u001b[38;5;124m'\u001b[39m\u001b[38;5;124mIncome\u001b[39m\u001b[38;5;124m'\u001b[39m],\n\u001b[1;32m      8\u001b[0m                                     colorscale\u001b[38;5;241m=\u001b[39m\u001b[38;5;124m'\u001b[39m\u001b[38;5;124mElectric\u001b[39m\u001b[38;5;124m'\u001b[39m, \n\u001b[1;32m      9\u001b[0m                                     text\u001b[38;5;241m=\u001b[39mcounties2[\u001b[38;5;124m'\u001b[39m\u001b[38;5;124mCounty\u001b[39m\u001b[38;5;124m'\u001b[39m],\n\u001b[1;32m     10\u001b[0m                                     zmin\u001b[38;5;241m=\u001b[39m\u001b[38;5;241m0\u001b[39m, \n\u001b[1;32m     11\u001b[0m                                     zmax\u001b[38;5;241m=\u001b[39m\u001b[38;5;241m100000\u001b[39m,\n\u001b[1;32m     12\u001b[0m                                     marker_line_width\u001b[38;5;241m=\u001b[39m\u001b[38;5;241m0\u001b[39m))\n\u001b[1;32m     13\u001b[0m fig\u001b[38;5;241m.\u001b[39mupdate_layout(mapbox_style\u001b[38;5;241m=\u001b[39m\u001b[38;5;124m\"\u001b[39m\u001b[38;5;124mcarto-positron\u001b[39m\u001b[38;5;124m\"\u001b[39m,\n\u001b[1;32m     14\u001b[0m                   mapbox_zoom\u001b[38;5;241m=\u001b[39m\u001b[38;5;241m5.8\u001b[39m, mapbox_center \u001b[38;5;241m=\u001b[39m {\u001b[38;5;124m\"\u001b[39m\u001b[38;5;124mlat\u001b[39m\u001b[38;5;124m\"\u001b[39m: \u001b[38;5;241m38.0293\u001b[39m, \u001b[38;5;124m\"\u001b[39m\u001b[38;5;124mlon\u001b[39m\u001b[38;5;124m\"\u001b[39m: \u001b[38;5;241m-\u001b[39m\u001b[38;5;241m79.4428\u001b[39m})\n\u001b[1;32m     15\u001b[0m fig\u001b[38;5;241m.\u001b[39mupdate_layout(margin\u001b[38;5;241m=\u001b[39m{\u001b[38;5;124m\"\u001b[39m\u001b[38;5;124mr\u001b[39m\u001b[38;5;124m\"\u001b[39m:\u001b[38;5;241m0\u001b[39m,\u001b[38;5;124m\"\u001b[39m\u001b[38;5;124mt\u001b[39m\u001b[38;5;124m\"\u001b[39m:\u001b[38;5;241m0\u001b[39m,\u001b[38;5;124m\"\u001b[39m\u001b[38;5;124ml\u001b[39m\u001b[38;5;124m\"\u001b[39m:\u001b[38;5;241m0\u001b[39m,\u001b[38;5;124m\"\u001b[39m\u001b[38;5;124mb\u001b[39m\u001b[38;5;124m\"\u001b[39m:\u001b[38;5;241m0\u001b[39m})\n",
      "File \u001b[0;32m/opt/miniconda3/envs/prj6/lib/python3.10/site-packages/pandas/core/frame.py:3505\u001b[0m, in \u001b[0;36mDataFrame.__getitem__\u001b[0;34m(self, key)\u001b[0m\n\u001b[1;32m   3503\u001b[0m \u001b[38;5;28;01mif\u001b[39;00m \u001b[38;5;28mself\u001b[39m\u001b[38;5;241m.\u001b[39mcolumns\u001b[38;5;241m.\u001b[39mnlevels \u001b[38;5;241m>\u001b[39m \u001b[38;5;241m1\u001b[39m:\n\u001b[1;32m   3504\u001b[0m     \u001b[38;5;28;01mreturn\u001b[39;00m \u001b[38;5;28mself\u001b[39m\u001b[38;5;241m.\u001b[39m_getitem_multilevel(key)\n\u001b[0;32m-> 3505\u001b[0m indexer \u001b[38;5;241m=\u001b[39m \u001b[38;5;28;43mself\u001b[39;49m\u001b[38;5;241;43m.\u001b[39;49m\u001b[43mcolumns\u001b[49m\u001b[38;5;241;43m.\u001b[39;49m\u001b[43mget_loc\u001b[49m\u001b[43m(\u001b[49m\u001b[43mkey\u001b[49m\u001b[43m)\u001b[49m\n\u001b[1;32m   3506\u001b[0m \u001b[38;5;28;01mif\u001b[39;00m is_integer(indexer):\n\u001b[1;32m   3507\u001b[0m     indexer \u001b[38;5;241m=\u001b[39m [indexer]\n",
      "File \u001b[0;32m/opt/miniconda3/envs/prj6/lib/python3.10/site-packages/pandas/core/indexes/base.py:3623\u001b[0m, in \u001b[0;36mIndex.get_loc\u001b[0;34m(self, key, method, tolerance)\u001b[0m\n\u001b[1;32m   3621\u001b[0m     \u001b[38;5;28;01mreturn\u001b[39;00m \u001b[38;5;28mself\u001b[39m\u001b[38;5;241m.\u001b[39m_engine\u001b[38;5;241m.\u001b[39mget_loc(casted_key)\n\u001b[1;32m   3622\u001b[0m \u001b[38;5;28;01mexcept\u001b[39;00m \u001b[38;5;167;01mKeyError\u001b[39;00m \u001b[38;5;28;01mas\u001b[39;00m err:\n\u001b[0;32m-> 3623\u001b[0m     \u001b[38;5;28;01mraise\u001b[39;00m \u001b[38;5;167;01mKeyError\u001b[39;00m(key) \u001b[38;5;28;01mfrom\u001b[39;00m \u001b[38;5;21;01merr\u001b[39;00m\n\u001b[1;32m   3624\u001b[0m \u001b[38;5;28;01mexcept\u001b[39;00m \u001b[38;5;167;01mTypeError\u001b[39;00m:\n\u001b[1;32m   3625\u001b[0m     \u001b[38;5;66;03m# If we have a listlike key, _check_indexing_error will raise\u001b[39;00m\n\u001b[1;32m   3626\u001b[0m     \u001b[38;5;66;03m#  InvalidIndexError. Otherwise we fall through and re-raise\u001b[39;00m\n\u001b[1;32m   3627\u001b[0m     \u001b[38;5;66;03m#  the TypeError.\u001b[39;00m\n\u001b[1;32m   3628\u001b[0m     \u001b[38;5;28mself\u001b[39m\u001b[38;5;241m.\u001b[39m_check_indexing_error(key)\n",
      "\u001b[0;31mKeyError\u001b[0m: 'fips'"
     ]
    }
   ],
   "source": [
    "from urllib.request import urlopen\n",
    "import json\n",
    "with urlopen('https://raw.githubusercontent.com/plotly/datasets/master/geojson-counties-fips.json') as response:\n",
    "    countiesx = json.load(response)\n",
    "fig = go.Figure(go.Choroplethmapbox(geojson=countiesx, \n",
    "                                    locations=counties['fips'], \n",
    "                                    z=counties2['Income'],\n",
    "                                    colorscale='Electric', \n",
    "                                    text=counties2['County'],\n",
    "                                    zmin=0, \n",
    "                                    zmax=100000,\n",
    "                                    marker_line_width=0))\n",
    "fig.update_layout(mapbox_style=\"carto-positron\",\n",
    "                  mapbox_zoom=5.8, mapbox_center = {\"lat\": 38.0293, \"lon\": -79.4428})\n",
    "fig.update_layout(margin={\"r\":0,\"t\":0,\"l\":0,\"b\":0})\n",
    "#fig.show()\n",
    "iplot(fig)\n",
    "# https://community.plot.ly/t/what-colorscales-are-available-in-plotly-and-which-are-the-default/2079"
   ]
  },
  {
   "cell_type": "code",
   "execution_count": 0,
   "metadata": {
    "colab": {},
    "colab_type": "code",
    "id": "U7eezUHXjpck"
   },
   "outputs": [],
   "source": []
  }
 ],
 "metadata": {
  "colab": {
   "name": "virginia-eda.ipynb",
   "provenance": []
  },
  "kernelspec": {
   "display_name": "Python 3 (ipykernel)",
   "language": "python",
   "name": "python3"
  },
  "language_info": {
   "codemirror_mode": {
    "name": "ipython",
    "version": 3
   },
   "file_extension": ".py",
   "mimetype": "text/x-python",
   "name": "python",
   "nbconvert_exporter": "python",
   "pygments_lexer": "ipython3",
   "version": "3.10.4"
  }
 },
 "nbformat": 4,
 "nbformat_minor": 1
}
